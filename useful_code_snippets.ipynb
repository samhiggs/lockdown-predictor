{
 "cells": [
  {
   "cell_type": "markdown",
   "metadata": {},
   "source": [
    "### Loading Data into S3 through APIs"
   ]
  },
  {
   "cell_type": "code",
   "execution_count": null,
   "metadata": {},
   "outputs": [],
   "source": [
    "# AWS Libraries/APIs\n",
    "# import boto3\n",
    "# import sagemaker\n",
    "# import botocore\n",
    "# low-level service client of the boto3 session\n",
    "# sm = boto3.client(service_name='sagemaker', \n",
    "#                   config=config)\n",
    "\n",
    "# sm_runtime = boto3.client('sagemaker-runtime',\n",
    "#                           config=config)\n",
    "\n",
    "# sess = sagemaker.Session(sagemaker_client=sm,\n",
    "#                          sagemaker_runtime_client=sm_runtime)\n",
    "\n",
    "# bucket = sess.default_bucket()\n",
    "# role = sagemaker.get_execution_role()\n",
    "# region = sess.boto_region_name\n",
    "\n",
    "# s3 = boto3.Session().client(service_name='s3', \n",
    "#                             config=config)\n",
    "\n",
    "# from sagemaker.s3 import S3Downloader, S3Uploader\n",
    "\n",
    "# s3_uri = 's3://projects/lockdown-predictor/'\n",
    "# data_uri = s3_uri + 'data/' \n",
    "# S3Downloader().download(data_uri, 'data/')\n",
    "\n",
    "# S3Uploader().upload(data_uri, 'data/')"
   ]
  },
  {
   "cell_type": "markdown",
   "metadata": {},
   "source": [
    "### Twitter API"
   ]
  },
  {
   "cell_type": "code",
   "execution_count": null,
   "metadata": {},
   "outputs": [],
   "source": [
    "import yaml, requests\n",
    "try:\n",
    "    creds = yaml.safe_load(open('credentials.yml'))\n",
    "    twitter_creds = creds['twitter']\n",
    "\n",
    "    TWITTER_API_KEY = twitter_creds['API_KEY']\n",
    "    TWITTER_API_SECRET_KEY = twitter_creds['API_SECRET_KEY']\n",
    "    TWITTER_BEARER_TOKEN = twitter_creds['BEARER_TOKEN']\n",
    "except Exception:\n",
    "    raise Exception('''If you want twitter data you will need to setup your keys in a credentials.yml file\n",
    "    twitter:\n",
    "        API_KEY: XXX\n",
    "        API_SECRET_KEY: XXX\n",
    "        BEARER_TOKEN: XXX''')\n",
    "    \n",
    "# To set your environment variables in your terminal run the following line:\n",
    "# export 'BEARER_TOKEN'='<your_bearer_token>'\n",
    "bearer_token = TWITTER_BEARER_TOKEN\n",
    "\n",
    "search_url = \"https://api.twitter.com/2/tweets/search/recent\"\n",
    "\n",
    "# Optional params: start_time,end_time,since_id,until_id,max_results,next_token,\n",
    "# expansions,tweet.fields,media.fields,poll.fields,place.fields,user.fields\n",
    "query_params = {\n",
    "    'query': '(from:twitterdev -is:retweet) OR #twitterdev',\n",
    "    'tweet.fields': 'context_annotations,created_at,public_metrics',\n",
    "    'expansions': ''\n",
    "}\n",
    "\n",
    "\n",
    "def bearer_oauth(r):\n",
    "    \"\"\"\n",
    "    Method required by bearer token authentication.\n",
    "    \"\"\"\n",
    "\n",
    "    r.headers[\"Authorization\"] = f\"Bearer {bearer_token}\"\n",
    "    r.headers[\"User-Agent\"] = \"v2RecentSearchPython\"\n",
    "    return r\n",
    "\n",
    "def connect_to_endpoint(url, params):\n",
    "    response = requests.get(url, auth=bearer_oauth, params=params)\n",
    "    print(response.status_code)\n",
    "    if response.status_code != 200:\n",
    "        raise Exception(response.status_code, response.text)\n",
    "    return response.json()\n",
    "    \n",
    "json_response = connect_to_endpoint(search_url, query_params)"
   ]
  }
 ],
 "metadata": {
  "kernelspec": {
   "display_name": "",
   "name": ""
  },
  "language_info": {
   "name": ""
  }
 },
 "nbformat": 4,
 "nbformat_minor": 4
}
