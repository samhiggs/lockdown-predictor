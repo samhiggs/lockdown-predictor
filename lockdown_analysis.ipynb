{
 "cells": [
  {
   "cell_type": "code",
   "execution_count": 3,
   "metadata": {},
   "outputs": [],
   "source": [
    "import requests, json, logging\n",
    "from pathlib import Path\n",
    "\n",
    "import pandas as pd\n",
    "import numpy as np"
   ]
  },
  {
   "cell_type": "code",
   "execution_count": 75,
   "metadata": {},
   "outputs": [],
   "source": [
    "def load_data() -> pd.DataFrame:\n",
    "    \"\"\"Loads data from data nsw and in future, other data sources\"\"\"\n",
    "    \n",
    "    def get_data_nsw(resource_id: str) -> pd.DataFrame:\n",
    "        \"\"\"Retrieve json data object and convert to pandas dataframe\"\"\"\n",
    "    \n",
    "        # Query API\n",
    "        url = f'https://data.nsw.gov.au/data/api/3/action/datastore_search?resource_id={resource_id}&limit=100000'  \n",
    "        res = requests.get(url)\n",
    "        records = res.json()['result']['records']\n",
    "\n",
    "        # Convert to dataframe\n",
    "        df = pd.DataFrame(records)\n",
    "\n",
    "        # Get daily values\n",
    "        df = pd.to_datetime(df.iloc[:,0]).dt.floor('d').value_counts().rename_axis('date').reset_index(name='count')\n",
    "        \n",
    "        return df\n",
    "    \n",
    "    # resource IDS for data nsw APIs \n",
    "    resource_ids = {\n",
    "        'testing': '945c6204-272a-4cad-8e33-dde791f5059a',\n",
    "        'cases': '21304414-1ff1-4243-a5d2-f52778048b29'\n",
    "    }\n",
    "    \n",
    "    cases_df = get_data_nsw(resource_ids['cases'])\n",
    "    tests_df = get_data_nsw(resource_ids['testing'])\n",
    "    \n",
    "    df = pd.merge(cases_df, tests_df, how='inner')\n",
    "    # Load Google Trends\n",
    "    df[\"lockdown_trend\"] = None\n",
    "    # Load Twitter?\n",
    "    \n",
    "    df[\"news\"] = None\n",
    "    \n",
    "    # Save to csv\n",
    "    df.to_csv(\"data/raw_data.csv\")\n",
    "    return df\n",
    "\n",
    "df = load_data()"
   ]
  },
  {
   "cell_type": "code",
   "execution_count": 76,
   "metadata": {},
   "outputs": [
    {
     "data": {
      "text/html": [
       "<div>\n",
       "<style scoped>\n",
       "    .dataframe tbody tr th:only-of-type {\n",
       "        vertical-align: middle;\n",
       "    }\n",
       "\n",
       "    .dataframe tbody tr th {\n",
       "        vertical-align: top;\n",
       "    }\n",
       "\n",
       "    .dataframe thead th {\n",
       "        text-align: right;\n",
       "    }\n",
       "</style>\n",
       "<table border=\"1\" class=\"dataframe\">\n",
       "  <thead>\n",
       "    <tr style=\"text-align: right;\">\n",
       "      <th></th>\n",
       "      <th>date</th>\n",
       "      <th>count</th>\n",
       "      <th>lockdown_trend</th>\n",
       "      <th>news</th>\n",
       "    </tr>\n",
       "  </thead>\n",
       "  <tbody>\n",
       "  </tbody>\n",
       "</table>\n",
       "</div>"
      ],
      "text/plain": [
       "Empty DataFrame\n",
       "Columns: [date, count, lockdown_trend, news]\n",
       "Index: []"
      ]
     },
     "execution_count": 76,
     "metadata": {},
     "output_type": "execute_result"
    }
   ],
   "source": [
    "# df.set_index('date', inplace=True)\n",
    "df.head()"
   ]
  },
  {
   "cell_type": "code",
   "execution_count": 53,
   "metadata": {},
   "outputs": [],
   "source": [
    "import matplotlib.pyplot as plt"
   ]
  },
  {
   "cell_type": "code",
   "execution_count": 62,
   "metadata": {},
   "outputs": [
    {
     "data": {
      "text/plain": [
       "<matplotlib.axes._subplots.AxesSubplot at 0x7ff0ea7dc250>"
      ]
     },
     "execution_count": 62,
     "metadata": {},
     "output_type": "execute_result"
    },
    {
     "data": {
      "image/png": "[encoded data removed]",
      "text/plain": [
       "<Figure size 432x288 with 4 Axes>"
      ]
     },
     "metadata": {
      "needs_background": "light"
     },
     "output_type": "display_data"
    }
   ],
   "source": [
    "fig, axes = plt.subplots(nrows=2, ncols=2)\n",
    "df.index.year.value_counts().plot.bar(ax=axes[0,0])\n",
    "df.index.month.value_counts().plot.bar(ax=axes[0,1])"
   ]
  },
  {
   "cell_type": "code",
   "execution_count": 64,
   "metadata": {},
   "outputs": [
    {
     "data": {
      "text/plain": [
       "<matplotlib.axes._subplots.AxesSubplot at 0x7ff0e9eaaf50>"
      ]
     },
     "execution_count": 64,
     "metadata": {},
     "output_type": "execute_result"
    },
    {
     "data": {
      "image/png": "[encoded data removed]",
      "text/plain": [
       "<Figure size 432x288 with 1 Axes>"
      ]
     },
     "metadata": {
      "needs_background": "light"
     },
     "output_type": "display_data"
    }
   ],
   "source": [
    "df.plot()"
   ]
  },
  {
   "cell_type": "code",
   "execution_count": null,
   "metadata": {},
   "outputs": [],
   "source": [
    "def print_ts(df: pd.DataFrame) -> None:\n",
    "    pass\n",
    "\n"
   ]
  }
 ],
 "metadata": {
  "instance_type": "ml.t3.medium",
  "kernelspec": {
   "display_name": "Python 3 (Data Science)",
   "language": "python",
   "name": "python3__SAGEMAKER_INTERNAL__arn:aws:sagemaker:ap-southeast-2:452832661640:image/datascience-1.0"
  },
  "language_info": {
   "codemirror_mode": {
    "name": "ipython",
    "version": 3
   },
   "file_extension": ".py",
   "mimetype": "text/x-python",
   "name": "python",
   "nbconvert_exporter": "python",
   "pygments_lexer": "ipython3",
   "version": "3.7.10"
  }
 },
 "nbformat": 4,
 "nbformat_minor": 4
}
