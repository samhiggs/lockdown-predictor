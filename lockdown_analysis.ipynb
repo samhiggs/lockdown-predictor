{
 "cells": [
  {
   "cell_type": "markdown",
   "metadata": {},
   "source": [
    "# Forecasting Cases and Lockdowns"
   ]
  },
  {
   "cell_type": "markdown",
   "metadata": {},
   "source": [
    "The aim of this project is to plan holidays and life around lockdown by predicting when NSW lockdown will cease. There is a time series dataset of [cases](https://data.nsw.gov.au/nsw-covid-19-data/cases) available through open data NSW and a website which has key [summaries of announcements](https://www.aph.gov.au/About_Parliament/Parliamentary_Departments/Parliamentary_Library/pubs/rp/rp2021/Chronologies/COVID-19StateTerritoryGovernmentAnnouncements).\n",
    "<br>  \n",
    "The model will predict the confidence across a range of dates, and the visible output will be a probability distribution across a 2 week period with the mid date being the most likely date.\n",
    "<br>  \n",
    "The model will be retrained daily, in the afternoon once the daily case data and new announcements have come in.\n",
    "<br>  \n",
    "The data will be available through a streamlit dashboard with the Date clearly visible and a plotly graph showing the probabilities.\n",
    "\n",
    "\n",
    "Ideas:  \n",
    "- probability of compliance with stay at home orders\n"
   ]
  },
  {
   "cell_type": "markdown",
   "metadata": {},
   "source": [
    "Ideas:\n",
    "- Look at optimal placement of vaccination centres based on population, cases, transmission rates and severe cases"
   ]
  },
  {
   "cell_type": "code",
   "execution_count": 3,
   "metadata": {
    "collapsed": true,
    "jupyter": {
     "outputs_hidden": true
    }
   },
   "outputs": [
    {
     "name": "stdout",
     "output_type": "stream",
     "text": [
      "\u001b[33mWARNING: Value for scheme.headers does not match. Please report this to <https://github.com/pypa/pip/issues/9617>\n",
      "distutils: /opt/conda/include/python3.6m/UNKNOWN\n",
      "sysconfig: /opt/conda/include/python3.6m\u001b[0m\n",
      "\u001b[33mWARNING: Additional context:\n",
      "user = False\n",
      "home = None\n",
      "root = None\n",
      "prefix = None\u001b[0m\n",
      "Collecting plotly\n",
      "  Using cached plotly-5.1.0-py2.py3-none-any.whl (20.6 MB)\n",
      "Requirement already satisfied: six in /opt/conda/lib/python3.6/site-packages (from plotly) (1.15.0)\n",
      "Collecting tenacity>=6.2.0\n",
      "  Using cached tenacity-8.0.1-py3-none-any.whl (24 kB)\n",
      "Installing collected packages: tenacity, plotly\n",
      "\u001b[33mWARNING: Value for scheme.headers does not match. Please report this to <https://github.com/pypa/pip/issues/9617>\n",
      "distutils: /opt/conda/include/python3.6m/UNKNOWN\n",
      "sysconfig: /opt/conda/include/python3.6m\u001b[0m\n",
      "\u001b[33mWARNING: Additional context:\n",
      "user = False\n",
      "home = None\n",
      "root = None\n",
      "prefix = None\u001b[0m\n",
      "Successfully installed plotly-5.1.0 tenacity-8.0.1\n",
      "\u001b[33mWARNING: Running pip as root will break packages and permissions. You should install packages reliably by using venv: https://pip.pypa.io/warnings/venv\u001b[0m\n"
     ]
    }
   ],
   "source": [
    "!pip install plotly\n",
    "conda install -c conda-forge nbformat"
   ]
  },
  {
   "cell_type": "code",
   "execution_count": 255,
   "metadata": {},
   "outputs": [
    {
     "name": "stdout",
     "output_type": "stream",
     "text": [
      "\u001b[33mWARNING: Value for scheme.headers does not match. Please report this to <https://github.com/pypa/pip/issues/9617>\n",
      "distutils: /opt/conda/include/python3.6m/UNKNOWN\n",
      "sysconfig: /opt/conda/include/python3.6m\u001b[0m\n",
      "\u001b[33mWARNING: Additional context:\n",
      "user = False\n",
      "home = None\n",
      "root = None\n",
      "prefix = None\u001b[0m\n",
      "Collecting pytrends\n",
      "  Downloading pytrends-4.7.3-py3-none-any.whl (14 kB)\n",
      "Requirement already satisfied: pandas>=0.25 in /opt/conda/lib/python3.6/site-packages (from pytrends) (1.1.5)\n",
      "Requirement already satisfied: lxml in /opt/conda/lib/python3.6/site-packages (from pytrends) (4.6.3)\n",
      "Requirement already satisfied: requests in /opt/conda/lib/python3.6/site-packages (from pytrends) (2.25.1)\n",
      "Requirement already satisfied: python-dateutil>=2.7.3 in /opt/conda/lib/python3.6/site-packages (from pandas>=0.25->pytrends) (2.8.1)\n",
      "Requirement already satisfied: pytz>=2017.2 in /opt/conda/lib/python3.6/site-packages (from pandas>=0.25->pytrends) (2021.1)\n",
      "Requirement already satisfied: numpy>=1.15.4 in /opt/conda/lib/python3.6/site-packages (from pandas>=0.25->pytrends) (1.19.1)\n",
      "Requirement already satisfied: six>=1.5 in /opt/conda/lib/python3.6/site-packages (from python-dateutil>=2.7.3->pandas>=0.25->pytrends) (1.15.0)\n",
      "Requirement already satisfied: idna<3,>=2.5 in /opt/conda/lib/python3.6/site-packages (from requests->pytrends) (2.10)\n",
      "Requirement already satisfied: chardet<5,>=3.0.2 in /opt/conda/lib/python3.6/site-packages (from requests->pytrends) (3.0.4)\n",
      "Requirement already satisfied: urllib3<1.27,>=1.21.1 in /opt/conda/lib/python3.6/site-packages (from requests->pytrends) (1.25.11)\n",
      "Requirement already satisfied: certifi>=2017.4.17 in /opt/conda/lib/python3.6/site-packages (from requests->pytrends) (2021.5.30)\n",
      "Installing collected packages: pytrends\n",
      "\u001b[33mWARNING: Value for scheme.headers does not match. Please report this to <https://github.com/pypa/pip/issues/9617>\n",
      "distutils: /opt/conda/include/python3.6m/UNKNOWN\n",
      "sysconfig: /opt/conda/include/python3.6m\u001b[0m\n",
      "\u001b[33mWARNING: Additional context:\n",
      "user = False\n",
      "home = None\n",
      "root = None\n",
      "prefix = None\u001b[0m\n",
      "Successfully installed pytrends-4.7.3\n",
      "\u001b[33mWARNING: Running pip as root will break packages and permissions. You should install packages reliably by using venv: https://pip.pypa.io/warnings/venv\u001b[0m\n"
     ]
    }
   ],
   "source": [
    "!pip install pytrends"
   ]
  },
  {
   "cell_type": "code",
   "execution_count": 148,
   "metadata": {},
   "outputs": [],
   "source": [
    "import requests, json, logging, errno, os\n",
    "from typing import List\n",
    "from datetime import datetime, timedelta\n",
    "from pathlib import Path\n",
    "\n",
    "from bs4 import BeautifulSoup\n",
    "\n",
    "import pandas as pd\n",
    "import numpy as np\n",
    "# from prophet import? Prophet\n",
    "\n",
    "# Vis libraries\n",
    "import matplotlib.pyplot as plt\n",
    "import plotly.express as px\n",
    "import plotly.graph_objs as go\n",
    "from plotly.offline import iplot"
   ]
  },
  {
   "cell_type": "code",
   "execution_count": 337,
   "metadata": {},
   "outputs": [],
   "source": [
    "from pytrends.request import TrendReq\n",
    "from pytrends import dailydata"
   ]
  },
  {
   "cell_type": "code",
   "execution_count": 311,
   "metadata": {},
   "outputs": [],
   "source": [
    "def plot_dataset(df: pd.DataFrame, col: str, title: str = '', overlay: bool = False, overlay_col: str = None):\n",
    "    data = []\n",
    "    value = go.Scatter(\n",
    "        x=df.index,\n",
    "        y=df[col],\n",
    "        mode=\"lines\",\n",
    "        name=\"count\",\n",
    "        marker=dict(),\n",
    "        text=df.index,\n",
    "        line=dict(color=\"rgba(207,0,15, 0.7)\"),\n",
    "    )\n",
    "    data.append(value)\n",
    "\n",
    "    if overlay:\n",
    "        ann_df = df[~df[overlay_col].isna()]\n",
    "        announcements = go.Scatter(\n",
    "            x=ann_df.index,\n",
    "            y=ann_df[overlay_col],\n",
    "            mode='markers',\n",
    "            name='media announcements',\n",
    "            text=ann_df[overlay_col],\n",
    "            textposition=\"top right\",\n",
    "            textfont=dict(\n",
    "                family=\"sans serif\",\n",
    "                size=6,\n",
    "                color=\"crimson\"\n",
    "            ),\n",
    "            line=dict(color=\"rgba(0,207,15, 1.0)\")\n",
    "        )\n",
    "        data.append(announcements)\n",
    "\n",
    "    layout = dict(\n",
    "        title=title,\n",
    "        xaxis=dict(title=\"Date\", ticklen=5, zeroline=False),\n",
    "        yaxis=dict(title=\"Count\", ticklen=5, zeroline=False),\n",
    "    )\n",
    "\n",
    "    fig = dict(data=data, layout=layout)\n",
    "    iplot(fig)"
   ]
  },
  {
   "cell_type": "markdown",
   "metadata": {},
   "source": [
    "## 1. Load"
   ]
  },
  {
   "cell_type": "markdown",
   "metadata": {},
   "source": [
    "### 1.1 Load Case Data"
   ]
  },
  {
   "cell_type": "code",
   "execution_count": 410,
   "metadata": {},
   "outputs": [],
   "source": [
    "def get_case_data(from_csv: bool = True) -> pd.DataFrame:\n",
    "    \"\"\"Loads data from data nsw and in future, other data sources.\"\"\"\n",
    "    \n",
    "    \n",
    "    if from_csv:\n",
    "        return load_case_data()\n",
    "    \n",
    "    def get_data_nsw(resource_id: str, counts_col: str = None) -> pd.DataFrame:\n",
    "        \"\"\"Retrieve json data object and convert to pandas dataframe\"\"\"\n",
    "    \n",
    "        # Query API\n",
    "        url = f'https://data.nsw.gov.au/data/api/3/action/datastore_search?resource_id={resource_id}&limit=100000'  \n",
    "        res = requests.get(url)\n",
    "        records = res.json()['result']['records']\n",
    "\n",
    "        # Convert to dataframe\n",
    "        df = pd.DataFrame(records)\n",
    "        \n",
    "        # Set date as index and standardise name\n",
    "        df.iloc[:,0] = pd.to_datetime(df.iloc[:,0])\n",
    "        df.set_index(df.columns[0], inplace=True)\n",
    "        df.index.rename('date', inplace=True)\n",
    "        \n",
    "        # Get daily values by either summing counts col or counting rows\n",
    "        if counts_col in df.columns:\n",
    "            df = df[counts_col]\n",
    "            df = df.astype('int')\n",
    "        else:\n",
    "            df['count'] = 1\n",
    "            df = df['count']\n",
    "        \n",
    "        df = df.groupby(pd.Grouper(level='date', freq='D')).sum()\n",
    "        \n",
    "        return df\n",
    "    \n",
    "    # resource IDS for data nsw APIs \n",
    "    resource_ids = {\n",
    "        'testing': '945c6204-272a-4cad-8e33-dde791f5059a',\n",
    "        'cases': '21304414-1ff1-4243-a5d2-f52778048b29'\n",
    "    }\n",
    "    \n",
    "    df = get_data_nsw(resource_ids['cases']).to_frame()\n",
    "\n",
    "    print(f'{df.index.min()} - {df.index.max()}')\n",
    "    df.to_csv('data/case_data.csv')\n",
    "    return df\n",
    "\n",
    "def load_case_data() -> pd.DataFrame:\n",
    "    df = pd.read_csv('data/case_data.csv')\n",
    "    df.set_index('date', inplace=True)\n",
    "    return df"
   ]
  },
  {
   "cell_type": "markdown",
   "metadata": {},
   "source": [
    "### 1.2 Load News from NSW Gov"
   ]
  },
  {
   "cell_type": "code",
   "execution_count": 411,
   "metadata": {},
   "outputs": [],
   "source": [
    "def get_news_data(from_csv: bool = True) -> pd.DataFrame:\n",
    "    \"\"\"Gathers relevant text data from government site\"\"\"\n",
    "\n",
    "    if from_csv:\n",
    "        return load_news_data()\n",
    "    \n",
    "    url = 'https://www.aph.gov.au/About_Parliament/Parliamentary_Departments/Parliamentary_Library/pubs/rp/rp2021/Chronologies/COVID-19StateTerritoryGovernmentAnnouncements'\n",
    "    res = requests.get(url)\n",
    "    soup = BeautifulSoup(res.text, 'html.parser')\n",
    "    tables = soup.findAll('table')\n",
    "    table = tables[4]\n",
    "    table_rows = table.find_all('tr')\n",
    "\n",
    "    res = []\n",
    "    for tr in table_rows:\n",
    "        td = tr.find_all('td')\n",
    "        row = [tr.text.strip() for tr in td if tr.text.strip()]\n",
    "        if row:\n",
    "            res.append(row)\n",
    "    clean_res = [r for r in res if len(r) == 3]\n",
    "    df = pd.DataFrame(clean_res[1:], columns=clean_res[0])\n",
    "    df.columns = ['date', 'content', 'references']\n",
    "    df.date = pd.to_datetime(df.date)\n",
    "    \n",
    "    # test_str = nsw_announcements.references.tolist()[7]\n",
    "    references_list = []\n",
    "    # for r in nsw_announcements.references.tolist():\n",
    "    def clean_references(x: str) -> str:\n",
    "        split_str = ' '.join(x.split()).split(',')\n",
    "        # peoples names exist\n",
    "        if len(split_str) == 5:\n",
    "            # Concatetenate the first and second\n",
    "            split_str = [split_str[0] + split_str[1]] + split_str[2:]\n",
    "        if len(split_str) == 3:\n",
    "            split_str.append(None)\n",
    "        return split_str\n",
    "\n",
    "    references_df = pd.DataFrame(df.references.apply(clean_references).tolist())\n",
    "    references_df.columns = ['source', 'theme', 'medium', 'date_released']\n",
    "    df = pd.concat([df.drop(columns='references'), references_df], axis=1, join='inner')\n",
    "    df.set_index('date', inplace=True)\n",
    "    df.to_csv('data/nsw_announcements.csv')\n",
    "    assert len(df) > 5\n",
    "    return df\n",
    "\n",
    "def load_news_data() -> pd.DataFrame:\n",
    "    df = pd.read_csv('data/nsw_announcements.csv')\n",
    "    df.set_index('date', inplace=True)\n",
    "    return df"
   ]
  },
  {
   "cell_type": "markdown",
   "metadata": {},
   "source": [
    "### 1.3 Load Google Trend Data"
   ]
  },
  {
   "cell_type": "code",
   "execution_count": 412,
   "metadata": {},
   "outputs": [],
   "source": [
    "def get_google_trend_data(from_csv: bool = True, to_month: int = 7) -> pd.DataFrame:\n",
    "    \"\"\"Extract google trend data about the lockdown\"\"\"\n",
    "\n",
    "    \n",
    "    if from_csv:\n",
    "        return load_google_trend_data()\n",
    "    \n",
    "    print('This will take a minute or two...')\n",
    "    df = dailydata.get_daily_data('covid', 2020, 2, 2021, to_month, geo = 'AU-NSW')\n",
    "    df.to_csv('data/google_trend_covid.csv')\n",
    "    print('data saved')\n",
    "    return df\n",
    "\n",
    "def load_google_trend_data() -> pd.DataFrame:\n",
    "    df = pd.read_csv('data/google_trend_covid.csv')\n",
    "    df.set_index('date', inplace=True)\n",
    "    return df"
   ]
  },
  {
   "cell_type": "markdown",
   "metadata": {},
   "source": [
    "### 1.4 Load Dates of Restrictions"
   ]
  },
  {
   "cell_type": "code",
   "execution_count": 413,
   "metadata": {},
   "outputs": [],
   "source": [
    "def get_restrictions_data(from_csv: bool = True) -> pd.DataFrame:\n",
    "    \"\"\"Restrictions in place from \n",
    "        https://www.theguardian.com/world/2020/may/02/australias-coronavirus-lockdown-the-first-50-days\n",
    "        https://deborahalupton.medium.com/timeline-of-covid-19-in-australia-1f7df6ca5f23\n",
    "    \"\"\"\n",
    "    if from_csv:\n",
    "        return load_restrictions_data()\n",
    "    \n",
    "    lockdown_dates_nsw = [\n",
    "        ['2020-03-16', 500], # gatherings over 500 forbidden\n",
    "        ['2020-03-18', 100], # gatherings over 100 forbidden\n",
    "        ['2020-03-19', 50], # gathering over 50 forbidden\n",
    "        ['2020-03-24', 10], # gatherings over 10 forbidden\n",
    "        ['2020-03-27', 5], # exercise groups limited to 10 and no seeing others\n",
    "        ['2020-03-29', 2], # no more then two \n",
    "        ['2020-03-30', 1], # $1000 fines enfored and ph orders\n",
    "        ['2020-04-29', 2], # can visit family\n",
    "        ['2020-05-01', 10], # restrictions loosen, family picnic and park, 50km radius of home\n",
    "        ['2020-05-08', 15] # three stage plan announced\n",
    "    ]\n",
    "    # Convert to dataframe\n",
    "    df = pd.DataFrame(lockdown_dates_nsw, columns=['date', 'restriction'])\n",
    "    df['date'] = pd.to_datetime(df.date)\n",
    "    df.set_index('date', inplace=True)\n",
    "\n",
    "    # Impute dates with last date\n",
    "    df = df.resample('D').mean() # Mean is irrelevant in this case\n",
    "    df = df.fillna(method='ffill')\n",
    "    \n",
    "    # Invert the restriction value to make higher = worse\n",
    "    df['severity'] = df.restriction.apply(lambda x: int((1/x)*100))\n",
    "    df.to_csv('data/restrictions.csv')\n",
    "    return df\n",
    "\n",
    "def load_restrictions_data() -> pd.DataFrame:\n",
    "    df = pd.read_csv('data/restrictions.csv')\n",
    "    df.set_index('date', inplace=True)\n",
    "    return df"
   ]
  },
  {
   "cell_type": "markdown",
   "metadata": {},
   "source": [
    "### 1.4 Load & Join Datasets"
   ]
  },
  {
   "cell_type": "code",
   "execution_count": 416,
   "metadata": {},
   "outputs": [
    {
     "name": "stdout",
     "output_type": "stream",
     "text": [
      "cases data loaded\n",
      "news data loaded\n",
      "google trend data loaded\n",
      "restrictions data loaded\n"
     ]
    },
    {
     "data": {
      "text/html": [
       "<div>\n",
       "<style scoped>\n",
       "    .dataframe tbody tr th:only-of-type {\n",
       "        vertical-align: middle;\n",
       "    }\n",
       "\n",
       "    .dataframe tbody tr th {\n",
       "        vertical-align: top;\n",
       "    }\n",
       "\n",
       "    .dataframe thead th {\n",
       "        text-align: right;\n",
       "    }\n",
       "</style>\n",
       "<table border=\"1\" class=\"dataframe\">\n",
       "  <thead>\n",
       "    <tr style=\"text-align: right;\">\n",
       "      <th></th>\n",
       "    </tr>\n",
       "  </thead>\n",
       "  <tbody>\n",
       "  </tbody>\n",
       "</table>\n",
       "</div>"
      ],
      "text/plain": [
       "Empty DataFrame\n",
       "Columns: []\n",
       "Index: []"
      ]
     },
     "execution_count": 416,
     "metadata": {},
     "output_type": "execute_result"
    }
   ],
   "source": [
    "def get_data(from_csv: bool = True) -> pd.DataFrame:\n",
    "    \"\"\"\n",
    "    Builder function to gather all the data and join it\n",
    "    If the data has not been imputed, i.e for news df\n",
    "    then the column will contain none, and there will be\n",
    "    a complementary binary column for the existance \n",
    "    \"\"\"\n",
    "    \n",
    "    cases_df = get_case_data(from_csv)\n",
    "    print('cases data loaded')\n",
    "    news_df = get_news_data(from_csv)\n",
    "    print('news data loaded')\n",
    "    trend_df = get_google_trend_data(from_csv)\n",
    "    print('google trend data loaded')\n",
    "    restric_df = get_restrictions_data(from_csv)\n",
    "    print('restrictions data loaded')\n",
    "    \n",
    "    df = cases_df.join(news_df, how='left').join(trend_df, how='left')\n",
    "#     df.head()\n",
    "#     gt_df = load_trend_data(True)\n",
    "#     gt_df = gt_df[['covid_unscaled']]\n",
    "#     gt_df.columns = ['count']\n",
    "#     plot_dataset(gt_df, 'count', 'Google References to \"covid\"')\n",
    "    \n",
    "    return pd.DataFrame()\n",
    "\n",
    "get_data(True)"
   ]
  },
  {
   "cell_type": "code",
   "execution_count": 344,
   "metadata": {},
   "outputs": [
    {
     "ename": "KeyError",
     "evalue": "'NSW COVID19 Cases'",
     "output_type": "error",
     "traceback": [
      "\u001b[0;31m---------------------------------------------------------------------------\u001b[0m",
      "\u001b[0;31mKeyError\u001b[0m                                  Traceback (most recent call last)",
      "\u001b[0;32m/opt/conda/lib/python3.6/site-packages/pandas/core/indexes/base.py\u001b[0m in \u001b[0;36mget_loc\u001b[0;34m(self, key, method, tolerance)\u001b[0m\n\u001b[1;32m   2897\u001b[0m             \u001b[0;32mtry\u001b[0m\u001b[0;34m:\u001b[0m\u001b[0;34m\u001b[0m\u001b[0;34m\u001b[0m\u001b[0m\n\u001b[0;32m-> 2898\u001b[0;31m                 \u001b[0;32mreturn\u001b[0m \u001b[0mself\u001b[0m\u001b[0;34m.\u001b[0m\u001b[0m_engine\u001b[0m\u001b[0;34m.\u001b[0m\u001b[0mget_loc\u001b[0m\u001b[0;34m(\u001b[0m\u001b[0mcasted_key\u001b[0m\u001b[0;34m)\u001b[0m\u001b[0;34m\u001b[0m\u001b[0;34m\u001b[0m\u001b[0m\n\u001b[0m\u001b[1;32m   2899\u001b[0m             \u001b[0;32mexcept\u001b[0m \u001b[0mKeyError\u001b[0m \u001b[0;32mas\u001b[0m \u001b[0merr\u001b[0m\u001b[0;34m:\u001b[0m\u001b[0;34m\u001b[0m\u001b[0;34m\u001b[0m\u001b[0m\n",
      "\u001b[0;32mpandas/_libs/index.pyx\u001b[0m in \u001b[0;36mpandas._libs.index.IndexEngine.get_loc\u001b[0;34m()\u001b[0m\n",
      "\u001b[0;32mpandas/_libs/index.pyx\u001b[0m in \u001b[0;36mpandas._libs.index.IndexEngine.get_loc\u001b[0;34m()\u001b[0m\n",
      "\u001b[0;32mpandas/_libs/hashtable_class_helper.pxi\u001b[0m in \u001b[0;36mpandas._libs.hashtable.PyObjectHashTable.get_item\u001b[0;34m()\u001b[0m\n",
      "\u001b[0;32mpandas/_libs/hashtable_class_helper.pxi\u001b[0m in \u001b[0;36mpandas._libs.hashtable.PyObjectHashTable.get_item\u001b[0;34m()\u001b[0m\n",
      "\u001b[0;31mKeyError\u001b[0m: 'NSW COVID19 Cases'",
      "\nThe above exception was the direct cause of the following exception:\n",
      "\u001b[0;31mKeyError\u001b[0m                                  Traceback (most recent call last)",
      "\u001b[0;32m<ipython-input-344-1914ce307e09>\u001b[0m in \u001b[0;36m<module>\u001b[0;34m\u001b[0m\n\u001b[0;32m----> 1\u001b[0;31m \u001b[0mplot_dataset\u001b[0m\u001b[0;34m(\u001b[0m\u001b[0mdf\u001b[0m\u001b[0;34m[\u001b[0m\u001b[0mdf\u001b[0m\u001b[0;34m.\u001b[0m\u001b[0mindex\u001b[0m \u001b[0;34m<\u001b[0m\u001b[0;34m'2020-07-01'\u001b[0m\u001b[0;34m]\u001b[0m\u001b[0;34m,\u001b[0m \u001b[0;34m'NSW COVID19 Cases'\u001b[0m\u001b[0;34m)\u001b[0m\u001b[0;34m\u001b[0m\u001b[0;34m\u001b[0m\u001b[0m\n\u001b[0m",
      "\u001b[0;32m<ipython-input-311-4a475303272d>\u001b[0m in \u001b[0;36mplot_dataset\u001b[0;34m(df, col, title, overlay)\u001b[0m\n\u001b[1;32m      3\u001b[0m     value = go.Scatter(\n\u001b[1;32m      4\u001b[0m         \u001b[0mx\u001b[0m\u001b[0;34m=\u001b[0m\u001b[0mdf\u001b[0m\u001b[0;34m.\u001b[0m\u001b[0mindex\u001b[0m\u001b[0;34m,\u001b[0m\u001b[0;34m\u001b[0m\u001b[0;34m\u001b[0m\u001b[0m\n\u001b[0;32m----> 5\u001b[0;31m         \u001b[0my\u001b[0m\u001b[0;34m=\u001b[0m\u001b[0mdf\u001b[0m\u001b[0;34m[\u001b[0m\u001b[0mcol\u001b[0m\u001b[0;34m]\u001b[0m\u001b[0;34m,\u001b[0m\u001b[0;34m\u001b[0m\u001b[0;34m\u001b[0m\u001b[0m\n\u001b[0m\u001b[1;32m      6\u001b[0m         \u001b[0mmode\u001b[0m\u001b[0;34m=\u001b[0m\u001b[0;34m\"lines\"\u001b[0m\u001b[0;34m,\u001b[0m\u001b[0;34m\u001b[0m\u001b[0;34m\u001b[0m\u001b[0m\n\u001b[1;32m      7\u001b[0m         \u001b[0mname\u001b[0m\u001b[0;34m=\u001b[0m\u001b[0;34m\"count\"\u001b[0m\u001b[0;34m,\u001b[0m\u001b[0;34m\u001b[0m\u001b[0;34m\u001b[0m\u001b[0m\n",
      "\u001b[0;32m/opt/conda/lib/python3.6/site-packages/pandas/core/frame.py\u001b[0m in \u001b[0;36m__getitem__\u001b[0;34m(self, key)\u001b[0m\n\u001b[1;32m   2904\u001b[0m             \u001b[0;32mif\u001b[0m \u001b[0mself\u001b[0m\u001b[0;34m.\u001b[0m\u001b[0mcolumns\u001b[0m\u001b[0;34m.\u001b[0m\u001b[0mnlevels\u001b[0m \u001b[0;34m>\u001b[0m \u001b[0;36m1\u001b[0m\u001b[0;34m:\u001b[0m\u001b[0;34m\u001b[0m\u001b[0;34m\u001b[0m\u001b[0m\n\u001b[1;32m   2905\u001b[0m                 \u001b[0;32mreturn\u001b[0m \u001b[0mself\u001b[0m\u001b[0;34m.\u001b[0m\u001b[0m_getitem_multilevel\u001b[0m\u001b[0;34m(\u001b[0m\u001b[0mkey\u001b[0m\u001b[0;34m)\u001b[0m\u001b[0;34m\u001b[0m\u001b[0;34m\u001b[0m\u001b[0m\n\u001b[0;32m-> 2906\u001b[0;31m             \u001b[0mindexer\u001b[0m \u001b[0;34m=\u001b[0m \u001b[0mself\u001b[0m\u001b[0;34m.\u001b[0m\u001b[0mcolumns\u001b[0m\u001b[0;34m.\u001b[0m\u001b[0mget_loc\u001b[0m\u001b[0;34m(\u001b[0m\u001b[0mkey\u001b[0m\u001b[0;34m)\u001b[0m\u001b[0;34m\u001b[0m\u001b[0;34m\u001b[0m\u001b[0m\n\u001b[0m\u001b[1;32m   2907\u001b[0m             \u001b[0;32mif\u001b[0m \u001b[0mis_integer\u001b[0m\u001b[0;34m(\u001b[0m\u001b[0mindexer\u001b[0m\u001b[0;34m)\u001b[0m\u001b[0;34m:\u001b[0m\u001b[0;34m\u001b[0m\u001b[0;34m\u001b[0m\u001b[0m\n\u001b[1;32m   2908\u001b[0m                 \u001b[0mindexer\u001b[0m \u001b[0;34m=\u001b[0m \u001b[0;34m[\u001b[0m\u001b[0mindexer\u001b[0m\u001b[0;34m]\u001b[0m\u001b[0;34m\u001b[0m\u001b[0;34m\u001b[0m\u001b[0m\n",
      "\u001b[0;32m/opt/conda/lib/python3.6/site-packages/pandas/core/indexes/base.py\u001b[0m in \u001b[0;36mget_loc\u001b[0;34m(self, key, method, tolerance)\u001b[0m\n\u001b[1;32m   2898\u001b[0m                 \u001b[0;32mreturn\u001b[0m \u001b[0mself\u001b[0m\u001b[0;34m.\u001b[0m\u001b[0m_engine\u001b[0m\u001b[0;34m.\u001b[0m\u001b[0mget_loc\u001b[0m\u001b[0;34m(\u001b[0m\u001b[0mcasted_key\u001b[0m\u001b[0;34m)\u001b[0m\u001b[0;34m\u001b[0m\u001b[0;34m\u001b[0m\u001b[0m\n\u001b[1;32m   2899\u001b[0m             \u001b[0;32mexcept\u001b[0m \u001b[0mKeyError\u001b[0m \u001b[0;32mas\u001b[0m \u001b[0merr\u001b[0m\u001b[0;34m:\u001b[0m\u001b[0;34m\u001b[0m\u001b[0;34m\u001b[0m\u001b[0m\n\u001b[0;32m-> 2900\u001b[0;31m                 \u001b[0;32mraise\u001b[0m \u001b[0mKeyError\u001b[0m\u001b[0;34m(\u001b[0m\u001b[0mkey\u001b[0m\u001b[0;34m)\u001b[0m \u001b[0;32mfrom\u001b[0m \u001b[0merr\u001b[0m\u001b[0;34m\u001b[0m\u001b[0;34m\u001b[0m\u001b[0m\n\u001b[0m\u001b[1;32m   2901\u001b[0m \u001b[0;34m\u001b[0m\u001b[0m\n\u001b[1;32m   2902\u001b[0m         \u001b[0;32mif\u001b[0m \u001b[0mtolerance\u001b[0m \u001b[0;32mis\u001b[0m \u001b[0;32mnot\u001b[0m \u001b[0;32mNone\u001b[0m\u001b[0;34m:\u001b[0m\u001b[0;34m\u001b[0m\u001b[0;34m\u001b[0m\u001b[0m\n",
      "\u001b[0;31mKeyError\u001b[0m: 'NSW COVID19 Cases'"
     ]
    }
   ],
   "source": [
    "plot_dataset(df[df.index <'2020-07-01'], 'count', 'NSW COVID19 Cases')"
   ]
  },
  {
   "cell_type": "markdown",
   "metadata": {},
   "source": [
    "## Preprocessing"
   ]
  },
  {
   "cell_type": "code",
   "execution_count": 196,
   "metadata": {},
   "outputs": [],
   "source": [
    "def clean_text(text: str) -> str:\n",
    "    cleaned = ' '.join(text.split())\n",
    "    \n",
    "    return cleaned\n",
    "\n",
    "def add_noise(content: pd.Series) -> pd.Series:\n",
    "    pass\n",
    "\n",
    "def clean_all_text() -> pd.Series:\n",
    "    pass"
   ]
  },
  {
   "cell_type": "code",
   "execution_count": 4,
   "metadata": {},
   "outputs": [
    {
     "data": {
      "image/png": "[encoded data removed]",
      "text/plain": [
       "<Figure size 432x288 with 1 Axes>"
      ]
     },
     "metadata": {
      "needs_background": "light"
     },
     "output_type": "display_data"
    }
   ],
   "source": [
    "pd.plotting.lag_plot(df)\n",
    "plt.show()"
   ]
  },
  {
   "cell_type": "code",
   "execution_count": 5,
   "metadata": {},
   "outputs": [
    {
     "data": {
      "image/png": "[encoded data removed]",
      "text/plain": [
       "<Figure size 432x288 with 1 Axes>"
      ]
     },
     "metadata": {
      "needs_background": "light"
     },
     "output_type": "display_data"
    }
   ],
   "source": [
    "pd.plotting.autocorrelation_plot(df)\n",
    "plt.show()"
   ]
  },
  {
   "cell_type": "markdown",
   "metadata": {},
   "source": [
    "The only data we care about is the "
   ]
  },
  {
   "cell_type": "code",
   "execution_count": 197,
   "metadata": {},
   "outputs": [
    {
     "data": {
      "text/html": [
       "<div>\n",
       "<style scoped>\n",
       "    .dataframe tbody tr th:only-of-type {\n",
       "        vertical-align: middle;\n",
       "    }\n",
       "\n",
       "    .dataframe tbody tr th {\n",
       "        vertical-align: top;\n",
       "    }\n",
       "\n",
       "    .dataframe thead th {\n",
       "        text-align: right;\n",
       "    }\n",
       "</style>\n",
       "<table border=\"1\" class=\"dataframe\">\n",
       "  <thead>\n",
       "    <tr style=\"text-align: right;\">\n",
       "      <th></th>\n",
       "      <th>content</th>\n",
       "      <th>source</th>\n",
       "      <th>theme</th>\n",
       "      <th>medium</th>\n",
       "      <th>date_released</th>\n",
       "    </tr>\n",
       "    <tr>\n",
       "      <th>date</th>\n",
       "      <th></th>\n",
       "      <th></th>\n",
       "      <th></th>\n",
       "      <th></th>\n",
       "      <th></th>\n",
       "    </tr>\n",
       "  </thead>\n",
       "  <tbody>\n",
       "    <tr>\n",
       "      <th>2020-01-21</th>\n",
       "      <td>NSW Health announced that it would assist\\n   ...</td>\n",
       "      <td>NSW Ministry of Health NSW Health advice to tr...</td>\n",
       "      <td>China</td>\n",
       "      <td>media release</td>\n",
       "      <td>21 January 2020.</td>\n",
       "    </tr>\n",
       "    <tr>\n",
       "      <th>2020-01-25</th>\n",
       "      <td>NSW Health released information that five\\n   ...</td>\n",
       "      <td>NSW Ministry of Health</td>\n",
       "      <td>Novel coronavirus statistics—11 am</td>\n",
       "      <td>media release</td>\n",
       "      <td>25 January 2020.</td>\n",
       "    </tr>\n",
       "    <tr>\n",
       "      <th>2020-02-06</th>\n",
       "      <td>NSW Health released a statement in\\n          ...</td>\n",
       "      <td>NSW Ministry of Health Be aware of the symptoms</td>\n",
       "      <td>be wary of false reports</td>\n",
       "      <td>media release</td>\n",
       "      <td>6 February 2020.</td>\n",
       "    </tr>\n",
       "    <tr>\n",
       "      <th>2020-02-10</th>\n",
       "      <td>The Minister for Health announced that a\\n    ...</td>\n",
       "      <td>B Hazzard (NSW Minister for Health)</td>\n",
       "      <td>NSW researchers breakthrough on coronavirus</td>\n",
       "      <td>media release</td>\n",
       "      <td>10 February 2020.</td>\n",
       "    </tr>\n",
       "    <tr>\n",
       "      <th>2020-02-13</th>\n",
       "      <td>NSW Health released an update on the four\\n   ...</td>\n",
       "      <td>NSW Ministry of Health</td>\n",
       "      <td>Fourth coronavirus case in NSW now in the clear</td>\n",
       "      <td>media release</td>\n",
       "      <td>13 February 2020.</td>\n",
       "    </tr>\n",
       "  </tbody>\n",
       "</table>\n",
       "</div>"
      ],
      "text/plain": [
       "                                                      content  \\\n",
       "date                                                            \n",
       "2020-01-21  NSW Health announced that it would assist\\n   ...   \n",
       "2020-01-25  NSW Health released information that five\\n   ...   \n",
       "2020-02-06  NSW Health released a statement in\\n          ...   \n",
       "2020-02-10  The Minister for Health announced that a\\n    ...   \n",
       "2020-02-13  NSW Health released an update on the four\\n   ...   \n",
       "\n",
       "                                                       source  \\\n",
       "date                                                            \n",
       "2020-01-21  NSW Ministry of Health NSW Health advice to tr...   \n",
       "2020-01-25                             NSW Ministry of Health   \n",
       "2020-02-06    NSW Ministry of Health Be aware of the symptoms   \n",
       "2020-02-10                B Hazzard (NSW Minister for Health)   \n",
       "2020-02-13                             NSW Ministry of Health   \n",
       "\n",
       "                                                       theme          medium  \\\n",
       "date                                                                           \n",
       "2020-01-21                                             China   media release   \n",
       "2020-01-25                Novel coronavirus statistics—11 am   media release   \n",
       "2020-02-06                          be wary of false reports   media release   \n",
       "2020-02-10       NSW researchers breakthrough on coronavirus   media release   \n",
       "2020-02-13   Fourth coronavirus case in NSW now in the clear   media release   \n",
       "\n",
       "                 date_released  \n",
       "date                            \n",
       "2020-01-21    21 January 2020.  \n",
       "2020-01-25    25 January 2020.  \n",
       "2020-02-06    6 February 2020.  \n",
       "2020-02-10   10 February 2020.  \n",
       "2020-02-13   13 February 2020.  "
      ]
     },
     "execution_count": 197,
     "metadata": {},
     "output_type": "execute_result"
    }
   ],
   "source": [
    "nsw_announcements = load_scraped()\n",
    "nsw_announcements.head()"
   ]
  },
  {
   "cell_type": "code",
   "execution_count": 199,
   "metadata": {},
   "outputs": [],
   "source": []
  },
  {
   "cell_type": "code",
   "execution_count": 200,
   "metadata": {},
   "outputs": [
    {
     "data": {
      "application/vnd.plotly.v1+json": {
       "config": {
        "linkText": "Export to plot.ly",
        "plotlyServerURL": "https://plot.ly",
        "showLink": false
       },
       "data": [
        {
         "line": {
          "color": "rgba(207,0,15, 0.7)"
         },
         "mode": "lines",
         "name": "count",
         "text": [
          "2020-01-25 00:00:00",
          "2020-01-26 00:00:00",
          "2020-01-27 00:00:00",
          "2020-01-28 00:00:00",
          "2020-01-29 00:00:00",
          "2020-01-30 00:00:00",
          "2020-01-31 00:00:00",
          "2020-02-01 00:00:00",
          "2020-02-02 00:00:00",
          "2020-02-03 00:00:00",
          "2020-02-04 00:00:00",
          "2020-02-05 00:00:00",
          "2020-02-06 00:00:00",
          "2020-02-07 00:00:00",
          "2020-02-08 00:00:00",
          "2020-02-09 00:00:00",
          "2020-02-10 00:00:00",
          "2020-02-11 00:00:00",
          "2020-02-12 00:00:00",
          "2020-02-13 00:00:00",
          "2020-02-14 00:00:00",
          "2020-02-15 00:00:00",
          "2020-02-16 00:00:00",
          "2020-02-17 00:00:00",
          "2020-02-18 00:00:00",
          "2020-02-19 00:00:00",
          "2020-02-20 00:00:00",
          "2020-02-21 00:00:00",
          "2020-02-22 00:00:00",
          "2020-02-23 00:00:00",
          "2020-02-24 00:00:00",
          "2020-02-25 00:00:00",
          "2020-02-26 00:00:00",
          "2020-02-27 00:00:00",
          "2020-02-28 00:00:00",
          "2020-02-29 00:00:00",
          "2020-03-01 00:00:00",
          "2020-03-02 00:00:00",
          "2020-03-03 00:00:00",
          "2020-03-04 00:00:00",
          "2020-03-05 00:00:00",
          "2020-03-06 00:00:00",
          "2020-03-07 00:00:00",
          "2020-03-08 00:00:00",
          "2020-03-09 00:00:00",
          "2020-03-10 00:00:00",
          "2020-03-11 00:00:00",
          "2020-03-12 00:00:00",
          "2020-03-13 00:00:00",
          "2020-03-14 00:00:00",
          "2020-03-15 00:00:00",
          "2020-03-16 00:00:00",
          "2020-03-17 00:00:00",
          "2020-03-18 00:00:00",
          "2020-03-19 00:00:00",
          "2020-03-20 00:00:00",
          "2020-03-21 00:00:00",
          "2020-03-22 00:00:00",
          "2020-03-23 00:00:00",
          "2020-03-24 00:00:00",
          "2020-03-25 00:00:00",
          "2020-03-26 00:00:00",
          "2020-03-27 00:00:00",
          "2020-03-28 00:00:00",
          "2020-03-29 00:00:00",
          "2020-03-30 00:00:00",
          "2020-03-31 00:00:00",
          "2020-04-01 00:00:00",
          "2020-04-02 00:00:00",
          "2020-04-03 00:00:00",
          "2020-04-04 00:00:00",
          "2020-04-05 00:00:00",
          "2020-04-06 00:00:00",
          "2020-04-07 00:00:00",
          "2020-04-08 00:00:00",
          "2020-04-09 00:00:00",
          "2020-04-10 00:00:00",
          "2020-04-11 00:00:00",
          "2020-04-12 00:00:00",
          "2020-04-13 00:00:00",
          "2020-04-14 00:00:00",
          "2020-04-15 00:00:00",
          "2020-04-16 00:00:00",
          "2020-04-17 00:00:00",
          "2020-04-18 00:00:00",
          "2020-04-19 00:00:00",
          "2020-04-20 00:00:00",
          "2020-04-21 00:00:00",
          "2020-04-22 00:00:00",
          "2020-04-23 00:00:00",
          "2020-04-24 00:00:00",
          "2020-04-25 00:00:00",
          "2020-04-26 00:00:00",
          "2020-04-27 00:00:00",
          "2020-04-28 00:00:00",
          "2020-04-29 00:00:00",
          "2020-04-30 00:00:00",
          "2020-05-01 00:00:00",
          "2020-05-02 00:00:00",
          "2020-05-03 00:00:00",
          "2020-05-04 00:00:00",
          "2020-05-05 00:00:00",
          "2020-05-06 00:00:00",
          "2020-05-07 00:00:00",
          "2020-05-08 00:00:00",
          "2020-05-09 00:00:00",
          "2020-05-10 00:00:00",
          "2020-05-11 00:00:00",
          "2020-05-12 00:00:00",
          "2020-05-13 00:00:00",
          "2020-05-14 00:00:00",
          "2020-05-15 00:00:00",
          "2020-05-16 00:00:00",
          "2020-05-17 00:00:00",
          "2020-05-18 00:00:00",
          "2020-05-19 00:00:00",
          "2020-05-20 00:00:00",
          "2020-05-21 00:00:00",
          "2020-05-22 00:00:00",
          "2020-05-23 00:00:00",
          "2020-05-24 00:00:00",
          "2020-05-25 00:00:00",
          "2020-05-26 00:00:00",
          "2020-05-27 00:00:00",
          "2020-05-28 00:00:00",
          "2020-05-29 00:00:00",
          "2020-05-30 00:00:00",
          "2020-05-31 00:00:00",
          "2020-06-01 00:00:00",
          "2020-06-02 00:00:00",
          "2020-06-03 00:00:00",
          "2020-06-04 00:00:00",
          "2020-06-05 00:00:00",
          "2020-06-06 00:00:00",
          "2020-06-07 00:00:00",
          "2020-06-08 00:00:00",
          "2020-06-09 00:00:00",
          "2020-06-10 00:00:00",
          "2020-06-11 00:00:00",
          "2020-06-12 00:00:00",
          "2020-06-13 00:00:00",
          "2020-06-14 00:00:00",
          "2020-06-15 00:00:00",
          "2020-06-16 00:00:00",
          "2020-06-17 00:00:00",
          "2020-06-18 00:00:00",
          "2020-06-19 00:00:00",
          "2020-06-20 00:00:00",
          "2020-06-21 00:00:00",
          "2020-06-22 00:00:00",
          "2020-06-23 00:00:00",
          "2020-06-24 00:00:00",
          "2020-06-25 00:00:00",
          "2020-06-26 00:00:00",
          "2020-06-27 00:00:00",
          "2020-06-28 00:00:00",
          "2020-06-29 00:00:00",
          "2020-06-30 00:00:00",
          "2020-07-01 00:00:00",
          "2020-07-02 00:00:00",
          "2020-07-03 00:00:00",
          "2020-07-04 00:00:00",
          "2020-07-05 00:00:00",
          "2020-07-06 00:00:00",
          "2020-07-07 00:00:00",
          "2020-07-08 00:00:00",
          "2020-07-09 00:00:00",
          "2020-07-10 00:00:00",
          "2020-07-11 00:00:00",
          "2020-07-12 00:00:00",
          "2020-07-13 00:00:00",
          "2020-07-14 00:00:00",
          "2020-07-15 00:00:00",
          "2020-07-16 00:00:00",
          "2020-07-17 00:00:00",
          "2020-07-18 00:00:00",
          "2020-07-19 00:00:00",
          "2020-07-20 00:00:00",
          "2020-07-21 00:00:00",
          "2020-07-22 00:00:00",
          "2020-07-23 00:00:00",
          "2020-07-24 00:00:00",
          "2020-07-25 00:00:00",
          "2020-07-26 00:00:00",
          "2020-07-27 00:00:00",
          "2020-07-28 00:00:00",
          "2020-07-29 00:00:00",
          "2020-07-30 00:00:00",
          "2020-07-31 00:00:00",
          "2020-08-01 00:00:00",
          "2020-08-02 00:00:00",
          "2020-08-03 00:00:00",
          "2020-08-04 00:00:00",
          "2020-08-05 00:00:00",
          "2020-08-06 00:00:00",
          "2020-08-07 00:00:00",
          "2020-08-08 00:00:00",
          "2020-08-09 00:00:00",
          "2020-08-10 00:00:00",
          "2020-08-11 00:00:00",
          "2020-08-12 00:00:00",
          "2020-08-13 00:00:00",
          "2020-08-14 00:00:00",
          "2020-08-15 00:00:00",
          "2020-08-16 00:00:00",
          "2020-08-17 00:00:00",
          "2020-08-18 00:00:00",
          "2020-08-19 00:00:00",
          "2020-08-20 00:00:00",
          "2020-08-21 00:00:00",
          "2020-08-22 00:00:00",
          "2020-08-23 00:00:00",
          "2020-08-24 00:00:00",
          "2020-08-25 00:00:00",
          "2020-08-26 00:00:00",
          "2020-08-27 00:00:00",
          "2020-08-28 00:00:00",
          "2020-08-29 00:00:00",
          "2020-08-30 00:00:00",
          "2020-08-31 00:00:00",
          "2020-09-01 00:00:00",
          "2020-09-02 00:00:00",
          "2020-09-03 00:00:00",
          "2020-09-04 00:00:00",
          "2020-09-05 00:00:00",
          "2020-09-06 00:00:00",
          "2020-09-07 00:00:00",
          "2020-09-08 00:00:00",
          "2020-09-09 00:00:00",
          "2020-09-10 00:00:00",
          "2020-09-11 00:00:00",
          "2020-09-12 00:00:00",
          "2020-09-13 00:00:00",
          "2020-09-14 00:00:00",
          "2020-09-15 00:00:00",
          "2020-09-16 00:00:00",
          "2020-09-17 00:00:00",
          "2020-09-18 00:00:00",
          "2020-09-19 00:00:00",
          "2020-09-20 00:00:00",
          "2020-09-21 00:00:00",
          "2020-09-22 00:00:00",
          "2020-09-23 00:00:00",
          "2020-09-24 00:00:00",
          "2020-09-25 00:00:00",
          "2020-09-26 00:00:00",
          "2020-09-27 00:00:00",
          "2020-09-28 00:00:00",
          "2020-09-29 00:00:00",
          "2020-09-30 00:00:00",
          "2020-10-01 00:00:00",
          "2020-10-02 00:00:00",
          "2020-10-03 00:00:00",
          "2020-10-04 00:00:00",
          "2020-10-05 00:00:00",
          "2020-10-06 00:00:00",
          "2020-10-07 00:00:00",
          "2020-10-08 00:00:00",
          "2020-10-09 00:00:00",
          "2020-10-10 00:00:00",
          "2020-10-11 00:00:00",
          "2020-10-12 00:00:00",
          "2020-10-13 00:00:00",
          "2020-10-14 00:00:00",
          "2020-10-15 00:00:00",
          "2020-10-16 00:00:00",
          "2020-10-17 00:00:00",
          "2020-10-18 00:00:00",
          "2020-10-19 00:00:00",
          "2020-10-20 00:00:00",
          "2020-10-21 00:00:00",
          "2020-10-22 00:00:00",
          "2020-10-23 00:00:00",
          "2020-10-24 00:00:00",
          "2020-10-25 00:00:00",
          "2020-10-26 00:00:00",
          "2020-10-27 00:00:00",
          "2020-10-28 00:00:00",
          "2020-10-29 00:00:00",
          "2020-10-30 00:00:00",
          "2020-10-31 00:00:00",
          "2020-11-01 00:00:00",
          "2020-11-02 00:00:00",
          "2020-11-03 00:00:00",
          "2020-11-04 00:00:00",
          "2020-11-05 00:00:00",
          "2020-11-06 00:00:00",
          "2020-11-07 00:00:00",
          "2020-11-08 00:00:00",
          "2020-11-09 00:00:00",
          "2020-11-10 00:00:00",
          "2020-11-11 00:00:00",
          "2020-11-12 00:00:00",
          "2020-11-13 00:00:00",
          "2020-11-14 00:00:00",
          "2020-11-15 00:00:00",
          "2020-11-16 00:00:00",
          "2020-11-17 00:00:00",
          "2020-11-18 00:00:00",
          "2020-11-19 00:00:00",
          "2020-11-20 00:00:00",
          "2020-11-21 00:00:00",
          "2020-11-22 00:00:00",
          "2020-11-23 00:00:00",
          "2020-11-24 00:00:00",
          "2020-11-25 00:00:00",
          "2020-11-26 00:00:00",
          "2020-11-27 00:00:00",
          "2020-11-28 00:00:00",
          "2020-11-29 00:00:00",
          "2020-11-30 00:00:00",
          "2020-12-01 00:00:00",
          "2020-12-02 00:00:00",
          "2020-12-03 00:00:00",
          "2020-12-04 00:00:00",
          "2020-12-05 00:00:00",
          "2020-12-06 00:00:00",
          "2020-12-07 00:00:00",
          "2020-12-08 00:00:00",
          "2020-12-09 00:00:00",
          "2020-12-10 00:00:00",
          "2020-12-11 00:00:00",
          "2020-12-12 00:00:00",
          "2020-12-13 00:00:00",
          "2020-12-14 00:00:00",
          "2020-12-15 00:00:00",
          "2020-12-16 00:00:00",
          "2020-12-17 00:00:00",
          "2020-12-18 00:00:00",
          "2020-12-19 00:00:00",
          "2020-12-20 00:00:00",
          "2020-12-21 00:00:00",
          "2020-12-22 00:00:00",
          "2020-12-23 00:00:00",
          "2020-12-24 00:00:00",
          "2020-12-25 00:00:00",
          "2020-12-26 00:00:00",
          "2020-12-27 00:00:00",
          "2020-12-28 00:00:00",
          "2020-12-29 00:00:00",
          "2020-12-30 00:00:00",
          "2020-12-31 00:00:00",
          "2021-01-01 00:00:00",
          "2021-01-02 00:00:00",
          "2021-01-03 00:00:00",
          "2021-01-04 00:00:00",
          "2021-01-05 00:00:00",
          "2021-01-06 00:00:00",
          "2021-01-07 00:00:00",
          "2021-01-08 00:00:00",
          "2021-01-09 00:00:00",
          "2021-01-10 00:00:00",
          "2021-01-11 00:00:00",
          "2021-01-12 00:00:00",
          "2021-01-13 00:00:00",
          "2021-01-14 00:00:00",
          "2021-01-15 00:00:00",
          "2021-01-16 00:00:00",
          "2021-01-17 00:00:00",
          "2021-01-18 00:00:00",
          "2021-01-19 00:00:00",
          "2021-01-20 00:00:00",
          "2021-01-21 00:00:00",
          "2021-01-22 00:00:00",
          "2021-01-23 00:00:00",
          "2021-01-24 00:00:00",
          "2021-01-25 00:00:00",
          "2021-01-26 00:00:00",
          "2021-01-27 00:00:00",
          "2021-01-28 00:00:00",
          "2021-01-29 00:00:00",
          "2021-01-30 00:00:00",
          "2021-01-31 00:00:00",
          "2021-02-01 00:00:00",
          "2021-02-02 00:00:00",
          "2021-02-03 00:00:00",
          "2021-02-04 00:00:00",
          "2021-02-05 00:00:00",
          "2021-02-06 00:00:00",
          "2021-02-07 00:00:00",
          "2021-02-08 00:00:00",
          "2021-02-09 00:00:00",
          "2021-02-10 00:00:00",
          "2021-02-11 00:00:00",
          "2021-02-12 00:00:00",
          "2021-02-13 00:00:00",
          "2021-02-14 00:00:00",
          "2021-02-15 00:00:00",
          "2021-02-16 00:00:00",
          "2021-02-17 00:00:00",
          "2021-02-18 00:00:00",
          "2021-02-19 00:00:00",
          "2021-02-20 00:00:00",
          "2021-02-21 00:00:00",
          "2021-02-22 00:00:00",
          "2021-02-23 00:00:00",
          "2021-02-24 00:00:00",
          "2021-02-25 00:00:00",
          "2021-02-26 00:00:00",
          "2021-02-27 00:00:00",
          "2021-02-28 00:00:00",
          "2021-03-01 00:00:00",
          "2021-03-02 00:00:00",
          "2021-03-03 00:00:00",
          "2021-03-04 00:00:00",
          "2021-03-05 00:00:00",
          "2021-03-06 00:00:00",
          "2021-03-07 00:00:00",
          "2021-03-08 00:00:00",
          "2021-03-09 00:00:00",
          "2021-03-10 00:00:00",
          "2021-03-11 00:00:00",
          "2021-03-12 00:00:00",
          "2021-03-13 00:00:00",
          "2021-03-14 00:00:00",
          "2021-03-15 00:00:00",
          "2021-03-16 00:00:00",
          "2021-03-17 00:00:00",
          "2021-03-18 00:00:00",
          "2021-03-19 00:00:00",
          "2021-03-20 00:00:00",
          "2021-03-21 00:00:00",
          "2021-03-22 00:00:00",
          "2021-03-23 00:00:00",
          "2021-03-24 00:00:00",
          "2021-03-25 00:00:00",
          "2021-03-26 00:00:00",
          "2021-03-27 00:00:00",
          "2021-03-28 00:00:00",
          "2021-03-29 00:00:00",
          "2021-03-30 00:00:00",
          "2021-03-31 00:00:00",
          "2021-04-01 00:00:00",
          "2021-04-02 00:00:00",
          "2021-04-03 00:00:00",
          "2021-04-04 00:00:00",
          "2021-04-05 00:00:00",
          "2021-04-06 00:00:00",
          "2021-04-07 00:00:00",
          "2021-04-08 00:00:00",
          "2021-04-09 00:00:00",
          "2021-04-10 00:00:00",
          "2021-04-11 00:00:00",
          "2021-04-12 00:00:00",
          "2021-04-13 00:00:00",
          "2021-04-14 00:00:00",
          "2021-04-15 00:00:00",
          "2021-04-16 00:00:00",
          "2021-04-17 00:00:00",
          "2021-04-18 00:00:00",
          "2021-04-19 00:00:00",
          "2021-04-20 00:00:00",
          "2021-04-21 00:00:00",
          "2021-04-22 00:00:00",
          "2021-04-23 00:00:00",
          "2021-04-24 00:00:00",
          "2021-04-25 00:00:00",
          "2021-04-26 00:00:00",
          "2021-04-27 00:00:00",
          "2021-04-28 00:00:00",
          "2021-04-29 00:00:00",
          "2021-04-30 00:00:00",
          "2021-05-01 00:00:00",
          "2021-05-02 00:00:00",
          "2021-05-03 00:00:00",
          "2021-05-04 00:00:00",
          "2021-05-05 00:00:00",
          "2021-05-06 00:00:00",
          "2021-05-07 00:00:00",
          "2021-05-08 00:00:00",
          "2021-05-09 00:00:00",
          "2021-05-10 00:00:00",
          "2021-05-11 00:00:00",
          "2021-05-12 00:00:00",
          "2021-05-13 00:00:00",
          "2021-05-14 00:00:00",
          "2021-05-15 00:00:00",
          "2021-05-16 00:00:00",
          "2021-05-17 00:00:00",
          "2021-05-18 00:00:00",
          "2021-05-19 00:00:00",
          "2021-05-20 00:00:00",
          "2021-05-21 00:00:00",
          "2021-05-22 00:00:00",
          "2021-05-23 00:00:00",
          "2021-05-24 00:00:00",
          "2021-05-25 00:00:00",
          "2021-05-26 00:00:00",
          "2021-05-27 00:00:00",
          "2021-05-28 00:00:00",
          "2021-05-29 00:00:00",
          "2021-05-30 00:00:00",
          "2021-05-31 00:00:00",
          "2021-06-01 00:00:00",
          "2021-06-02 00:00:00",
          "2021-06-03 00:00:00",
          "2021-06-04 00:00:00",
          "2021-06-05 00:00:00",
          "2021-06-06 00:00:00",
          "2021-06-07 00:00:00",
          "2021-06-08 00:00:00",
          "2021-06-09 00:00:00",
          "2021-06-10 00:00:00",
          "2021-06-11 00:00:00",
          "2021-06-12 00:00:00",
          "2021-06-13 00:00:00",
          "2021-06-14 00:00:00",
          "2021-06-15 00:00:00",
          "2021-06-16 00:00:00",
          "2021-06-17 00:00:00",
          "2021-06-18 00:00:00",
          "2021-06-19 00:00:00",
          "2021-06-20 00:00:00",
          "2021-06-21 00:00:00",
          "2021-06-22 00:00:00",
          "2021-06-23 00:00:00",
          "2021-06-24 00:00:00",
          "2021-06-25 00:00:00",
          "2021-06-26 00:00:00",
          "2021-06-27 00:00:00",
          "2021-06-28 00:00:00",
          "2021-06-29 00:00:00",
          "2021-06-30 00:00:00",
          "2021-07-01 00:00:00",
          "2021-07-02 00:00:00",
          "2021-07-03 00:00:00",
          "2021-07-04 00:00:00",
          "2021-07-05 00:00:00",
          "2021-07-06 00:00:00",
          "2021-07-07 00:00:00",
          "2021-07-08 00:00:00",
          "2021-07-09 00:00:00",
          "2021-07-10 00:00:00",
          "2021-07-11 00:00:00",
          "2021-07-12 00:00:00",
          "2021-07-13 00:00:00",
          "2021-07-14 00:00:00",
          "2021-07-15 00:00:00",
          "2021-07-16 00:00:00",
          "2021-07-17 00:00:00",
          "2021-07-18 00:00:00",
          "2021-07-19 00:00:00",
          "2021-07-20 00:00:00",
          "2021-07-21 00:00:00",
          "2021-07-22 00:00:00",
          "2021-07-23 00:00:00",
          "2021-07-24 00:00:00"
         ],
         "type": "scatter",
         "x": [
          "2020-01-25T00:00:00",
          "2020-01-26T00:00:00",
          "2020-01-27T00:00:00",
          "2020-01-28T00:00:00",
          "2020-01-29T00:00:00",
          "2020-01-30T00:00:00",
          "2020-01-31T00:00:00",
          "2020-02-01T00:00:00",
          "2020-02-02T00:00:00",
          "2020-02-03T00:00:00",
          "2020-02-04T00:00:00",
          "2020-02-05T00:00:00",
          "2020-02-06T00:00:00",
          "2020-02-07T00:00:00",
          "2020-02-08T00:00:00",
          "2020-02-09T00:00:00",
          "2020-02-10T00:00:00",
          "2020-02-11T00:00:00",
          "2020-02-12T00:00:00",
          "2020-02-13T00:00:00",
          "2020-02-14T00:00:00",
          "2020-02-15T00:00:00",
          "2020-02-16T00:00:00",
          "2020-02-17T00:00:00",
          "2020-02-18T00:00:00",
          "2020-02-19T00:00:00",
          "2020-02-20T00:00:00",
          "2020-02-21T00:00:00",
          "2020-02-22T00:00:00",
          "2020-02-23T00:00:00",
          "2020-02-24T00:00:00",
          "2020-02-25T00:00:00",
          "2020-02-26T00:00:00",
          "2020-02-27T00:00:00",
          "2020-02-28T00:00:00",
          "2020-02-29T00:00:00",
          "2020-03-01T00:00:00",
          "2020-03-02T00:00:00",
          "2020-03-03T00:00:00",
          "2020-03-04T00:00:00",
          "2020-03-05T00:00:00",
          "2020-03-06T00:00:00",
          "2020-03-07T00:00:00",
          "2020-03-08T00:00:00",
          "2020-03-09T00:00:00",
          "2020-03-10T00:00:00",
          "2020-03-11T00:00:00",
          "2020-03-12T00:00:00",
          "2020-03-13T00:00:00",
          "2020-03-14T00:00:00",
          "2020-03-15T00:00:00",
          "2020-03-16T00:00:00",
          "2020-03-17T00:00:00",
          "2020-03-18T00:00:00",
          "2020-03-19T00:00:00",
          "2020-03-20T00:00:00",
          "2020-03-21T00:00:00",
          "2020-03-22T00:00:00",
          "2020-03-23T00:00:00",
          "2020-03-24T00:00:00",
          "2020-03-25T00:00:00",
          "2020-03-26T00:00:00",
          "2020-03-27T00:00:00",
          "2020-03-28T00:00:00",
          "2020-03-29T00:00:00",
          "2020-03-30T00:00:00",
          "2020-03-31T00:00:00",
          "2020-04-01T00:00:00",
          "2020-04-02T00:00:00",
          "2020-04-03T00:00:00",
          "2020-04-04T00:00:00",
          "2020-04-05T00:00:00",
          "2020-04-06T00:00:00",
          "2020-04-07T00:00:00",
          "2020-04-08T00:00:00",
          "2020-04-09T00:00:00",
          "2020-04-10T00:00:00",
          "2020-04-11T00:00:00",
          "2020-04-12T00:00:00",
          "2020-04-13T00:00:00",
          "2020-04-14T00:00:00",
          "2020-04-15T00:00:00",
          "2020-04-16T00:00:00",
          "2020-04-17T00:00:00",
          "2020-04-18T00:00:00",
          "2020-04-19T00:00:00",
          "2020-04-20T00:00:00",
          "2020-04-21T00:00:00",
          "2020-04-22T00:00:00",
          "2020-04-23T00:00:00",
          "2020-04-24T00:00:00",
          "2020-04-25T00:00:00",
          "2020-04-26T00:00:00",
          "2020-04-27T00:00:00",
          "2020-04-28T00:00:00",
          "2020-04-29T00:00:00",
          "2020-04-30T00:00:00",
          "2020-05-01T00:00:00",
          "2020-05-02T00:00:00",
          "2020-05-03T00:00:00",
          "2020-05-04T00:00:00",
          "2020-05-05T00:00:00",
          "2020-05-06T00:00:00",
          "2020-05-07T00:00:00",
          "2020-05-08T00:00:00",
          "2020-05-09T00:00:00",
          "2020-05-10T00:00:00",
          "2020-05-11T00:00:00",
          "2020-05-12T00:00:00",
          "2020-05-13T00:00:00",
          "2020-05-14T00:00:00",
          "2020-05-15T00:00:00",
          "2020-05-16T00:00:00",
          "2020-05-17T00:00:00",
          "2020-05-18T00:00:00",
          "2020-05-19T00:00:00",
          "2020-05-20T00:00:00",
          "2020-05-21T00:00:00",
          "2020-05-22T00:00:00",
          "2020-05-23T00:00:00",
          "2020-05-24T00:00:00",
          "2020-05-25T00:00:00",
          "2020-05-26T00:00:00",
          "2020-05-27T00:00:00",
          "2020-05-28T00:00:00",
          "2020-05-29T00:00:00",
          "2020-05-30T00:00:00",
          "2020-05-31T00:00:00",
          "2020-06-01T00:00:00",
          "2020-06-02T00:00:00",
          "2020-06-03T00:00:00",
          "2020-06-04T00:00:00",
          "2020-06-05T00:00:00",
          "2020-06-06T00:00:00",
          "2020-06-07T00:00:00",
          "2020-06-08T00:00:00",
          "2020-06-09T00:00:00",
          "2020-06-10T00:00:00",
          "2020-06-11T00:00:00",
          "2020-06-12T00:00:00",
          "2020-06-13T00:00:00",
          "2020-06-14T00:00:00",
          "2020-06-15T00:00:00",
          "2020-06-16T00:00:00",
          "2020-06-17T00:00:00",
          "2020-06-18T00:00:00",
          "2020-06-19T00:00:00",
          "2020-06-20T00:00:00",
          "2020-06-21T00:00:00",
          "2020-06-22T00:00:00",
          "2020-06-23T00:00:00",
          "2020-06-24T00:00:00",
          "2020-06-25T00:00:00",
          "2020-06-26T00:00:00",
          "2020-06-27T00:00:00",
          "2020-06-28T00:00:00",
          "2020-06-29T00:00:00",
          "2020-06-30T00:00:00",
          "2020-07-01T00:00:00",
          "2020-07-02T00:00:00",
          "2020-07-03T00:00:00",
          "2020-07-04T00:00:00",
          "2020-07-05T00:00:00",
          "2020-07-06T00:00:00",
          "2020-07-07T00:00:00",
          "2020-07-08T00:00:00",
          "2020-07-09T00:00:00",
          "2020-07-10T00:00:00",
          "2020-07-11T00:00:00",
          "2020-07-12T00:00:00",
          "2020-07-13T00:00:00",
          "2020-07-14T00:00:00",
          "2020-07-15T00:00:00",
          "2020-07-16T00:00:00",
          "2020-07-17T00:00:00",
          "2020-07-18T00:00:00",
          "2020-07-19T00:00:00",
          "2020-07-20T00:00:00",
          "2020-07-21T00:00:00",
          "2020-07-22T00:00:00",
          "2020-07-23T00:00:00",
          "2020-07-24T00:00:00",
          "2020-07-25T00:00:00",
          "2020-07-26T00:00:00",
          "2020-07-27T00:00:00",
          "2020-07-28T00:00:00",
          "2020-07-29T00:00:00",
          "2020-07-30T00:00:00",
          "2020-07-31T00:00:00",
          "2020-08-01T00:00:00",
          "2020-08-02T00:00:00",
          "2020-08-03T00:00:00",
          "2020-08-04T00:00:00",
          "2020-08-05T00:00:00",
          "2020-08-06T00:00:00",
          "2020-08-07T00:00:00",
          "2020-08-08T00:00:00",
          "2020-08-09T00:00:00",
          "2020-08-10T00:00:00",
          "2020-08-11T00:00:00",
          "2020-08-12T00:00:00",
          "2020-08-13T00:00:00",
          "2020-08-14T00:00:00",
          "2020-08-15T00:00:00",
          "2020-08-16T00:00:00",
          "2020-08-17T00:00:00",
          "2020-08-18T00:00:00",
          "2020-08-19T00:00:00",
          "2020-08-20T00:00:00",
          "2020-08-21T00:00:00",
          "2020-08-22T00:00:00",
          "2020-08-23T00:00:00",
          "2020-08-24T00:00:00",
          "2020-08-25T00:00:00",
          "2020-08-26T00:00:00",
          "2020-08-27T00:00:00",
          "2020-08-28T00:00:00",
          "2020-08-29T00:00:00",
          "2020-08-30T00:00:00",
          "2020-08-31T00:00:00",
          "2020-09-01T00:00:00",
          "2020-09-02T00:00:00",
          "2020-09-03T00:00:00",
          "2020-09-04T00:00:00",
          "2020-09-05T00:00:00",
          "2020-09-06T00:00:00",
          "2020-09-07T00:00:00",
          "2020-09-08T00:00:00",
          "2020-09-09T00:00:00",
          "2020-09-10T00:00:00",
          "2020-09-11T00:00:00",
          "2020-09-12T00:00:00",
          "2020-09-13T00:00:00",
          "2020-09-14T00:00:00",
          "2020-09-15T00:00:00",
          "2020-09-16T00:00:00",
          "2020-09-17T00:00:00",
          "2020-09-18T00:00:00",
          "2020-09-19T00:00:00",
          "2020-09-20T00:00:00",
          "2020-09-21T00:00:00",
          "2020-09-22T00:00:00",
          "2020-09-23T00:00:00",
          "2020-09-24T00:00:00",
          "2020-09-25T00:00:00",
          "2020-09-26T00:00:00",
          "2020-09-27T00:00:00",
          "2020-09-28T00:00:00",
          "2020-09-29T00:00:00",
          "2020-09-30T00:00:00",
          "2020-10-01T00:00:00",
          "2020-10-02T00:00:00",
          "2020-10-03T00:00:00",
          "2020-10-04T00:00:00",
          "2020-10-05T00:00:00",
          "2020-10-06T00:00:00",
          "2020-10-07T00:00:00",
          "2020-10-08T00:00:00",
          "2020-10-09T00:00:00",
          "2020-10-10T00:00:00",
          "2020-10-11T00:00:00",
          "2020-10-12T00:00:00",
          "2020-10-13T00:00:00",
          "2020-10-14T00:00:00",
          "2020-10-15T00:00:00",
          "2020-10-16T00:00:00",
          "2020-10-17T00:00:00",
          "2020-10-18T00:00:00",
          "2020-10-19T00:00:00",
          "2020-10-20T00:00:00",
          "2020-10-21T00:00:00",
          "2020-10-22T00:00:00",
          "2020-10-23T00:00:00",
          "2020-10-24T00:00:00",
          "2020-10-25T00:00:00",
          "2020-10-26T00:00:00",
          "2020-10-27T00:00:00",
          "2020-10-28T00:00:00",
          "2020-10-29T00:00:00",
          "2020-10-30T00:00:00",
          "2020-10-31T00:00:00",
          "2020-11-01T00:00:00",
          "2020-11-02T00:00:00",
          "2020-11-03T00:00:00",
          "2020-11-04T00:00:00",
          "2020-11-05T00:00:00",
          "2020-11-06T00:00:00",
          "2020-11-07T00:00:00",
          "2020-11-08T00:00:00",
          "2020-11-09T00:00:00",
          "2020-11-10T00:00:00",
          "2020-11-11T00:00:00",
          "2020-11-12T00:00:00",
          "2020-11-13T00:00:00",
          "2020-11-14T00:00:00",
          "2020-11-15T00:00:00",
          "2020-11-16T00:00:00",
          "2020-11-17T00:00:00",
          "2020-11-18T00:00:00",
          "2020-11-19T00:00:00",
          "2020-11-20T00:00:00",
          "2020-11-21T00:00:00",
          "2020-11-22T00:00:00",
          "2020-11-23T00:00:00",
          "2020-11-24T00:00:00",
          "2020-11-25T00:00:00",
          "2020-11-26T00:00:00",
          "2020-11-27T00:00:00",
          "2020-11-28T00:00:00",
          "2020-11-29T00:00:00",
          "2020-11-30T00:00:00",
          "2020-12-01T00:00:00",
          "2020-12-02T00:00:00",
          "2020-12-03T00:00:00",
          "2020-12-04T00:00:00",
          "2020-12-05T00:00:00",
          "2020-12-06T00:00:00",
          "2020-12-07T00:00:00",
          "2020-12-08T00:00:00",
          "2020-12-09T00:00:00",
          "2020-12-10T00:00:00",
          "2020-12-11T00:00:00",
          "2020-12-12T00:00:00",
          "2020-12-13T00:00:00",
          "2020-12-14T00:00:00",
          "2020-12-15T00:00:00",
          "2020-12-16T00:00:00",
          "2020-12-17T00:00:00",
          "2020-12-18T00:00:00",
          "2020-12-19T00:00:00",
          "2020-12-20T00:00:00",
          "2020-12-21T00:00:00",
          "2020-12-22T00:00:00",
          "2020-12-23T00:00:00",
          "2020-12-24T00:00:00",
          "2020-12-25T00:00:00",
          "2020-12-26T00:00:00",
          "2020-12-27T00:00:00",
          "2020-12-28T00:00:00",
          "2020-12-29T00:00:00",
          "2020-12-30T00:00:00",
          "2020-12-31T00:00:00",
          "2021-01-01T00:00:00",
          "2021-01-02T00:00:00",
          "2021-01-03T00:00:00",
          "2021-01-04T00:00:00",
          "2021-01-05T00:00:00",
          "2021-01-06T00:00:00",
          "2021-01-07T00:00:00",
          "2021-01-08T00:00:00",
          "2021-01-09T00:00:00",
          "2021-01-10T00:00:00",
          "2021-01-11T00:00:00",
          "2021-01-12T00:00:00",
          "2021-01-13T00:00:00",
          "2021-01-14T00:00:00",
          "2021-01-15T00:00:00",
          "2021-01-16T00:00:00",
          "2021-01-17T00:00:00",
          "2021-01-18T00:00:00",
          "2021-01-19T00:00:00",
          "2021-01-20T00:00:00",
          "2021-01-21T00:00:00",
          "2021-01-22T00:00:00",
          "2021-01-23T00:00:00",
          "2021-01-24T00:00:00",
          "2021-01-25T00:00:00",
          "2021-01-26T00:00:00",
          "2021-01-27T00:00:00",
          "2021-01-28T00:00:00",
          "2021-01-29T00:00:00",
          "2021-01-30T00:00:00",
          "2021-01-31T00:00:00",
          "2021-02-01T00:00:00",
          "2021-02-02T00:00:00",
          "2021-02-03T00:00:00",
          "2021-02-04T00:00:00",
          "2021-02-05T00:00:00",
          "2021-02-06T00:00:00",
          "2021-02-07T00:00:00",
          "2021-02-08T00:00:00",
          "2021-02-09T00:00:00",
          "2021-02-10T00:00:00",
          "2021-02-11T00:00:00",
          "2021-02-12T00:00:00",
          "2021-02-13T00:00:00",
          "2021-02-14T00:00:00",
          "2021-02-15T00:00:00",
          "2021-02-16T00:00:00",
          "2021-02-17T00:00:00",
          "2021-02-18T00:00:00",
          "2021-02-19T00:00:00",
          "2021-02-20T00:00:00",
          "2021-02-21T00:00:00",
          "2021-02-22T00:00:00",
          "2021-02-23T00:00:00",
          "2021-02-24T00:00:00",
          "2021-02-25T00:00:00",
          "2021-02-26T00:00:00",
          "2021-02-27T00:00:00",
          "2021-02-28T00:00:00",
          "2021-03-01T00:00:00",
          "2021-03-02T00:00:00",
          "2021-03-03T00:00:00",
          "2021-03-04T00:00:00",
          "2021-03-05T00:00:00",
          "2021-03-06T00:00:00",
          "2021-03-07T00:00:00",
          "2021-03-08T00:00:00",
          "2021-03-09T00:00:00",
          "2021-03-10T00:00:00",
          "2021-03-11T00:00:00",
          "2021-03-12T00:00:00",
          "2021-03-13T00:00:00",
          "2021-03-14T00:00:00",
          "2021-03-15T00:00:00",
          "2021-03-16T00:00:00",
          "2021-03-17T00:00:00",
          "2021-03-18T00:00:00",
          "2021-03-19T00:00:00",
          "2021-03-20T00:00:00",
          "2021-03-21T00:00:00",
          "2021-03-22T00:00:00",
          "2021-03-23T00:00:00",
          "2021-03-24T00:00:00",
          "2021-03-25T00:00:00",
          "2021-03-26T00:00:00",
          "2021-03-27T00:00:00",
          "2021-03-28T00:00:00",
          "2021-03-29T00:00:00",
          "2021-03-30T00:00:00",
          "2021-03-31T00:00:00",
          "2021-04-01T00:00:00",
          "2021-04-02T00:00:00",
          "2021-04-03T00:00:00",
          "2021-04-04T00:00:00",
          "2021-04-05T00:00:00",
          "2021-04-06T00:00:00",
          "2021-04-07T00:00:00",
          "2021-04-08T00:00:00",
          "2021-04-09T00:00:00",
          "2021-04-10T00:00:00",
          "2021-04-11T00:00:00",
          "2021-04-12T00:00:00",
          "2021-04-13T00:00:00",
          "2021-04-14T00:00:00",
          "2021-04-15T00:00:00",
          "2021-04-16T00:00:00",
          "2021-04-17T00:00:00",
          "2021-04-18T00:00:00",
          "2021-04-19T00:00:00",
          "2021-04-20T00:00:00",
          "2021-04-21T00:00:00",
          "2021-04-22T00:00:00",
          "2021-04-23T00:00:00",
          "2021-04-24T00:00:00",
          "2021-04-25T00:00:00",
          "2021-04-26T00:00:00",
          "2021-04-27T00:00:00",
          "2021-04-28T00:00:00",
          "2021-04-29T00:00:00",
          "2021-04-30T00:00:00",
          "2021-05-01T00:00:00",
          "2021-05-02T00:00:00",
          "2021-05-03T00:00:00",
          "2021-05-04T00:00:00",
          "2021-05-05T00:00:00",
          "2021-05-06T00:00:00",
          "2021-05-07T00:00:00",
          "2021-05-08T00:00:00",
          "2021-05-09T00:00:00",
          "2021-05-10T00:00:00",
          "2021-05-11T00:00:00",
          "2021-05-12T00:00:00",
          "2021-05-13T00:00:00",
          "2021-05-14T00:00:00",
          "2021-05-15T00:00:00",
          "2021-05-16T00:00:00",
          "2021-05-17T00:00:00",
          "2021-05-18T00:00:00",
          "2021-05-19T00:00:00",
          "2021-05-20T00:00:00",
          "2021-05-21T00:00:00",
          "2021-05-22T00:00:00",
          "2021-05-23T00:00:00",
          "2021-05-24T00:00:00",
          "2021-05-25T00:00:00",
          "2021-05-26T00:00:00",
          "2021-05-27T00:00:00",
          "2021-05-28T00:00:00",
          "2021-05-29T00:00:00",
          "2021-05-30T00:00:00",
          "2021-05-31T00:00:00",
          "2021-06-01T00:00:00",
          "2021-06-02T00:00:00",
          "2021-06-03T00:00:00",
          "2021-06-04T00:00:00",
          "2021-06-05T00:00:00",
          "2021-06-06T00:00:00",
          "2021-06-07T00:00:00",
          "2021-06-08T00:00:00",
          "2021-06-09T00:00:00",
          "2021-06-10T00:00:00",
          "2021-06-11T00:00:00",
          "2021-06-12T00:00:00",
          "2021-06-13T00:00:00",
          "2021-06-14T00:00:00",
          "2021-06-15T00:00:00",
          "2021-06-16T00:00:00",
          "2021-06-17T00:00:00",
          "2021-06-18T00:00:00",
          "2021-06-19T00:00:00",
          "2021-06-20T00:00:00",
          "2021-06-21T00:00:00",
          "2021-06-22T00:00:00",
          "2021-06-23T00:00:00",
          "2021-06-24T00:00:00",
          "2021-06-25T00:00:00",
          "2021-06-26T00:00:00",
          "2021-06-27T00:00:00",
          "2021-06-28T00:00:00",
          "2021-06-29T00:00:00",
          "2021-06-30T00:00:00",
          "2021-07-01T00:00:00",
          "2021-07-02T00:00:00",
          "2021-07-03T00:00:00",
          "2021-07-04T00:00:00",
          "2021-07-05T00:00:00",
          "2021-07-06T00:00:00",
          "2021-07-07T00:00:00",
          "2021-07-08T00:00:00",
          "2021-07-09T00:00:00",
          "2021-07-10T00:00:00",
          "2021-07-11T00:00:00",
          "2021-07-12T00:00:00",
          "2021-07-13T00:00:00",
          "2021-07-14T00:00:00",
          "2021-07-15T00:00:00",
          "2021-07-16T00:00:00",
          "2021-07-17T00:00:00",
          "2021-07-18T00:00:00",
          "2021-07-19T00:00:00",
          "2021-07-20T00:00:00",
          "2021-07-21T00:00:00",
          "2021-07-22T00:00:00",
          "2021-07-23T00:00:00",
          "2021-07-24T00:00:00"
         ],
         "y": [
          3,
          0,
          1,
          0,
          0,
          0,
          0,
          0,
          0,
          0,
          0,
          0,
          0,
          0,
          0,
          0,
          0,
          0,
          0,
          0,
          0,
          0,
          0,
          0,
          0,
          0,
          0,
          0,
          0,
          0,
          0,
          0,
          0,
          0,
          0,
          0,
          2,
          3,
          6,
          6,
          4,
          7,
          2,
          7,
          13,
          6,
          16,
          14,
          19,
          20,
          38,
          29,
          64,
          45,
          56,
          88,
          122,
          121,
          177,
          192,
          206,
          185,
          213,
          143,
          124,
          90,
          131,
          124,
          92,
          106,
          73,
          63,
          40,
          44,
          44,
          41,
          30,
          18,
          9,
          7,
          21,
          22,
          22,
          15,
          17,
          7,
          2,
          6,
          3,
          8,
          14,
          3,
          1,
          5,
          10,
          3,
          15,
          2,
          2,
          1,
          4,
          5,
          3,
          2,
          4,
          1,
          1,
          0,
          5,
          4,
          3,
          2,
          0,
          1,
          2,
          4,
          1,
          3,
          0,
          1,
          1,
          2,
          0,
          1,
          2,
          1,
          2,
          5,
          4,
          1,
          2,
          3,
          0,
          1,
          3,
          1,
          3,
          0,
          3,
          3,
          9,
          6,
          0,
          0,
          2,
          7,
          1,
          6,
          1,
          1,
          10,
          4,
          6,
          5,
          10,
          3,
          6,
          11,
          6,
          5,
          8,
          12,
          8,
          13,
          6,
          13,
          9,
          8,
          2,
          15,
          17,
          10,
          9,
          9,
          13,
          17,
          20,
          14,
          14,
          16,
          7,
          18,
          19,
          8,
          15,
          22,
          15,
          22,
          15,
          14,
          11,
          13,
          9,
          13,
          11,
          8,
          14,
          13,
          22,
          15,
          10,
          14,
          7,
          6,
          5,
          3,
          8,
          2,
          5,
          7,
          2,
          3,
          4,
          6,
          12,
          15,
          10,
          7,
          11,
          12,
          15,
          10,
          7,
          7,
          8,
          4,
          11,
          5,
          10,
          8,
          8,
          6,
          7,
          7,
          5,
          7,
          3,
          4,
          1,
          5,
          1,
          6,
          3,
          2,
          1,
          0,
          0,
          5,
          2,
          4,
          3,
          0,
          3,
          2,
          9,
          3,
          15,
          6,
          4,
          7,
          5,
          15,
          12,
          10,
          3,
          7,
          6,
          6,
          10,
          4,
          9,
          3,
          6,
          7,
          3,
          15,
          5,
          4,
          7,
          4,
          5,
          5,
          4,
          7,
          3,
          10,
          5,
          4,
          7,
          5,
          2,
          5,
          2,
          6,
          8,
          2,
          4,
          6,
          7,
          3,
          10,
          9,
          5,
          7,
          2,
          0,
          5,
          8,
          4,
          7,
          8,
          6,
          8,
          4,
          2,
          5,
          7,
          4,
          2,
          9,
          6,
          3,
          3,
          5,
          7,
          3,
          9,
          25,
          28,
          32,
          28,
          12,
          13,
          21,
          12,
          11,
          13,
          10,
          9,
          30,
          10,
          11,
          17,
          7,
          11,
          4,
          4,
          12,
          5,
          11,
          7,
          12,
          11,
          5,
          2,
          2,
          14,
          14,
          2,
          1,
          4,
          5,
          0,
          1,
          5,
          1,
          3,
          1,
          4,
          4,
          3,
          2,
          4,
          2,
          2,
          3,
          0,
          4,
          0,
          5,
          4,
          1,
          2,
          2,
          2,
          2,
          0,
          2,
          3,
          1,
          2,
          1,
          3,
          1,
          4,
          4,
          5,
          4,
          4,
          4,
          6,
          1,
          5,
          6,
          9,
          4,
          1,
          1,
          5,
          5,
          7,
          6,
          0,
          5,
          3,
          1,
          6,
          8,
          1,
          2,
          5,
          4,
          2,
          4,
          3,
          2,
          3,
          0,
          4,
          4,
          5,
          2,
          0,
          3,
          1,
          4,
          9,
          5,
          1,
          3,
          5,
          7,
          6,
          4,
          4,
          12,
          1,
          9,
          4,
          9,
          4,
          7,
          15,
          5,
          1,
          4,
          7,
          16,
          12,
          17,
          2,
          4,
          2,
          8,
          9,
          7,
          9,
          4,
          5,
          7,
          6,
          4,
          2,
          5,
          3,
          2,
          2,
          2,
          3,
          2,
          2,
          0,
          3,
          0,
          2,
          2,
          2,
          0,
          4,
          2,
          3,
          2,
          0,
          1,
          2,
          0,
          4,
          3,
          4,
          8,
          1,
          2,
          2,
          0,
          1,
          8,
          4,
          1,
          4,
          1,
          7,
          7,
          3,
          5,
          19,
          12,
          22,
          28,
          28,
          23,
          16,
          31,
          31,
          31,
          42,
          24,
          31,
          17,
          34,
          37,
          46,
          52,
          107,
          121,
          73,
          91,
          76,
          102,
          116,
          99,
          112,
          67,
          108,
          146,
          145,
          151,
          107
         ]
        }
       ],
       "layout": {
        "autosize": true,
        "template": {
         "data": {
          "bar": [
           {
            "error_x": {
             "color": "#2a3f5f"
            },
            "error_y": {
             "color": "#2a3f5f"
            },
            "marker": {
             "line": {
              "color": "#E5ECF6",
              "width": 0.5
             },
             "pattern": {
              "fillmode": "overlay",
              "size": 10,
              "solidity": 0.2
             }
            },
            "type": "bar"
           }
          ],
          "barpolar": [
           {
            "marker": {
             "line": {
              "color": "#E5ECF6",
              "width": 0.5
             },
             "pattern": {
              "fillmode": "overlay",
              "size": 10,
              "solidity": 0.2
             }
            },
            "type": "barpolar"
           }
          ],
          "carpet": [
           {
            "aaxis": {
             "endlinecolor": "#2a3f5f",
             "gridcolor": "white",
             "linecolor": "white",
             "minorgridcolor": "white",
             "startlinecolor": "#2a3f5f"
            },
            "baxis": {
             "endlinecolor": "#2a3f5f",
             "gridcolor": "white",
             "linecolor": "white",
             "minorgridcolor": "white",
             "startlinecolor": "#2a3f5f"
            },
            "type": "carpet"
           }
          ],
          "choropleth": [
           {
            "colorbar": {
             "outlinewidth": 0,
             "ticks": ""
            },
            "type": "choropleth"
           }
          ],
          "contour": [
           {
            "colorbar": {
             "outlinewidth": 0,
             "ticks": ""
            },
            "colorscale": [
             [
              0,
              "#0d0887"
             ],
             [
              0.1111111111111111,
              "#46039f"
             ],
             [
              0.2222222222222222,
              "#7201a8"
             ],
             [
              0.3333333333333333,
              "#9c179e"
             ],
             [
              0.4444444444444444,
              "#bd3786"
             ],
             [
              0.5555555555555556,
              "#d8576b"
             ],
             [
              0.6666666666666666,
              "#ed7953"
             ],
             [
              0.7777777777777778,
              "#fb9f3a"
             ],
             [
              0.8888888888888888,
              "#fdca26"
             ],
             [
              1,
              "#f0f921"
             ]
            ],
            "type": "contour"
           }
          ],
          "contourcarpet": [
           {
            "colorbar": {
             "outlinewidth": 0,
             "ticks": ""
            },
            "type": "contourcarpet"
           }
          ],
          "heatmap": [
           {
            "colorbar": {
             "outlinewidth": 0,
             "ticks": ""
            },
            "colorscale": [
             [
              0,
              "#0d0887"
             ],
             [
              0.1111111111111111,
              "#46039f"
             ],
             [
              0.2222222222222222,
              "#7201a8"
             ],
             [
              0.3333333333333333,
              "#9c179e"
             ],
             [
              0.4444444444444444,
              "#bd3786"
             ],
             [
              0.5555555555555556,
              "#d8576b"
             ],
             [
              0.6666666666666666,
              "#ed7953"
             ],
             [
              0.7777777777777778,
              "#fb9f3a"
             ],
             [
              0.8888888888888888,
              "#fdca26"
             ],
             [
              1,
              "#f0f921"
             ]
            ],
            "type": "heatmap"
           }
          ],
          "heatmapgl": [
           {
            "colorbar": {
             "outlinewidth": 0,
             "ticks": ""
            },
            "colorscale": [
             [
              0,
              "#0d0887"
             ],
             [
              0.1111111111111111,
              "#46039f"
             ],
             [
              0.2222222222222222,
              "#7201a8"
             ],
             [
              0.3333333333333333,
              "#9c179e"
             ],
             [
              0.4444444444444444,
              "#bd3786"
             ],
             [
              0.5555555555555556,
              "#d8576b"
             ],
             [
              0.6666666666666666,
              "#ed7953"
             ],
             [
              0.7777777777777778,
              "#fb9f3a"
             ],
             [
              0.8888888888888888,
              "#fdca26"
             ],
             [
              1,
              "#f0f921"
             ]
            ],
            "type": "heatmapgl"
           }
          ],
          "histogram": [
           {
            "marker": {
             "pattern": {
              "fillmode": "overlay",
              "size": 10,
              "solidity": 0.2
             }
            },
            "type": "histogram"
           }
          ],
          "histogram2d": [
           {
            "colorbar": {
             "outlinewidth": 0,
             "ticks": ""
            },
            "colorscale": [
             [
              0,
              "#0d0887"
             ],
             [
              0.1111111111111111,
              "#46039f"
             ],
             [
              0.2222222222222222,
              "#7201a8"
             ],
             [
              0.3333333333333333,
              "#9c179e"
             ],
             [
              0.4444444444444444,
              "#bd3786"
             ],
             [
              0.5555555555555556,
              "#d8576b"
             ],
             [
              0.6666666666666666,
              "#ed7953"
             ],
             [
              0.7777777777777778,
              "#fb9f3a"
             ],
             [
              0.8888888888888888,
              "#fdca26"
             ],
             [
              1,
              "#f0f921"
             ]
            ],
            "type": "histogram2d"
           }
          ],
          "histogram2dcontour": [
           {
            "colorbar": {
             "outlinewidth": 0,
             "ticks": ""
            },
            "colorscale": [
             [
              0,
              "#0d0887"
             ],
             [
              0.1111111111111111,
              "#46039f"
             ],
             [
              0.2222222222222222,
              "#7201a8"
             ],
             [
              0.3333333333333333,
              "#9c179e"
             ],
             [
              0.4444444444444444,
              "#bd3786"
             ],
             [
              0.5555555555555556,
              "#d8576b"
             ],
             [
              0.6666666666666666,
              "#ed7953"
             ],
             [
              0.7777777777777778,
              "#fb9f3a"
             ],
             [
              0.8888888888888888,
              "#fdca26"
             ],
             [
              1,
              "#f0f921"
             ]
            ],
            "type": "histogram2dcontour"
           }
          ],
          "mesh3d": [
           {
            "colorbar": {
             "outlinewidth": 0,
             "ticks": ""
            },
            "type": "mesh3d"
           }
          ],
          "parcoords": [
           {
            "line": {
             "colorbar": {
              "outlinewidth": 0,
              "ticks": ""
             }
            },
            "type": "parcoords"
           }
          ],
          "pie": [
           {
            "automargin": true,
            "type": "pie"
           }
          ],
          "scatter": [
           {
            "marker": {
             "colorbar": {
              "outlinewidth": 0,
              "ticks": ""
             }
            },
            "type": "scatter"
           }
          ],
          "scatter3d": [
           {
            "line": {
             "colorbar": {
              "outlinewidth": 0,
              "ticks": ""
             }
            },
            "marker": {
             "colorbar": {
              "outlinewidth": 0,
              "ticks": ""
             }
            },
            "type": "scatter3d"
           }
          ],
          "scattercarpet": [
           {
            "marker": {
             "colorbar": {
              "outlinewidth": 0,
              "ticks": ""
             }
            },
            "type": "scattercarpet"
           }
          ],
          "scattergeo": [
           {
            "marker": {
             "colorbar": {
              "outlinewidth": 0,
              "ticks": ""
             }
            },
            "type": "scattergeo"
           }
          ],
          "scattergl": [
           {
            "marker": {
             "colorbar": {
              "outlinewidth": 0,
              "ticks": ""
             }
            },
            "type": "scattergl"
           }
          ],
          "scattermapbox": [
           {
            "marker": {
             "colorbar": {
              "outlinewidth": 0,
              "ticks": ""
             }
            },
            "type": "scattermapbox"
           }
          ],
          "scatterpolar": [
           {
            "marker": {
             "colorbar": {
              "outlinewidth": 0,
              "ticks": ""
             }
            },
            "type": "scatterpolar"
           }
          ],
          "scatterpolargl": [
           {
            "marker": {
             "colorbar": {
              "outlinewidth": 0,
              "ticks": ""
             }
            },
            "type": "scatterpolargl"
           }
          ],
          "scatterternary": [
           {
            "marker": {
             "colorbar": {
              "outlinewidth": 0,
              "ticks": ""
             }
            },
            "type": "scatterternary"
           }
          ],
          "surface": [
           {
            "colorbar": {
             "outlinewidth": 0,
             "ticks": ""
            },
            "colorscale": [
             [
              0,
              "#0d0887"
             ],
             [
              0.1111111111111111,
              "#46039f"
             ],
             [
              0.2222222222222222,
              "#7201a8"
             ],
             [
              0.3333333333333333,
              "#9c179e"
             ],
             [
              0.4444444444444444,
              "#bd3786"
             ],
             [
              0.5555555555555556,
              "#d8576b"
             ],
             [
              0.6666666666666666,
              "#ed7953"
             ],
             [
              0.7777777777777778,
              "#fb9f3a"
             ],
             [
              0.8888888888888888,
              "#fdca26"
             ],
             [
              1,
              "#f0f921"
             ]
            ],
            "type": "surface"
           }
          ],
          "table": [
           {
            "cells": {
             "fill": {
              "color": "#EBF0F8"
             },
             "line": {
              "color": "white"
             }
            },
            "header": {
             "fill": {
              "color": "#C8D4E3"
             },
             "line": {
              "color": "white"
             }
            },
            "type": "table"
           }
          ]
         },
         "layout": {
          "annotationdefaults": {
           "arrowcolor": "#2a3f5f",
           "arrowhead": 0,
           "arrowwidth": 1
          },
          "autotypenumbers": "strict",
          "coloraxis": {
           "colorbar": {
            "outlinewidth": 0,
            "ticks": ""
           }
          },
          "colorscale": {
           "diverging": [
            [
             0,
             "#8e0152"
            ],
            [
             0.1,
             "#c51b7d"
            ],
            [
             0.2,
             "#de77ae"
            ],
            [
             0.3,
             "#f1b6da"
            ],
            [
             0.4,
             "#fde0ef"
            ],
            [
             0.5,
             "#f7f7f7"
            ],
            [
             0.6,
             "#e6f5d0"
            ],
            [
             0.7,
             "#b8e186"
            ],
            [
             0.8,
             "#7fbc41"
            ],
            [
             0.9,
             "#4d9221"
            ],
            [
             1,
             "#276419"
            ]
           ],
           "sequential": [
            [
             0,
             "#0d0887"
            ],
            [
             0.1111111111111111,
             "#46039f"
            ],
            [
             0.2222222222222222,
             "#7201a8"
            ],
            [
             0.3333333333333333,
             "#9c179e"
            ],
            [
             0.4444444444444444,
             "#bd3786"
            ],
            [
             0.5555555555555556,
             "#d8576b"
            ],
            [
             0.6666666666666666,
             "#ed7953"
            ],
            [
             0.7777777777777778,
             "#fb9f3a"
            ],
            [
             0.8888888888888888,
             "#fdca26"
            ],
            [
             1,
             "#f0f921"
            ]
           ],
           "sequentialminus": [
            [
             0,
             "#0d0887"
            ],
            [
             0.1111111111111111,
             "#46039f"
            ],
            [
             0.2222222222222222,
             "#7201a8"
            ],
            [
             0.3333333333333333,
             "#9c179e"
            ],
            [
             0.4444444444444444,
             "#bd3786"
            ],
            [
             0.5555555555555556,
             "#d8576b"
            ],
            [
             0.6666666666666666,
             "#ed7953"
            ],
            [
             0.7777777777777778,
             "#fb9f3a"
            ],
            [
             0.8888888888888888,
             "#fdca26"
            ],
            [
             1,
             "#f0f921"
            ]
           ]
          },
          "colorway": [
           "#636efa",
           "#EF553B",
           "#00cc96",
           "#ab63fa",
           "#FFA15A",
           "#19d3f3",
           "#FF6692",
           "#B6E880",
           "#FF97FF",
           "#FECB52"
          ],
          "font": {
           "color": "#2a3f5f"
          },
          "geo": {
           "bgcolor": "white",
           "lakecolor": "white",
           "landcolor": "#E5ECF6",
           "showlakes": true,
           "showland": true,
           "subunitcolor": "white"
          },
          "hoverlabel": {
           "align": "left"
          },
          "hovermode": "closest",
          "mapbox": {
           "style": "light"
          },
          "paper_bgcolor": "white",
          "plot_bgcolor": "#E5ECF6",
          "polar": {
           "angularaxis": {
            "gridcolor": "white",
            "linecolor": "white",
            "ticks": ""
           },
           "bgcolor": "#E5ECF6",
           "radialaxis": {
            "gridcolor": "white",
            "linecolor": "white",
            "ticks": ""
           }
          },
          "scene": {
           "xaxis": {
            "backgroundcolor": "#E5ECF6",
            "gridcolor": "white",
            "gridwidth": 2,
            "linecolor": "white",
            "showbackground": true,
            "ticks": "",
            "zerolinecolor": "white"
           },
           "yaxis": {
            "backgroundcolor": "#E5ECF6",
            "gridcolor": "white",
            "gridwidth": 2,
            "linecolor": "white",
            "showbackground": true,
            "ticks": "",
            "zerolinecolor": "white"
           },
           "zaxis": {
            "backgroundcolor": "#E5ECF6",
            "gridcolor": "white",
            "gridwidth": 2,
            "linecolor": "white",
            "showbackground": true,
            "ticks": "",
            "zerolinecolor": "white"
           }
          },
          "shapedefaults": {
           "line": {
            "color": "#2a3f5f"
           }
          },
          "ternary": {
           "aaxis": {
            "gridcolor": "white",
            "linecolor": "white",
            "ticks": ""
           },
           "baxis": {
            "gridcolor": "white",
            "linecolor": "white",
            "ticks": ""
           },
           "bgcolor": "#E5ECF6",
           "caxis": {
            "gridcolor": "white",
            "linecolor": "white",
            "ticks": ""
           }
          },
          "title": {
           "x": 0.05
          },
          "xaxis": {
           "automargin": true,
           "gridcolor": "white",
           "linecolor": "white",
           "ticks": "",
           "title": {
            "standoff": 15
           },
           "zerolinecolor": "white",
           "zerolinewidth": 2
          },
          "yaxis": {
           "automargin": true,
           "gridcolor": "white",
           "linecolor": "white",
           "ticks": "",
           "title": {
            "standoff": 15
           },
           "zerolinecolor": "white",
           "zerolinewidth": 2
          }
         }
        },
        "title": {
         "text": "NSW COVID19 Cases"
        },
        "xaxis": {
         "autorange": true,
         "range": [
          "2020-01-25",
          "2021-07-24"
         ],
         "ticklen": 5,
         "title": {
          "text": "Date"
         },
         "type": "date",
         "zeroline": false
        },
        "yaxis": {
         "autorange": true,
         "range": [
          -11.833333333333334,
          224.83333333333334
         ],
         "ticklen": 5,
         "title": {
          "text": "Count"
         },
         "type": "linear",
         "zeroline": false
        }
       }
      },
      "image/png": "[encoded data removed]",
      "text/html": [
       "<div>                            <div id=\"cfc128e0-e5aa-4d5c-a7ab-82b7b1cd135a\" class=\"plotly-graph-div\" style=\"height:525px; width:100%;\"></div>            <script type=\"text/javascript\">                require([\"plotly\"], function(Plotly) {                    window.PLOTLYENV=window.PLOTLYENV || {};                                    if (document.getElementById(\"cfc128e0-e5aa-4d5c-a7ab-82b7b1cd135a\")) {                    Plotly.newPlot(                        \"cfc128e0-e5aa-4d5c-a7ab-82b7b1cd135a\",                        [{\"line\":{\"color\":\"rgba(207,0,15, 0.7)\"},\"mode\":\"lines\",\"name\":\"count\",\"text\":[\"2020-01-25 00:00:00\",\"2020-01-26 00:00:00\",\"2020-01-27 00:00:00\",\"2020-01-28 00:00:00\",\"2020-01-29 00:00:00\",\"2020-01-30 00:00:00\",\"2020-01-31 00:00:00\",\"2020-02-01 00:00:00\",\"2020-02-02 00:00:00\",\"2020-02-03 00:00:00\",\"2020-02-04 00:00:00\",\"2020-02-05 00:00:00\",\"2020-02-06 00:00:00\",\"2020-02-07 00:00:00\",\"2020-02-08 00:00:00\",\"2020-02-09 00:00:00\",\"2020-02-10 00:00:00\",\"2020-02-11 00:00:00\",\"2020-02-12 00:00:00\",\"2020-02-13 00:00:00\",\"2020-02-14 00:00:00\",\"2020-02-15 00:00:00\",\"2020-02-16 00:00:00\",\"2020-02-17 00:00:00\",\"2020-02-18 00:00:00\",\"2020-02-19 00:00:00\",\"2020-02-20 00:00:00\",\"2020-02-21 00:00:00\",\"2020-02-22 00:00:00\",\"2020-02-23 00:00:00\",\"2020-02-24 00:00:00\",\"2020-02-25 00:00:00\",\"2020-02-26 00:00:00\",\"2020-02-27 00:00:00\",\"2020-02-28 00:00:00\",\"2020-02-29 00:00:00\",\"2020-03-01 00:00:00\",\"2020-03-02 00:00:00\",\"2020-03-03 00:00:00\",\"2020-03-04 00:00:00\",\"2020-03-05 00:00:00\",\"2020-03-06 00:00:00\",\"2020-03-07 00:00:00\",\"2020-03-08 00:00:00\",\"2020-03-09 00:00:00\",\"2020-03-10 00:00:00\",\"2020-03-11 00:00:00\",\"2020-03-12 00:00:00\",\"2020-03-13 00:00:00\",\"2020-03-14 00:00:00\",\"2020-03-15 00:00:00\",\"2020-03-16 00:00:00\",\"2020-03-17 00:00:00\",\"2020-03-18 00:00:00\",\"2020-03-19 00:00:00\",\"2020-03-20 00:00:00\",\"2020-03-21 00:00:00\",\"2020-03-22 00:00:00\",\"2020-03-23 00:00:00\",\"2020-03-24 00:00:00\",\"2020-03-25 00:00:00\",\"2020-03-26 00:00:00\",\"2020-03-27 00:00:00\",\"2020-03-28 00:00:00\",\"2020-03-29 00:00:00\",\"2020-03-30 00:00:00\",\"2020-03-31 00:00:00\",\"2020-04-01 00:00:00\",\"2020-04-02 00:00:00\",\"2020-04-03 00:00:00\",\"2020-04-04 00:00:00\",\"2020-04-05 00:00:00\",\"2020-04-06 00:00:00\",\"2020-04-07 00:00:00\",\"2020-04-08 00:00:00\",\"2020-04-09 00:00:00\",\"2020-04-10 00:00:00\",\"2020-04-11 00:00:00\",\"2020-04-12 00:00:00\",\"2020-04-13 00:00:00\",\"2020-04-14 00:00:00\",\"2020-04-15 00:00:00\",\"2020-04-16 00:00:00\",\"2020-04-17 00:00:00\",\"2020-04-18 00:00:00\",\"2020-04-19 00:00:00\",\"2020-04-20 00:00:00\",\"2020-04-21 00:00:00\",\"2020-04-22 00:00:00\",\"2020-04-23 00:00:00\",\"2020-04-24 00:00:00\",\"2020-04-25 00:00:00\",\"2020-04-26 00:00:00\",\"2020-04-27 00:00:00\",\"2020-04-28 00:00:00\",\"2020-04-29 00:00:00\",\"2020-04-30 00:00:00\",\"2020-05-01 00:00:00\",\"2020-05-02 00:00:00\",\"2020-05-03 00:00:00\",\"2020-05-04 00:00:00\",\"2020-05-05 00:00:00\",\"2020-05-06 00:00:00\",\"2020-05-07 00:00:00\",\"2020-05-08 00:00:00\",\"2020-05-09 00:00:00\",\"2020-05-10 00:00:00\",\"2020-05-11 00:00:00\",\"2020-05-12 00:00:00\",\"2020-05-13 00:00:00\",\"2020-05-14 00:00:00\",\"2020-05-15 00:00:00\",\"2020-05-16 00:00:00\",\"2020-05-17 00:00:00\",\"2020-05-18 00:00:00\",\"2020-05-19 00:00:00\",\"2020-05-20 00:00:00\",\"2020-05-21 00:00:00\",\"2020-05-22 00:00:00\",\"2020-05-23 00:00:00\",\"2020-05-24 00:00:00\",\"2020-05-25 00:00:00\",\"2020-05-26 00:00:00\",\"2020-05-27 00:00:00\",\"2020-05-28 00:00:00\",\"2020-05-29 00:00:00\",\"2020-05-30 00:00:00\",\"2020-05-31 00:00:00\",\"2020-06-01 00:00:00\",\"2020-06-02 00:00:00\",\"2020-06-03 00:00:00\",\"2020-06-04 00:00:00\",\"2020-06-05 00:00:00\",\"2020-06-06 00:00:00\",\"2020-06-07 00:00:00\",\"2020-06-08 00:00:00\",\"2020-06-09 00:00:00\",\"2020-06-10 00:00:00\",\"2020-06-11 00:00:00\",\"2020-06-12 00:00:00\",\"2020-06-13 00:00:00\",\"2020-06-14 00:00:00\",\"2020-06-15 00:00:00\",\"2020-06-16 00:00:00\",\"2020-06-17 00:00:00\",\"2020-06-18 00:00:00\",\"2020-06-19 00:00:00\",\"2020-06-20 00:00:00\",\"2020-06-21 00:00:00\",\"2020-06-22 00:00:00\",\"2020-06-23 00:00:00\",\"2020-06-24 00:00:00\",\"2020-06-25 00:00:00\",\"2020-06-26 00:00:00\",\"2020-06-27 00:00:00\",\"2020-06-28 00:00:00\",\"2020-06-29 00:00:00\",\"2020-06-30 00:00:00\",\"2020-07-01 00:00:00\",\"2020-07-02 00:00:00\",\"2020-07-03 00:00:00\",\"2020-07-04 00:00:00\",\"2020-07-05 00:00:00\",\"2020-07-06 00:00:00\",\"2020-07-07 00:00:00\",\"2020-07-08 00:00:00\",\"2020-07-09 00:00:00\",\"2020-07-10 00:00:00\",\"2020-07-11 00:00:00\",\"2020-07-12 00:00:00\",\"2020-07-13 00:00:00\",\"2020-07-14 00:00:00\",\"2020-07-15 00:00:00\",\"2020-07-16 00:00:00\",\"2020-07-17 00:00:00\",\"2020-07-18 00:00:00\",\"2020-07-19 00:00:00\",\"2020-07-20 00:00:00\",\"2020-07-21 00:00:00\",\"2020-07-22 00:00:00\",\"2020-07-23 00:00:00\",\"2020-07-24 00:00:00\",\"2020-07-25 00:00:00\",\"2020-07-26 00:00:00\",\"2020-07-27 00:00:00\",\"2020-07-28 00:00:00\",\"2020-07-29 00:00:00\",\"2020-07-30 00:00:00\",\"2020-07-31 00:00:00\",\"2020-08-01 00:00:00\",\"2020-08-02 00:00:00\",\"2020-08-03 00:00:00\",\"2020-08-04 00:00:00\",\"2020-08-05 00:00:00\",\"2020-08-06 00:00:00\",\"2020-08-07 00:00:00\",\"2020-08-08 00:00:00\",\"2020-08-09 00:00:00\",\"2020-08-10 00:00:00\",\"2020-08-11 00:00:00\",\"2020-08-12 00:00:00\",\"2020-08-13 00:00:00\",\"2020-08-14 00:00:00\",\"2020-08-15 00:00:00\",\"2020-08-16 00:00:00\",\"2020-08-17 00:00:00\",\"2020-08-18 00:00:00\",\"2020-08-19 00:00:00\",\"2020-08-20 00:00:00\",\"2020-08-21 00:00:00\",\"2020-08-22 00:00:00\",\"2020-08-23 00:00:00\",\"2020-08-24 00:00:00\",\"2020-08-25 00:00:00\",\"2020-08-26 00:00:00\",\"2020-08-27 00:00:00\",\"2020-08-28 00:00:00\",\"2020-08-29 00:00:00\",\"2020-08-30 00:00:00\",\"2020-08-31 00:00:00\",\"2020-09-01 00:00:00\",\"2020-09-02 00:00:00\",\"2020-09-03 00:00:00\",\"2020-09-04 00:00:00\",\"2020-09-05 00:00:00\",\"2020-09-06 00:00:00\",\"2020-09-07 00:00:00\",\"2020-09-08 00:00:00\",\"2020-09-09 00:00:00\",\"2020-09-10 00:00:00\",\"2020-09-11 00:00:00\",\"2020-09-12 00:00:00\",\"2020-09-13 00:00:00\",\"2020-09-14 00:00:00\",\"2020-09-15 00:00:00\",\"2020-09-16 00:00:00\",\"2020-09-17 00:00:00\",\"2020-09-18 00:00:00\",\"2020-09-19 00:00:00\",\"2020-09-20 00:00:00\",\"2020-09-21 00:00:00\",\"2020-09-22 00:00:00\",\"2020-09-23 00:00:00\",\"2020-09-24 00:00:00\",\"2020-09-25 00:00:00\",\"2020-09-26 00:00:00\",\"2020-09-27 00:00:00\",\"2020-09-28 00:00:00\",\"2020-09-29 00:00:00\",\"2020-09-30 00:00:00\",\"2020-10-01 00:00:00\",\"2020-10-02 00:00:00\",\"2020-10-03 00:00:00\",\"2020-10-04 00:00:00\",\"2020-10-05 00:00:00\",\"2020-10-06 00:00:00\",\"2020-10-07 00:00:00\",\"2020-10-08 00:00:00\",\"2020-10-09 00:00:00\",\"2020-10-10 00:00:00\",\"2020-10-11 00:00:00\",\"2020-10-12 00:00:00\",\"2020-10-13 00:00:00\",\"2020-10-14 00:00:00\",\"2020-10-15 00:00:00\",\"2020-10-16 00:00:00\",\"2020-10-17 00:00:00\",\"2020-10-18 00:00:00\",\"2020-10-19 00:00:00\",\"2020-10-20 00:00:00\",\"2020-10-21 00:00:00\",\"2020-10-22 00:00:00\",\"2020-10-23 00:00:00\",\"2020-10-24 00:00:00\",\"2020-10-25 00:00:00\",\"2020-10-26 00:00:00\",\"2020-10-27 00:00:00\",\"2020-10-28 00:00:00\",\"2020-10-29 00:00:00\",\"2020-10-30 00:00:00\",\"2020-10-31 00:00:00\",\"2020-11-01 00:00:00\",\"2020-11-02 00:00:00\",\"2020-11-03 00:00:00\",\"2020-11-04 00:00:00\",\"2020-11-05 00:00:00\",\"2020-11-06 00:00:00\",\"2020-11-07 00:00:00\",\"2020-11-08 00:00:00\",\"2020-11-09 00:00:00\",\"2020-11-10 00:00:00\",\"2020-11-11 00:00:00\",\"2020-11-12 00:00:00\",\"2020-11-13 00:00:00\",\"2020-11-14 00:00:00\",\"2020-11-15 00:00:00\",\"2020-11-16 00:00:00\",\"2020-11-17 00:00:00\",\"2020-11-18 00:00:00\",\"2020-11-19 00:00:00\",\"2020-11-20 00:00:00\",\"2020-11-21 00:00:00\",\"2020-11-22 00:00:00\",\"2020-11-23 00:00:00\",\"2020-11-24 00:00:00\",\"2020-11-25 00:00:00\",\"2020-11-26 00:00:00\",\"2020-11-27 00:00:00\",\"2020-11-28 00:00:00\",\"2020-11-29 00:00:00\",\"2020-11-30 00:00:00\",\"2020-12-01 00:00:00\",\"2020-12-02 00:00:00\",\"2020-12-03 00:00:00\",\"2020-12-04 00:00:00\",\"2020-12-05 00:00:00\",\"2020-12-06 00:00:00\",\"2020-12-07 00:00:00\",\"2020-12-08 00:00:00\",\"2020-12-09 00:00:00\",\"2020-12-10 00:00:00\",\"2020-12-11 00:00:00\",\"2020-12-12 00:00:00\",\"2020-12-13 00:00:00\",\"2020-12-14 00:00:00\",\"2020-12-15 00:00:00\",\"2020-12-16 00:00:00\",\"2020-12-17 00:00:00\",\"2020-12-18 00:00:00\",\"2020-12-19 00:00:00\",\"2020-12-20 00:00:00\",\"2020-12-21 00:00:00\",\"2020-12-22 00:00:00\",\"2020-12-23 00:00:00\",\"2020-12-24 00:00:00\",\"2020-12-25 00:00:00\",\"2020-12-26 00:00:00\",\"2020-12-27 00:00:00\",\"2020-12-28 00:00:00\",\"2020-12-29 00:00:00\",\"2020-12-30 00:00:00\",\"2020-12-31 00:00:00\",\"2021-01-01 00:00:00\",\"2021-01-02 00:00:00\",\"2021-01-03 00:00:00\",\"2021-01-04 00:00:00\",\"2021-01-05 00:00:00\",\"2021-01-06 00:00:00\",\"2021-01-07 00:00:00\",\"2021-01-08 00:00:00\",\"2021-01-09 00:00:00\",\"2021-01-10 00:00:00\",\"2021-01-11 00:00:00\",\"2021-01-12 00:00:00\",\"2021-01-13 00:00:00\",\"2021-01-14 00:00:00\",\"2021-01-15 00:00:00\",\"2021-01-16 00:00:00\",\"2021-01-17 00:00:00\",\"2021-01-18 00:00:00\",\"2021-01-19 00:00:00\",\"2021-01-20 00:00:00\",\"2021-01-21 00:00:00\",\"2021-01-22 00:00:00\",\"2021-01-23 00:00:00\",\"2021-01-24 00:00:00\",\"2021-01-25 00:00:00\",\"2021-01-26 00:00:00\",\"2021-01-27 00:00:00\",\"2021-01-28 00:00:00\",\"2021-01-29 00:00:00\",\"2021-01-30 00:00:00\",\"2021-01-31 00:00:00\",\"2021-02-01 00:00:00\",\"2021-02-02 00:00:00\",\"2021-02-03 00:00:00\",\"2021-02-04 00:00:00\",\"2021-02-05 00:00:00\",\"2021-02-06 00:00:00\",\"2021-02-07 00:00:00\",\"2021-02-08 00:00:00\",\"2021-02-09 00:00:00\",\"2021-02-10 00:00:00\",\"2021-02-11 00:00:00\",\"2021-02-12 00:00:00\",\"2021-02-13 00:00:00\",\"2021-02-14 00:00:00\",\"2021-02-15 00:00:00\",\"2021-02-16 00:00:00\",\"2021-02-17 00:00:00\",\"2021-02-18 00:00:00\",\"2021-02-19 00:00:00\",\"2021-02-20 00:00:00\",\"2021-02-21 00:00:00\",\"2021-02-22 00:00:00\",\"2021-02-23 00:00:00\",\"2021-02-24 00:00:00\",\"2021-02-25 00:00:00\",\"2021-02-26 00:00:00\",\"2021-02-27 00:00:00\",\"2021-02-28 00:00:00\",\"2021-03-01 00:00:00\",\"2021-03-02 00:00:00\",\"2021-03-03 00:00:00\",\"2021-03-04 00:00:00\",\"2021-03-05 00:00:00\",\"2021-03-06 00:00:00\",\"2021-03-07 00:00:00\",\"2021-03-08 00:00:00\",\"2021-03-09 00:00:00\",\"2021-03-10 00:00:00\",\"2021-03-11 00:00:00\",\"2021-03-12 00:00:00\",\"2021-03-13 00:00:00\",\"2021-03-14 00:00:00\",\"2021-03-15 00:00:00\",\"2021-03-16 00:00:00\",\"2021-03-17 00:00:00\",\"2021-03-18 00:00:00\",\"2021-03-19 00:00:00\",\"2021-03-20 00:00:00\",\"2021-03-21 00:00:00\",\"2021-03-22 00:00:00\",\"2021-03-23 00:00:00\",\"2021-03-24 00:00:00\",\"2021-03-25 00:00:00\",\"2021-03-26 00:00:00\",\"2021-03-27 00:00:00\",\"2021-03-28 00:00:00\",\"2021-03-29 00:00:00\",\"2021-03-30 00:00:00\",\"2021-03-31 00:00:00\",\"2021-04-01 00:00:00\",\"2021-04-02 00:00:00\",\"2021-04-03 00:00:00\",\"2021-04-04 00:00:00\",\"2021-04-05 00:00:00\",\"2021-04-06 00:00:00\",\"2021-04-07 00:00:00\",\"2021-04-08 00:00:00\",\"2021-04-09 00:00:00\",\"2021-04-10 00:00:00\",\"2021-04-11 00:00:00\",\"2021-04-12 00:00:00\",\"2021-04-13 00:00:00\",\"2021-04-14 00:00:00\",\"2021-04-15 00:00:00\",\"2021-04-16 00:00:00\",\"2021-04-17 00:00:00\",\"2021-04-18 00:00:00\",\"2021-04-19 00:00:00\",\"2021-04-20 00:00:00\",\"2021-04-21 00:00:00\",\"2021-04-22 00:00:00\",\"2021-04-23 00:00:00\",\"2021-04-24 00:00:00\",\"2021-04-25 00:00:00\",\"2021-04-26 00:00:00\",\"2021-04-27 00:00:00\",\"2021-04-28 00:00:00\",\"2021-04-29 00:00:00\",\"2021-04-30 00:00:00\",\"2021-05-01 00:00:00\",\"2021-05-02 00:00:00\",\"2021-05-03 00:00:00\",\"2021-05-04 00:00:00\",\"2021-05-05 00:00:00\",\"2021-05-06 00:00:00\",\"2021-05-07 00:00:00\",\"2021-05-08 00:00:00\",\"2021-05-09 00:00:00\",\"2021-05-10 00:00:00\",\"2021-05-11 00:00:00\",\"2021-05-12 00:00:00\",\"2021-05-13 00:00:00\",\"2021-05-14 00:00:00\",\"2021-05-15 00:00:00\",\"2021-05-16 00:00:00\",\"2021-05-17 00:00:00\",\"2021-05-18 00:00:00\",\"2021-05-19 00:00:00\",\"2021-05-20 00:00:00\",\"2021-05-21 00:00:00\",\"2021-05-22 00:00:00\",\"2021-05-23 00:00:00\",\"2021-05-24 00:00:00\",\"2021-05-25 00:00:00\",\"2021-05-26 00:00:00\",\"2021-05-27 00:00:00\",\"2021-05-28 00:00:00\",\"2021-05-29 00:00:00\",\"2021-05-30 00:00:00\",\"2021-05-31 00:00:00\",\"2021-06-01 00:00:00\",\"2021-06-02 00:00:00\",\"2021-06-03 00:00:00\",\"2021-06-04 00:00:00\",\"2021-06-05 00:00:00\",\"2021-06-06 00:00:00\",\"2021-06-07 00:00:00\",\"2021-06-08 00:00:00\",\"2021-06-09 00:00:00\",\"2021-06-10 00:00:00\",\"2021-06-11 00:00:00\",\"2021-06-12 00:00:00\",\"2021-06-13 00:00:00\",\"2021-06-14 00:00:00\",\"2021-06-15 00:00:00\",\"2021-06-16 00:00:00\",\"2021-06-17 00:00:00\",\"2021-06-18 00:00:00\",\"2021-06-19 00:00:00\",\"2021-06-20 00:00:00\",\"2021-06-21 00:00:00\",\"2021-06-22 00:00:00\",\"2021-06-23 00:00:00\",\"2021-06-24 00:00:00\",\"2021-06-25 00:00:00\",\"2021-06-26 00:00:00\",\"2021-06-27 00:00:00\",\"2021-06-28 00:00:00\",\"2021-06-29 00:00:00\",\"2021-06-30 00:00:00\",\"2021-07-01 00:00:00\",\"2021-07-02 00:00:00\",\"2021-07-03 00:00:00\",\"2021-07-04 00:00:00\",\"2021-07-05 00:00:00\",\"2021-07-06 00:00:00\",\"2021-07-07 00:00:00\",\"2021-07-08 00:00:00\",\"2021-07-09 00:00:00\",\"2021-07-10 00:00:00\",\"2021-07-11 00:00:00\",\"2021-07-12 00:00:00\",\"2021-07-13 00:00:00\",\"2021-07-14 00:00:00\",\"2021-07-15 00:00:00\",\"2021-07-16 00:00:00\",\"2021-07-17 00:00:00\",\"2021-07-18 00:00:00\",\"2021-07-19 00:00:00\",\"2021-07-20 00:00:00\",\"2021-07-21 00:00:00\",\"2021-07-22 00:00:00\",\"2021-07-23 00:00:00\",\"2021-07-24 00:00:00\"],\"type\":\"scatter\",\"x\":[\"2020-01-25T00:00:00\",\"2020-01-26T00:00:00\",\"2020-01-27T00:00:00\",\"2020-01-28T00:00:00\",\"2020-01-29T00:00:00\",\"2020-01-30T00:00:00\",\"2020-01-31T00:00:00\",\"2020-02-01T00:00:00\",\"2020-02-02T00:00:00\",\"2020-02-03T00:00:00\",\"2020-02-04T00:00:00\",\"2020-02-05T00:00:00\",\"2020-02-06T00:00:00\",\"2020-02-07T00:00:00\",\"2020-02-08T00:00:00\",\"2020-02-09T00:00:00\",\"2020-02-10T00:00:00\",\"2020-02-11T00:00:00\",\"2020-02-12T00:00:00\",\"2020-02-13T00:00:00\",\"2020-02-14T00:00:00\",\"2020-02-15T00:00:00\",\"2020-02-16T00:00:00\",\"2020-02-17T00:00:00\",\"2020-02-18T00:00:00\",\"2020-02-19T00:00:00\",\"2020-02-20T00:00:00\",\"2020-02-21T00:00:00\",\"2020-02-22T00:00:00\",\"2020-02-23T00:00:00\",\"2020-02-24T00:00:00\",\"2020-02-25T00:00:00\",\"2020-02-26T00:00:00\",\"2020-02-27T00:00:00\",\"2020-02-28T00:00:00\",\"2020-02-29T00:00:00\",\"2020-03-01T00:00:00\",\"2020-03-02T00:00:00\",\"2020-03-03T00:00:00\",\"2020-03-04T00:00:00\",\"2020-03-05T00:00:00\",\"2020-03-06T00:00:00\",\"2020-03-07T00:00:00\",\"2020-03-08T00:00:00\",\"2020-03-09T00:00:00\",\"2020-03-10T00:00:00\",\"2020-03-11T00:00:00\",\"2020-03-12T00:00:00\",\"2020-03-13T00:00:00\",\"2020-03-14T00:00:00\",\"2020-03-15T00:00:00\",\"2020-03-16T00:00:00\",\"2020-03-17T00:00:00\",\"2020-03-18T00:00:00\",\"2020-03-19T00:00:00\",\"2020-03-20T00:00:00\",\"2020-03-21T00:00:00\",\"2020-03-22T00:00:00\",\"2020-03-23T00:00:00\",\"2020-03-24T00:00:00\",\"2020-03-25T00:00:00\",\"2020-03-26T00:00:00\",\"2020-03-27T00:00:00\",\"2020-03-28T00:00:00\",\"2020-03-29T00:00:00\",\"2020-03-30T00:00:00\",\"2020-03-31T00:00:00\",\"2020-04-01T00:00:00\",\"2020-04-02T00:00:00\",\"2020-04-03T00:00:00\",\"2020-04-04T00:00:00\",\"2020-04-05T00:00:00\",\"2020-04-06T00:00:00\",\"2020-04-07T00:00:00\",\"2020-04-08T00:00:00\",\"2020-04-09T00:00:00\",\"2020-04-10T00:00:00\",\"2020-04-11T00:00:00\",\"2020-04-12T00:00:00\",\"2020-04-13T00:00:00\",\"2020-04-14T00:00:00\",\"2020-04-15T00:00:00\",\"2020-04-16T00:00:00\",\"2020-04-17T00:00:00\",\"2020-04-18T00:00:00\",\"2020-04-19T00:00:00\",\"2020-04-20T00:00:00\",\"2020-04-21T00:00:00\",\"2020-04-22T00:00:00\",\"2020-04-23T00:00:00\",\"2020-04-24T00:00:00\",\"2020-04-25T00:00:00\",\"2020-04-26T00:00:00\",\"2020-04-27T00:00:00\",\"2020-04-28T00:00:00\",\"2020-04-29T00:00:00\",\"2020-04-30T00:00:00\",\"2020-05-01T00:00:00\",\"2020-05-02T00:00:00\",\"2020-05-03T00:00:00\",\"2020-05-04T00:00:00\",\"2020-05-05T00:00:00\",\"2020-05-06T00:00:00\",\"2020-05-07T00:00:00\",\"2020-05-08T00:00:00\",\"2020-05-09T00:00:00\",\"2020-05-10T00:00:00\",\"2020-05-11T00:00:00\",\"2020-05-12T00:00:00\",\"2020-05-13T00:00:00\",\"2020-05-14T00:00:00\",\"2020-05-15T00:00:00\",\"2020-05-16T00:00:00\",\"2020-05-17T00:00:00\",\"2020-05-18T00:00:00\",\"2020-05-19T00:00:00\",\"2020-05-20T00:00:00\",\"2020-05-21T00:00:00\",\"2020-05-22T00:00:00\",\"2020-05-23T00:00:00\",\"2020-05-24T00:00:00\",\"2020-05-25T00:00:00\",\"2020-05-26T00:00:00\",\"2020-05-27T00:00:00\",\"2020-05-28T00:00:00\",\"2020-05-29T00:00:00\",\"2020-05-30T00:00:00\",\"2020-05-31T00:00:00\",\"2020-06-01T00:00:00\",\"2020-06-02T00:00:00\",\"2020-06-03T00:00:00\",\"2020-06-04T00:00:00\",\"2020-06-05T00:00:00\",\"2020-06-06T00:00:00\",\"2020-06-07T00:00:00\",\"2020-06-08T00:00:00\",\"2020-06-09T00:00:00\",\"2020-06-10T00:00:00\",\"2020-06-11T00:00:00\",\"2020-06-12T00:00:00\",\"2020-06-13T00:00:00\",\"2020-06-14T00:00:00\",\"2020-06-15T00:00:00\",\"2020-06-16T00:00:00\",\"2020-06-17T00:00:00\",\"2020-06-18T00:00:00\",\"2020-06-19T00:00:00\",\"2020-06-20T00:00:00\",\"2020-06-21T00:00:00\",\"2020-06-22T00:00:00\",\"2020-06-23T00:00:00\",\"2020-06-24T00:00:00\",\"2020-06-25T00:00:00\",\"2020-06-26T00:00:00\",\"2020-06-27T00:00:00\",\"2020-06-28T00:00:00\",\"2020-06-29T00:00:00\",\"2020-06-30T00:00:00\",\"2020-07-01T00:00:00\",\"2020-07-02T00:00:00\",\"2020-07-03T00:00:00\",\"2020-07-04T00:00:00\",\"2020-07-05T00:00:00\",\"2020-07-06T00:00:00\",\"2020-07-07T00:00:00\",\"2020-07-08T00:00:00\",\"2020-07-09T00:00:00\",\"2020-07-10T00:00:00\",\"2020-07-11T00:00:00\",\"2020-07-12T00:00:00\",\"2020-07-13T00:00:00\",\"2020-07-14T00:00:00\",\"2020-07-15T00:00:00\",\"2020-07-16T00:00:00\",\"2020-07-17T00:00:00\",\"2020-07-18T00:00:00\",\"2020-07-19T00:00:00\",\"2020-07-20T00:00:00\",\"2020-07-21T00:00:00\",\"2020-07-22T00:00:00\",\"2020-07-23T00:00:00\",\"2020-07-24T00:00:00\",\"2020-07-25T00:00:00\",\"2020-07-26T00:00:00\",\"2020-07-27T00:00:00\",\"2020-07-28T00:00:00\",\"2020-07-29T00:00:00\",\"2020-07-30T00:00:00\",\"2020-07-31T00:00:00\",\"2020-08-01T00:00:00\",\"2020-08-02T00:00:00\",\"2020-08-03T00:00:00\",\"2020-08-04T00:00:00\",\"2020-08-05T00:00:00\",\"2020-08-06T00:00:00\",\"2020-08-07T00:00:00\",\"2020-08-08T00:00:00\",\"2020-08-09T00:00:00\",\"2020-08-10T00:00:00\",\"2020-08-11T00:00:00\",\"2020-08-12T00:00:00\",\"2020-08-13T00:00:00\",\"2020-08-14T00:00:00\",\"2020-08-15T00:00:00\",\"2020-08-16T00:00:00\",\"2020-08-17T00:00:00\",\"2020-08-18T00:00:00\",\"2020-08-19T00:00:00\",\"2020-08-20T00:00:00\",\"2020-08-21T00:00:00\",\"2020-08-22T00:00:00\",\"2020-08-23T00:00:00\",\"2020-08-24T00:00:00\",\"2020-08-25T00:00:00\",\"2020-08-26T00:00:00\",\"2020-08-27T00:00:00\",\"2020-08-28T00:00:00\",\"2020-08-29T00:00:00\",\"2020-08-30T00:00:00\",\"2020-08-31T00:00:00\",\"2020-09-01T00:00:00\",\"2020-09-02T00:00:00\",\"2020-09-03T00:00:00\",\"2020-09-04T00:00:00\",\"2020-09-05T00:00:00\",\"2020-09-06T00:00:00\",\"2020-09-07T00:00:00\",\"2020-09-08T00:00:00\",\"2020-09-09T00:00:00\",\"2020-09-10T00:00:00\",\"2020-09-11T00:00:00\",\"2020-09-12T00:00:00\",\"2020-09-13T00:00:00\",\"2020-09-14T00:00:00\",\"2020-09-15T00:00:00\",\"2020-09-16T00:00:00\",\"2020-09-17T00:00:00\",\"2020-09-18T00:00:00\",\"2020-09-19T00:00:00\",\"2020-09-20T00:00:00\",\"2020-09-21T00:00:00\",\"2020-09-22T00:00:00\",\"2020-09-23T00:00:00\",\"2020-09-24T00:00:00\",\"2020-09-25T00:00:00\",\"2020-09-26T00:00:00\",\"2020-09-27T00:00:00\",\"2020-09-28T00:00:00\",\"2020-09-29T00:00:00\",\"2020-09-30T00:00:00\",\"2020-10-01T00:00:00\",\"2020-10-02T00:00:00\",\"2020-10-03T00:00:00\",\"2020-10-04T00:00:00\",\"2020-10-05T00:00:00\",\"2020-10-06T00:00:00\",\"2020-10-07T00:00:00\",\"2020-10-08T00:00:00\",\"2020-10-09T00:00:00\",\"2020-10-10T00:00:00\",\"2020-10-11T00:00:00\",\"2020-10-12T00:00:00\",\"2020-10-13T00:00:00\",\"2020-10-14T00:00:00\",\"2020-10-15T00:00:00\",\"2020-10-16T00:00:00\",\"2020-10-17T00:00:00\",\"2020-10-18T00:00:00\",\"2020-10-19T00:00:00\",\"2020-10-20T00:00:00\",\"2020-10-21T00:00:00\",\"2020-10-22T00:00:00\",\"2020-10-23T00:00:00\",\"2020-10-24T00:00:00\",\"2020-10-25T00:00:00\",\"2020-10-26T00:00:00\",\"2020-10-27T00:00:00\",\"2020-10-28T00:00:00\",\"2020-10-29T00:00:00\",\"2020-10-30T00:00:00\",\"2020-10-31T00:00:00\",\"2020-11-01T00:00:00\",\"2020-11-02T00:00:00\",\"2020-11-03T00:00:00\",\"2020-11-04T00:00:00\",\"2020-11-05T00:00:00\",\"2020-11-06T00:00:00\",\"2020-11-07T00:00:00\",\"2020-11-08T00:00:00\",\"2020-11-09T00:00:00\",\"2020-11-10T00:00:00\",\"2020-11-11T00:00:00\",\"2020-11-12T00:00:00\",\"2020-11-13T00:00:00\",\"2020-11-14T00:00:00\",\"2020-11-15T00:00:00\",\"2020-11-16T00:00:00\",\"2020-11-17T00:00:00\",\"2020-11-18T00:00:00\",\"2020-11-19T00:00:00\",\"2020-11-20T00:00:00\",\"2020-11-21T00:00:00\",\"2020-11-22T00:00:00\",\"2020-11-23T00:00:00\",\"2020-11-24T00:00:00\",\"2020-11-25T00:00:00\",\"2020-11-26T00:00:00\",\"2020-11-27T00:00:00\",\"2020-11-28T00:00:00\",\"2020-11-29T00:00:00\",\"2020-11-30T00:00:00\",\"2020-12-01T00:00:00\",\"2020-12-02T00:00:00\",\"2020-12-03T00:00:00\",\"2020-12-04T00:00:00\",\"2020-12-05T00:00:00\",\"2020-12-06T00:00:00\",\"2020-12-07T00:00:00\",\"2020-12-08T00:00:00\",\"2020-12-09T00:00:00\",\"2020-12-10T00:00:00\",\"2020-12-11T00:00:00\",\"2020-12-12T00:00:00\",\"2020-12-13T00:00:00\",\"2020-12-14T00:00:00\",\"2020-12-15T00:00:00\",\"2020-12-16T00:00:00\",\"2020-12-17T00:00:00\",\"2020-12-18T00:00:00\",\"2020-12-19T00:00:00\",\"2020-12-20T00:00:00\",\"2020-12-21T00:00:00\",\"2020-12-22T00:00:00\",\"2020-12-23T00:00:00\",\"2020-12-24T00:00:00\",\"2020-12-25T00:00:00\",\"2020-12-26T00:00:00\",\"2020-12-27T00:00:00\",\"2020-12-28T00:00:00\",\"2020-12-29T00:00:00\",\"2020-12-30T00:00:00\",\"2020-12-31T00:00:00\",\"2021-01-01T00:00:00\",\"2021-01-02T00:00:00\",\"2021-01-03T00:00:00\",\"2021-01-04T00:00:00\",\"2021-01-05T00:00:00\",\"2021-01-06T00:00:00\",\"2021-01-07T00:00:00\",\"2021-01-08T00:00:00\",\"2021-01-09T00:00:00\",\"2021-01-10T00:00:00\",\"2021-01-11T00:00:00\",\"2021-01-12T00:00:00\",\"2021-01-13T00:00:00\",\"2021-01-14T00:00:00\",\"2021-01-15T00:00:00\",\"2021-01-16T00:00:00\",\"2021-01-17T00:00:00\",\"2021-01-18T00:00:00\",\"2021-01-19T00:00:00\",\"2021-01-20T00:00:00\",\"2021-01-21T00:00:00\",\"2021-01-22T00:00:00\",\"2021-01-23T00:00:00\",\"2021-01-24T00:00:00\",\"2021-01-25T00:00:00\",\"2021-01-26T00:00:00\",\"2021-01-27T00:00:00\",\"2021-01-28T00:00:00\",\"2021-01-29T00:00:00\",\"2021-01-30T00:00:00\",\"2021-01-31T00:00:00\",\"2021-02-01T00:00:00\",\"2021-02-02T00:00:00\",\"2021-02-03T00:00:00\",\"2021-02-04T00:00:00\",\"2021-02-05T00:00:00\",\"2021-02-06T00:00:00\",\"2021-02-07T00:00:00\",\"2021-02-08T00:00:00\",\"2021-02-09T00:00:00\",\"2021-02-10T00:00:00\",\"2021-02-11T00:00:00\",\"2021-02-12T00:00:00\",\"2021-02-13T00:00:00\",\"2021-02-14T00:00:00\",\"2021-02-15T00:00:00\",\"2021-02-16T00:00:00\",\"2021-02-17T00:00:00\",\"2021-02-18T00:00:00\",\"2021-02-19T00:00:00\",\"2021-02-20T00:00:00\",\"2021-02-21T00:00:00\",\"2021-02-22T00:00:00\",\"2021-02-23T00:00:00\",\"2021-02-24T00:00:00\",\"2021-02-25T00:00:00\",\"2021-02-26T00:00:00\",\"2021-02-27T00:00:00\",\"2021-02-28T00:00:00\",\"2021-03-01T00:00:00\",\"2021-03-02T00:00:00\",\"2021-03-03T00:00:00\",\"2021-03-04T00:00:00\",\"2021-03-05T00:00:00\",\"2021-03-06T00:00:00\",\"2021-03-07T00:00:00\",\"2021-03-08T00:00:00\",\"2021-03-09T00:00:00\",\"2021-03-10T00:00:00\",\"2021-03-11T00:00:00\",\"2021-03-12T00:00:00\",\"2021-03-13T00:00:00\",\"2021-03-14T00:00:00\",\"2021-03-15T00:00:00\",\"2021-03-16T00:00:00\",\"2021-03-17T00:00:00\",\"2021-03-18T00:00:00\",\"2021-03-19T00:00:00\",\"2021-03-20T00:00:00\",\"2021-03-21T00:00:00\",\"2021-03-22T00:00:00\",\"2021-03-23T00:00:00\",\"2021-03-24T00:00:00\",\"2021-03-25T00:00:00\",\"2021-03-26T00:00:00\",\"2021-03-27T00:00:00\",\"2021-03-28T00:00:00\",\"2021-03-29T00:00:00\",\"2021-03-30T00:00:00\",\"2021-03-31T00:00:00\",\"2021-04-01T00:00:00\",\"2021-04-02T00:00:00\",\"2021-04-03T00:00:00\",\"2021-04-04T00:00:00\",\"2021-04-05T00:00:00\",\"2021-04-06T00:00:00\",\"2021-04-07T00:00:00\",\"2021-04-08T00:00:00\",\"2021-04-09T00:00:00\",\"2021-04-10T00:00:00\",\"2021-04-11T00:00:00\",\"2021-04-12T00:00:00\",\"2021-04-13T00:00:00\",\"2021-04-14T00:00:00\",\"2021-04-15T00:00:00\",\"2021-04-16T00:00:00\",\"2021-04-17T00:00:00\",\"2021-04-18T00:00:00\",\"2021-04-19T00:00:00\",\"2021-04-20T00:00:00\",\"2021-04-21T00:00:00\",\"2021-04-22T00:00:00\",\"2021-04-23T00:00:00\",\"2021-04-24T00:00:00\",\"2021-04-25T00:00:00\",\"2021-04-26T00:00:00\",\"2021-04-27T00:00:00\",\"2021-04-28T00:00:00\",\"2021-04-29T00:00:00\",\"2021-04-30T00:00:00\",\"2021-05-01T00:00:00\",\"2021-05-02T00:00:00\",\"2021-05-03T00:00:00\",\"2021-05-04T00:00:00\",\"2021-05-05T00:00:00\",\"2021-05-06T00:00:00\",\"2021-05-07T00:00:00\",\"2021-05-08T00:00:00\",\"2021-05-09T00:00:00\",\"2021-05-10T00:00:00\",\"2021-05-11T00:00:00\",\"2021-05-12T00:00:00\",\"2021-05-13T00:00:00\",\"2021-05-14T00:00:00\",\"2021-05-15T00:00:00\",\"2021-05-16T00:00:00\",\"2021-05-17T00:00:00\",\"2021-05-18T00:00:00\",\"2021-05-19T00:00:00\",\"2021-05-20T00:00:00\",\"2021-05-21T00:00:00\",\"2021-05-22T00:00:00\",\"2021-05-23T00:00:00\",\"2021-05-24T00:00:00\",\"2021-05-25T00:00:00\",\"2021-05-26T00:00:00\",\"2021-05-27T00:00:00\",\"2021-05-28T00:00:00\",\"2021-05-29T00:00:00\",\"2021-05-30T00:00:00\",\"2021-05-31T00:00:00\",\"2021-06-01T00:00:00\",\"2021-06-02T00:00:00\",\"2021-06-03T00:00:00\",\"2021-06-04T00:00:00\",\"2021-06-05T00:00:00\",\"2021-06-06T00:00:00\",\"2021-06-07T00:00:00\",\"2021-06-08T00:00:00\",\"2021-06-09T00:00:00\",\"2021-06-10T00:00:00\",\"2021-06-11T00:00:00\",\"2021-06-12T00:00:00\",\"2021-06-13T00:00:00\",\"2021-06-14T00:00:00\",\"2021-06-15T00:00:00\",\"2021-06-16T00:00:00\",\"2021-06-17T00:00:00\",\"2021-06-18T00:00:00\",\"2021-06-19T00:00:00\",\"2021-06-20T00:00:00\",\"2021-06-21T00:00:00\",\"2021-06-22T00:00:00\",\"2021-06-23T00:00:00\",\"2021-06-24T00:00:00\",\"2021-06-25T00:00:00\",\"2021-06-26T00:00:00\",\"2021-06-27T00:00:00\",\"2021-06-28T00:00:00\",\"2021-06-29T00:00:00\",\"2021-06-30T00:00:00\",\"2021-07-01T00:00:00\",\"2021-07-02T00:00:00\",\"2021-07-03T00:00:00\",\"2021-07-04T00:00:00\",\"2021-07-05T00:00:00\",\"2021-07-06T00:00:00\",\"2021-07-07T00:00:00\",\"2021-07-08T00:00:00\",\"2021-07-09T00:00:00\",\"2021-07-10T00:00:00\",\"2021-07-11T00:00:00\",\"2021-07-12T00:00:00\",\"2021-07-13T00:00:00\",\"2021-07-14T00:00:00\",\"2021-07-15T00:00:00\",\"2021-07-16T00:00:00\",\"2021-07-17T00:00:00\",\"2021-07-18T00:00:00\",\"2021-07-19T00:00:00\",\"2021-07-20T00:00:00\",\"2021-07-21T00:00:00\",\"2021-07-22T00:00:00\",\"2021-07-23T00:00:00\",\"2021-07-24T00:00:00\"],\"y\":[3,0,1,0,0,0,0,0,0,0,0,0,0,0,0,0,0,0,0,0,0,0,0,0,0,0,0,0,0,0,0,0,0,0,0,0,2,3,6,6,4,7,2,7,13,6,16,14,19,20,38,29,64,45,56,88,122,121,177,192,206,185,213,143,124,90,131,124,92,106,73,63,40,44,44,41,30,18,9,7,21,22,22,15,17,7,2,6,3,8,14,3,1,5,10,3,15,2,2,1,4,5,3,2,4,1,1,0,5,4,3,2,0,1,2,4,1,3,0,1,1,2,0,1,2,1,2,5,4,1,2,3,0,1,3,1,3,0,3,3,9,6,0,0,2,7,1,6,1,1,10,4,6,5,10,3,6,11,6,5,8,12,8,13,6,13,9,8,2,15,17,10,9,9,13,17,20,14,14,16,7,18,19,8,15,22,15,22,15,14,11,13,9,13,11,8,14,13,22,15,10,14,7,6,5,3,8,2,5,7,2,3,4,6,12,15,10,7,11,12,15,10,7,7,8,4,11,5,10,8,8,6,7,7,5,7,3,4,1,5,1,6,3,2,1,0,0,5,2,4,3,0,3,2,9,3,15,6,4,7,5,15,12,10,3,7,6,6,10,4,9,3,6,7,3,15,5,4,7,4,5,5,4,7,3,10,5,4,7,5,2,5,2,6,8,2,4,6,7,3,10,9,5,7,2,0,5,8,4,7,8,6,8,4,2,5,7,4,2,9,6,3,3,5,7,3,9,25,28,32,28,12,13,21,12,11,13,10,9,30,10,11,17,7,11,4,4,12,5,11,7,12,11,5,2,2,14,14,2,1,4,5,0,1,5,1,3,1,4,4,3,2,4,2,2,3,0,4,0,5,4,1,2,2,2,2,0,2,3,1,2,1,3,1,4,4,5,4,4,4,6,1,5,6,9,4,1,1,5,5,7,6,0,5,3,1,6,8,1,2,5,4,2,4,3,2,3,0,4,4,5,2,0,3,1,4,9,5,1,3,5,7,6,4,4,12,1,9,4,9,4,7,15,5,1,4,7,16,12,17,2,4,2,8,9,7,9,4,5,7,6,4,2,5,3,2,2,2,3,2,2,0,3,0,2,2,2,0,4,2,3,2,0,1,2,0,4,3,4,8,1,2,2,0,1,8,4,1,4,1,7,7,3,5,19,12,22,28,28,23,16,31,31,31,42,24,31,17,34,37,46,52,107,121,73,91,76,102,116,99,112,67,108,146,145,151,107]}],                        {\"template\":{\"data\":{\"bar\":[{\"error_x\":{\"color\":\"#2a3f5f\"},\"error_y\":{\"color\":\"#2a3f5f\"},\"marker\":{\"line\":{\"color\":\"#E5ECF6\",\"width\":0.5},\"pattern\":{\"fillmode\":\"overlay\",\"size\":10,\"solidity\":0.2}},\"type\":\"bar\"}],\"barpolar\":[{\"marker\":{\"line\":{\"color\":\"#E5ECF6\",\"width\":0.5},\"pattern\":{\"fillmode\":\"overlay\",\"size\":10,\"solidity\":0.2}},\"type\":\"barpolar\"}],\"carpet\":[{\"aaxis\":{\"endlinecolor\":\"#2a3f5f\",\"gridcolor\":\"white\",\"linecolor\":\"white\",\"minorgridcolor\":\"white\",\"startlinecolor\":\"#2a3f5f\"},\"baxis\":{\"endlinecolor\":\"#2a3f5f\",\"gridcolor\":\"white\",\"linecolor\":\"white\",\"minorgridcolor\":\"white\",\"startlinecolor\":\"#2a3f5f\"},\"type\":\"carpet\"}],\"choropleth\":[{\"colorbar\":{\"outlinewidth\":0,\"ticks\":\"\"},\"type\":\"choropleth\"}],\"contour\":[{\"colorbar\":{\"outlinewidth\":0,\"ticks\":\"\"},\"colorscale\":[[0.0,\"#0d0887\"],[0.1111111111111111,\"#46039f\"],[0.2222222222222222,\"#7201a8\"],[0.3333333333333333,\"#9c179e\"],[0.4444444444444444,\"#bd3786\"],[0.5555555555555556,\"#d8576b\"],[0.6666666666666666,\"#ed7953\"],[0.7777777777777778,\"#fb9f3a\"],[0.8888888888888888,\"#fdca26\"],[1.0,\"#f0f921\"]],\"type\":\"contour\"}],\"contourcarpet\":[{\"colorbar\":{\"outlinewidth\":0,\"ticks\":\"\"},\"type\":\"contourcarpet\"}],\"heatmap\":[{\"colorbar\":{\"outlinewidth\":0,\"ticks\":\"\"},\"colorscale\":[[0.0,\"#0d0887\"],[0.1111111111111111,\"#46039f\"],[0.2222222222222222,\"#7201a8\"],[0.3333333333333333,\"#9c179e\"],[0.4444444444444444,\"#bd3786\"],[0.5555555555555556,\"#d8576b\"],[0.6666666666666666,\"#ed7953\"],[0.7777777777777778,\"#fb9f3a\"],[0.8888888888888888,\"#fdca26\"],[1.0,\"#f0f921\"]],\"type\":\"heatmap\"}],\"heatmapgl\":[{\"colorbar\":{\"outlinewidth\":0,\"ticks\":\"\"},\"colorscale\":[[0.0,\"#0d0887\"],[0.1111111111111111,\"#46039f\"],[0.2222222222222222,\"#7201a8\"],[0.3333333333333333,\"#9c179e\"],[0.4444444444444444,\"#bd3786\"],[0.5555555555555556,\"#d8576b\"],[0.6666666666666666,\"#ed7953\"],[0.7777777777777778,\"#fb9f3a\"],[0.8888888888888888,\"#fdca26\"],[1.0,\"#f0f921\"]],\"type\":\"heatmapgl\"}],\"histogram\":[{\"marker\":{\"pattern\":{\"fillmode\":\"overlay\",\"size\":10,\"solidity\":0.2}},\"type\":\"histogram\"}],\"histogram2d\":[{\"colorbar\":{\"outlinewidth\":0,\"ticks\":\"\"},\"colorscale\":[[0.0,\"#0d0887\"],[0.1111111111111111,\"#46039f\"],[0.2222222222222222,\"#7201a8\"],[0.3333333333333333,\"#9c179e\"],[0.4444444444444444,\"#bd3786\"],[0.5555555555555556,\"#d8576b\"],[0.6666666666666666,\"#ed7953\"],[0.7777777777777778,\"#fb9f3a\"],[0.8888888888888888,\"#fdca26\"],[1.0,\"#f0f921\"]],\"type\":\"histogram2d\"}],\"histogram2dcontour\":[{\"colorbar\":{\"outlinewidth\":0,\"ticks\":\"\"},\"colorscale\":[[0.0,\"#0d0887\"],[0.1111111111111111,\"#46039f\"],[0.2222222222222222,\"#7201a8\"],[0.3333333333333333,\"#9c179e\"],[0.4444444444444444,\"#bd3786\"],[0.5555555555555556,\"#d8576b\"],[0.6666666666666666,\"#ed7953\"],[0.7777777777777778,\"#fb9f3a\"],[0.8888888888888888,\"#fdca26\"],[1.0,\"#f0f921\"]],\"type\":\"histogram2dcontour\"}],\"mesh3d\":[{\"colorbar\":{\"outlinewidth\":0,\"ticks\":\"\"},\"type\":\"mesh3d\"}],\"parcoords\":[{\"line\":{\"colorbar\":{\"outlinewidth\":0,\"ticks\":\"\"}},\"type\":\"parcoords\"}],\"pie\":[{\"automargin\":true,\"type\":\"pie\"}],\"scatter\":[{\"marker\":{\"colorbar\":{\"outlinewidth\":0,\"ticks\":\"\"}},\"type\":\"scatter\"}],\"scatter3d\":[{\"line\":{\"colorbar\":{\"outlinewidth\":0,\"ticks\":\"\"}},\"marker\":{\"colorbar\":{\"outlinewidth\":0,\"ticks\":\"\"}},\"type\":\"scatter3d\"}],\"scattercarpet\":[{\"marker\":{\"colorbar\":{\"outlinewidth\":0,\"ticks\":\"\"}},\"type\":\"scattercarpet\"}],\"scattergeo\":[{\"marker\":{\"colorbar\":{\"outlinewidth\":0,\"ticks\":\"\"}},\"type\":\"scattergeo\"}],\"scattergl\":[{\"marker\":{\"colorbar\":{\"outlinewidth\":0,\"ticks\":\"\"}},\"type\":\"scattergl\"}],\"scattermapbox\":[{\"marker\":{\"colorbar\":{\"outlinewidth\":0,\"ticks\":\"\"}},\"type\":\"scattermapbox\"}],\"scatterpolar\":[{\"marker\":{\"colorbar\":{\"outlinewidth\":0,\"ticks\":\"\"}},\"type\":\"scatterpolar\"}],\"scatterpolargl\":[{\"marker\":{\"colorbar\":{\"outlinewidth\":0,\"ticks\":\"\"}},\"type\":\"scatterpolargl\"}],\"scatterternary\":[{\"marker\":{\"colorbar\":{\"outlinewidth\":0,\"ticks\":\"\"}},\"type\":\"scatterternary\"}],\"surface\":[{\"colorbar\":{\"outlinewidth\":0,\"ticks\":\"\"},\"colorscale\":[[0.0,\"#0d0887\"],[0.1111111111111111,\"#46039f\"],[0.2222222222222222,\"#7201a8\"],[0.3333333333333333,\"#9c179e\"],[0.4444444444444444,\"#bd3786\"],[0.5555555555555556,\"#d8576b\"],[0.6666666666666666,\"#ed7953\"],[0.7777777777777778,\"#fb9f3a\"],[0.8888888888888888,\"#fdca26\"],[1.0,\"#f0f921\"]],\"type\":\"surface\"}],\"table\":[{\"cells\":{\"fill\":{\"color\":\"#EBF0F8\"},\"line\":{\"color\":\"white\"}},\"header\":{\"fill\":{\"color\":\"#C8D4E3\"},\"line\":{\"color\":\"white\"}},\"type\":\"table\"}]},\"layout\":{\"annotationdefaults\":{\"arrowcolor\":\"#2a3f5f\",\"arrowhead\":0,\"arrowwidth\":1},\"autotypenumbers\":\"strict\",\"coloraxis\":{\"colorbar\":{\"outlinewidth\":0,\"ticks\":\"\"}},\"colorscale\":{\"diverging\":[[0,\"#8e0152\"],[0.1,\"#c51b7d\"],[0.2,\"#de77ae\"],[0.3,\"#f1b6da\"],[0.4,\"#fde0ef\"],[0.5,\"#f7f7f7\"],[0.6,\"#e6f5d0\"],[0.7,\"#b8e186\"],[0.8,\"#7fbc41\"],[0.9,\"#4d9221\"],[1,\"#276419\"]],\"sequential\":[[0.0,\"#0d0887\"],[0.1111111111111111,\"#46039f\"],[0.2222222222222222,\"#7201a8\"],[0.3333333333333333,\"#9c179e\"],[0.4444444444444444,\"#bd3786\"],[0.5555555555555556,\"#d8576b\"],[0.6666666666666666,\"#ed7953\"],[0.7777777777777778,\"#fb9f3a\"],[0.8888888888888888,\"#fdca26\"],[1.0,\"#f0f921\"]],\"sequentialminus\":[[0.0,\"#0d0887\"],[0.1111111111111111,\"#46039f\"],[0.2222222222222222,\"#7201a8\"],[0.3333333333333333,\"#9c179e\"],[0.4444444444444444,\"#bd3786\"],[0.5555555555555556,\"#d8576b\"],[0.6666666666666666,\"#ed7953\"],[0.7777777777777778,\"#fb9f3a\"],[0.8888888888888888,\"#fdca26\"],[1.0,\"#f0f921\"]]},\"colorway\":[\"#636efa\",\"#EF553B\",\"#00cc96\",\"#ab63fa\",\"#FFA15A\",\"#19d3f3\",\"#FF6692\",\"#B6E880\",\"#FF97FF\",\"#FECB52\"],\"font\":{\"color\":\"#2a3f5f\"},\"geo\":{\"bgcolor\":\"white\",\"lakecolor\":\"white\",\"landcolor\":\"#E5ECF6\",\"showlakes\":true,\"showland\":true,\"subunitcolor\":\"white\"},\"hoverlabel\":{\"align\":\"left\"},\"hovermode\":\"closest\",\"mapbox\":{\"style\":\"light\"},\"paper_bgcolor\":\"white\",\"plot_bgcolor\":\"#E5ECF6\",\"polar\":{\"angularaxis\":{\"gridcolor\":\"white\",\"linecolor\":\"white\",\"ticks\":\"\"},\"bgcolor\":\"#E5ECF6\",\"radialaxis\":{\"gridcolor\":\"white\",\"linecolor\":\"white\",\"ticks\":\"\"}},\"scene\":{\"xaxis\":{\"backgroundcolor\":\"#E5ECF6\",\"gridcolor\":\"white\",\"gridwidth\":2,\"linecolor\":\"white\",\"showbackground\":true,\"ticks\":\"\",\"zerolinecolor\":\"white\"},\"yaxis\":{\"backgroundcolor\":\"#E5ECF6\",\"gridcolor\":\"white\",\"gridwidth\":2,\"linecolor\":\"white\",\"showbackground\":true,\"ticks\":\"\",\"zerolinecolor\":\"white\"},\"zaxis\":{\"backgroundcolor\":\"#E5ECF6\",\"gridcolor\":\"white\",\"gridwidth\":2,\"linecolor\":\"white\",\"showbackground\":true,\"ticks\":\"\",\"zerolinecolor\":\"white\"}},\"shapedefaults\":{\"line\":{\"color\":\"#2a3f5f\"}},\"ternary\":{\"aaxis\":{\"gridcolor\":\"white\",\"linecolor\":\"white\",\"ticks\":\"\"},\"baxis\":{\"gridcolor\":\"white\",\"linecolor\":\"white\",\"ticks\":\"\"},\"bgcolor\":\"#E5ECF6\",\"caxis\":{\"gridcolor\":\"white\",\"linecolor\":\"white\",\"ticks\":\"\"}},\"title\":{\"x\":0.05},\"xaxis\":{\"automargin\":true,\"gridcolor\":\"white\",\"linecolor\":\"white\",\"ticks\":\"\",\"title\":{\"standoff\":15},\"zerolinecolor\":\"white\",\"zerolinewidth\":2},\"yaxis\":{\"automargin\":true,\"gridcolor\":\"white\",\"linecolor\":\"white\",\"ticks\":\"\",\"title\":{\"standoff\":15},\"zerolinecolor\":\"white\",\"zerolinewidth\":2}}},\"title\":{\"text\":\"NSW COVID19 Cases\"},\"xaxis\":{\"ticklen\":5,\"title\":{\"text\":\"Date\"},\"zeroline\":false},\"yaxis\":{\"ticklen\":5,\"title\":{\"text\":\"Count\"},\"zeroline\":false}},                        {\"responsive\": true}                    ).then(function(){\n",
       "                            \n",
       "var gd = document.getElementById('cfc128e0-e5aa-4d5c-a7ab-82b7b1cd135a');\n",
       "var x = new MutationObserver(function (mutations, observer) {{\n",
       "        var display = window.getComputedStyle(gd).display;\n",
       "        if (!display || display === 'none') {{\n",
       "            console.log([gd, 'removed!']);\n",
       "            Plotly.purge(gd);\n",
       "            observer.disconnect();\n",
       "        }}\n",
       "}});\n",
       "\n",
       "// Listen for the removal of the full notebook cells\n",
       "var notebookContainer = gd.closest('#notebook-container');\n",
       "if (notebookContainer) {{\n",
       "    x.observe(notebookContainer, {childList: true});\n",
       "}}\n",
       "\n",
       "// Listen for the clearing of the current output cell\n",
       "var outputEl = gd.closest('.output');\n",
       "if (outputEl) {{\n",
       "    x.observe(outputEl, {childList: true});\n",
       "}}\n",
       "\n",
       "                        })                };                });            </script>        </div>"
      ]
     },
     "metadata": {},
     "output_type": "display_data"
    }
   ],
   "source": [
    "plot_dataset(df, 'NSW COVID19 Cases')"
   ]
  },
  {
   "cell_type": "code",
   "execution_count": null,
   "metadata": {},
   "outputs": [],
   "source": [
    "[\n",
    "    ['border_restriction', '2020-']\n",
    "]"
   ]
  },
  {
   "cell_type": "code",
   "execution_count": 16,
   "metadata": {},
   "outputs": [
    {
     "data": {
      "text/html": [
       "<div>\n",
       "<style scoped>\n",
       "    .dataframe tbody tr th:only-of-type {\n",
       "        vertical-align: middle;\n",
       "    }\n",
       "\n",
       "    .dataframe tbody tr th {\n",
       "        vertical-align: top;\n",
       "    }\n",
       "\n",
       "    .dataframe thead th {\n",
       "        text-align: right;\n",
       "    }\n",
       "</style>\n",
       "<table border=\"1\" class=\"dataframe\">\n",
       "  <thead>\n",
       "    <tr style=\"text-align: right;\">\n",
       "      <th></th>\n",
       "      <th>count</th>\n",
       "    </tr>\n",
       "    <tr>\n",
       "      <th>date</th>\n",
       "      <th></th>\n",
       "    </tr>\n",
       "  </thead>\n",
       "  <tbody>\n",
       "    <tr>\n",
       "      <th>2020-01-25</th>\n",
       "      <td>3</td>\n",
       "    </tr>\n",
       "    <tr>\n",
       "      <th>2020-01-26</th>\n",
       "      <td>0</td>\n",
       "    </tr>\n",
       "    <tr>\n",
       "      <th>2020-01-27</th>\n",
       "      <td>1</td>\n",
       "    </tr>\n",
       "    <tr>\n",
       "      <th>2020-01-28</th>\n",
       "      <td>0</td>\n",
       "    </tr>\n",
       "    <tr>\n",
       "      <th>2020-01-29</th>\n",
       "      <td>0</td>\n",
       "    </tr>\n",
       "    <tr>\n",
       "      <th>...</th>\n",
       "      <td>...</td>\n",
       "    </tr>\n",
       "    <tr>\n",
       "      <th>2021-07-20</th>\n",
       "      <td>108</td>\n",
       "    </tr>\n",
       "    <tr>\n",
       "      <th>2021-07-21</th>\n",
       "      <td>146</td>\n",
       "    </tr>\n",
       "    <tr>\n",
       "      <th>2021-07-22</th>\n",
       "      <td>145</td>\n",
       "    </tr>\n",
       "    <tr>\n",
       "      <th>2021-07-23</th>\n",
       "      <td>151</td>\n",
       "    </tr>\n",
       "    <tr>\n",
       "      <th>2021-07-24</th>\n",
       "      <td>107</td>\n",
       "    </tr>\n",
       "  </tbody>\n",
       "</table>\n",
       "<p>547 rows × 1 columns</p>\n",
       "</div>"
      ],
      "text/plain": [
       "            count\n",
       "date             \n",
       "2020-01-25      3\n",
       "2020-01-26      0\n",
       "2020-01-27      1\n",
       "2020-01-28      0\n",
       "2020-01-29      0\n",
       "...           ...\n",
       "2021-07-20    108\n",
       "2021-07-21    146\n",
       "2021-07-22    145\n",
       "2021-07-23    151\n",
       "2021-07-24    107\n",
       "\n",
       "[547 rows x 1 columns]"
      ]
     },
     "execution_count": 16,
     "metadata": {},
     "output_type": "execute_result"
    }
   ],
   "source": [
    "df[(df.index > '2020-01') & (df.index > '2020-')]"
   ]
  },
  {
   "cell_type": "markdown",
   "metadata": {},
   "source": [
    "## 2. Transform"
   ]
  },
  {
   "cell_type": "code",
   "execution_count": 23,
   "metadata": {},
   "outputs": [],
   "source": [
    "from abc import ABC, abstractmethod\n",
    "from sklearn.preprocessing import MinMaxScaler\n",
    "\n",
    "class TSTransformer(ABC):\n",
    "    \n",
    "    transformer_name = None\n",
    "    transform_data_path = Path(f'data/transformed_{transformer_name}_data.csv')\n",
    "        \n",
    "    @abstractmethod\n",
    "    def transform_data(self, ts_df: pd.DataFrame, input_dim: int = 0) -> pd.DataFrame:\n",
    "        pass\n",
    "    \n",
    "    def load_transformed_data(self) -> pd.DataFrame:\n",
    "        \n",
    "        return pd.read_csv(self.transform_data_path, index_col='date')\n",
    "    \n",
    "    def generate_time_lags(self, df, n_lags):\n",
    "        df_n = df.copy()\n",
    "        for n in range(1, n_lags + 1):\n",
    "            df_n[f'lag{n}'] = df_n['count'].shift(n)\n",
    "\n",
    "        # Remove variables that are represented by the lag\n",
    "        df_n = df_n.iloc[n_lags:]\n",
    "\n",
    "        return df_n\n",
    "    \n",
    "    def scale_data(self, df, scaler) -> pd.DataFrame():\n",
    "        df_ = df.copy()\n",
    "        # TOOO:\n",
    "        return df_\n",
    "    \n",
    "    \n",
    "class MultiVariateTransformer(TSTransformer):\n",
    "    \n",
    "    def __init__(self):\n",
    "        self.transformer_name = 'multivariate'\n",
    "#     transform_data_path = Path(f'data/transformed_{self.transformer_name}_data.csv')\n",
    "\n",
    "    def transform_data(self, ts_df: pd.DataFrame, input_dim: int = 0) -> pd.DataFrame:\n",
    "        \"\"\"Encapsulates the transformations done in preparation of the modelling\"\"\"\n",
    "        \n",
    "        df = ts_df.copy()\n",
    "    \n",
    "#         scaler = MinMaxScaler()\n",
    "#         df = scaler.fit_transform(df)\n",
    "        \n",
    "        # Predict out 30 days\n",
    "        df = self.generate_time_lags(df, 30)\n",
    "\n",
    "        # Generate features from the date\n",
    "        df_features = (\n",
    "                    df\n",
    "                    .assign(hour = df.index.hour)\n",
    "                    .assign(day = df.index.day)\n",
    "                    .assign(month = df.index.month)\n",
    "                    .assign(day_of_week = df.index.dayofweek)\n",
    "                    .assign(week_of_year = df.index.week)\n",
    "                  )\n",
    "\n",
    "        def onehot_encode_pd(df, col_name):\n",
    "            \"\"\"One hot encode the date features\"\"\"\n",
    "            for col in col_name:\n",
    "                df[col] = df[col].astype('object')\n",
    "            dummies = pd.get_dummies(df[col_name], prefix=col_name)\n",
    "            return pd.concat([df, dummies], axis=1).drop(col_name, axis=1)\n",
    "\n",
    "        df.to_csv(self.transform_data_path)\n",
    "        return df_features\n",
    "\n",
    "\n",
    "class ARTransformer(TSTransformer):\n",
    "    \"\"\"Performs transformations for an autoregressive model. Particularly excludes extracting date data (day of week, week etc)\"\"\"\n",
    "    def __init__(self):\n",
    "        self.transformer_name = 'autoregressive'\n",
    "#     self.transform_data_path = Path(f'data/transformed_{self.transformer_name}_data.csv')\n",
    "        \n",
    "    def transform_data(self, ts_df: pd.DataFrame, input_dim: int=0) -> pd.DataFrame:\n",
    "        \n",
    "        df_features = pd.DataFrame()\n",
    "        \n",
    "        return df_features"
   ]
  },
  {
   "cell_type": "code",
   "execution_count": 24,
   "metadata": {},
   "outputs": [
    {
     "name": "stdout",
     "output_type": "stream",
     "text": [
      "(517, 36)\n",
      "Date Coverage: 2020-02-24 00:00:00 - 2021-07-24 00:00:00\n"
     ]
    },
    {
     "name": "stderr",
     "output_type": "stream",
     "text": [
      "/opt/conda/lib/python3.6/site-packages/ipykernel_launcher.py:57: FutureWarning:\n",
      "\n",
      "weekofyear and week have been deprecated, please use DatetimeIndex.isocalendar().week instead, which returns a Series.  To exactly reproduce the behavior of week and weekofyear and return an Index, you may call pd.Int64Index(idx.isocalendar().week)\n",
      "\n"
     ]
    }
   ],
   "source": [
    "# transformer = MultiVariateTransformer()\n",
    "\n",
    "transformer = MultiVariateTransformer()\n",
    "\n",
    "df_transformed = transformer.transform_data(df, 100)\n",
    "print(df_transformed.shape)\n",
    "print(f'Date Coverage: {df_transformed.index.min()} - {df_transformed.index.max()}')"
   ]
  },
  {
   "cell_type": "code",
   "execution_count": 151,
   "metadata": {},
   "outputs": [],
   "source": [
    "# df_transformed[['count', 'lag100']].plot()"
   ]
  },
  {
   "cell_type": "markdown",
   "metadata": {},
   "source": [
    "## 3. Model"
   ]
  },
  {
   "cell_type": "markdown",
   "metadata": {},
   "source": [
    "### Prophet for a statistical approach"
   ]
  },
  {
   "cell_type": "markdown",
   "metadata": {},
   "source": [
    "### Deep Learning because DL.."
   ]
  },
  {
   "cell_type": "code",
   "execution_count": 152,
   "metadata": {},
   "outputs": [],
   "source": [
    "# plot_dataset(df, 'Daily COVID Cases In NSW')"
   ]
  },
  {
   "cell_type": "markdown",
   "metadata": {},
   "source": [
    "### Split Data\n",
    "We want to make predictions based on the most recent lockdown which started at approximately June 26th. We will try different splits"
   ]
  },
  {
   "cell_type": "code",
   "execution_count": 153,
   "metadata": {},
   "outputs": [],
   "source": [
    "from sklearn.model_selection import train_test_split\n",
    "from datetime import date"
   ]
  },
  {
   "cell_type": "code",
   "execution_count": 154,
   "metadata": {},
   "outputs": [],
   "source": [
    "def split(df_tosplit: pd.DataFrame, target: str = 'count', split_on: date = None, test_ratio: float = .2) -> ():\n",
    "    \"\"\"Split data into train, test and validation using a date or ratio\"\"\"\n",
    "    \n",
    "    X = df_tosplit.copy()\n",
    "    y = X.pop(target)\n",
    "    \n",
    "    val_ratio = .35#test_ratio / (1 - test_ratio)\n",
    "    \n",
    "    X_train, X_test, y_train, y_test = train_test_split(X, y, test_size=test_ratio, shuffle=False)\n",
    "    X_train, X_val, y_train, y_val = train_test_split(X_train, y_train, test_size=val_ratio, shuffle=False)\n",
    "    \n",
    "    \n",
    "    return X_train, X_test, X_val, y_train, y_test, y_val\n",
    "\n",
    "X_train, X_test, X_val, y_train, y_test, y_val = split(df_transformed)"
   ]
  },
  {
   "cell_type": "code",
   "execution_count": 155,
   "metadata": {},
   "outputs": [],
   "source": [
    "# plot_dataset(y_train.to_frame(), \"Training Data\")"
   ]
  },
  {
   "cell_type": "code",
   "execution_count": 156,
   "metadata": {},
   "outputs": [],
   "source": [
    "# plot_dataset(y_test.to_frame(), \"Test Data\")"
   ]
  },
  {
   "cell_type": "code",
   "execution_count": 157,
   "metadata": {},
   "outputs": [],
   "source": [
    "# plot_dataset(y_val.to_frame(), \"Validation Data\")"
   ]
  },
  {
   "cell_type": "markdown",
   "metadata": {},
   "source": [
    "# Checkpoint"
   ]
  },
  {
   "cell_type": "code",
   "execution_count": 159,
   "metadata": {},
   "outputs": [],
   "source": [
    "# Save and load methods for processed data\n",
    "def save_processed_files(X_train_arr, X_val_arr, X_test_arr, y_train_arr, y_val_arr, y_test_arr):\n",
    "    \"\"\"Save files to processed directory in a standard fashion\"\"\"\n",
    "    processed_path = Path('data/processed')\n",
    "    np.savetxt(processed_path / 'X_train.csv', X_train_arr, delimiter=',')\n",
    "    np.savetxt(processed_path / 'X_val.csv', X_val_arr, delimiter=',')\n",
    "    np.savetxt(processed_path / 'X_test.csv', X_test_arr, delimiter=',')\n",
    "\n",
    "    np.savetxt(processed_path / 'y_train.csv', y_train_arr, delimiter=',')\n",
    "    np.savetxt(processed_path / 'y_val.csv', y_val_arr, delimiter=',')\n",
    "    np.savetxt(processed_path / 'y_test.csv', y_test_arr, delimiter=',')\n",
    "    \n",
    "save_processed_files(X_train_arr, X_val_arr, X_test_arr, y_train_arr, y_val_arr, y_test_arr)"
   ]
  },
  {
   "cell_type": "code",
   "execution_count": 160,
   "metadata": {},
   "outputs": [
    {
     "name": "stdout",
     "output_type": "stream",
     "text": [
      "['y_train.csv', 'X_val.csv', 'y_test.csv', 'X_test.csv', 'y_val.csv', 'X_train.csv']\n"
     ]
    }
   ],
   "source": [
    "def load_processed_files():\n",
    "    \"\"\"Load numpy arrays used to train models\"\"\"\n",
    "    processed_path = Path('data/processed')\n",
    "    \n",
    "    print([p.name for p in processed_path.iterdir()])\n",
    "    try:\n",
    "        X_train_arr = np.loadtxt(processed_path / 'X_train.csv', delimiter=',')\n",
    "        X_val_arr = np.loadtxt(processed_path / 'X_val.csv', delimiter=',')\n",
    "        X_test_arr = np.loadtxt(processed_path / 'X_test.csv', delimiter=',')\n",
    "        \n",
    "        y_train_arr = np.loadtxt(processed_path / 'y_train.csv', delimiter=',')\n",
    "        y_val_arr = np.loadtxt(processed_path / 'y_val.csv', delimiter=',')\n",
    "        y_test_arr = np.loadtxt(processed_path / 'y_test.csv', delimiter=',')\n",
    "    except Exception as e:\n",
    "        print(\"Failed to load files, maybe doesn't exist?\")\n",
    "        print(e)\n",
    "        \n",
    "    return X_train_arr, X_val_arr, X_test_arr, y_train_arr, y_val_arr, y_test_arr\n",
    "\n",
    "X_train_arr, X_val_arr, X_test_arr, y_train_arr, y_val_arr, y_test_arr = load_processed_files()"
   ]
  },
  {
   "cell_type": "code",
   "execution_count": 161,
   "metadata": {},
   "outputs": [
    {
     "name": "stdout",
     "output_type": "stream",
     "text": [
      "(50, 455) (27, 455) (50,)\n"
     ]
    }
   ],
   "source": [
    "# Quick check to make sure they look correct\n",
    "print(X_train_arr.shape, X_val_arr.shape, y_train_arr.shape)"
   ]
  },
  {
   "cell_type": "markdown",
   "metadata": {},
   "source": [
    "## Model 1: RNN"
   ]
  },
  {
   "cell_type": "code",
   "execution_count": 162,
   "metadata": {},
   "outputs": [],
   "source": [
    "import torch\n",
    "import torch.nn as nn\n",
    "from torch.utils.data import TensorDataset, DataLoader"
   ]
  },
  {
   "cell_type": "code",
   "execution_count": 163,
   "metadata": {},
   "outputs": [],
   "source": [
    "batch_size = 64\n",
    "\n",
    "train_features = torch.Tensor(X_train_arr)\n",
    "train_targets = torch.Tensor(y_train_arr)\n",
    "val_features = torch.Tensor(X_val_arr)\n",
    "val_targets = torch.Tensor(y_val_arr)\n",
    "test_features = torch.Tensor(X_test_arr)\n",
    "test_targets = torch.Tensor(y_test_arr)\n",
    "\n",
    "train = TensorDataset(train_features, train_targets)\n",
    "val = TensorDataset(val_features, val_targets)\n",
    "test = TensorDataset(test_features, test_targets)\n",
    "\n",
    "train_loader = DataLoader(train, batch_size=batch_size, shuffle=False, drop_last=True)\n",
    "val_loader = DataLoader(val, batch_size=batch_size, shuffle=False, drop_last=True)\n",
    "test_loader = DataLoader(test, batch_size=batch_size, shuffle=False, drop_last=True)\n",
    "test_loader_one = DataLoader(test, batch_size=1, shuffle=False, drop_last=True)"
   ]
  },
  {
   "cell_type": "code",
   "execution_count": 164,
   "metadata": {},
   "outputs": [],
   "source": [
    "class RNNModel(nn.Module):\n",
    "    \"\"\"Vanilla RNN Model\"\"\"\n",
    "    def __init__(self, input_dim, hidden_dim, layer_dim, output_dim, dropout_prob):\n",
    "        \n",
    "        super(RNNModel, self).__init__()\n",
    "        \n",
    "        # Define number of layers and the nodes in each layer\n",
    "        self.hidden_dim = hidden_dim\n",
    "        self.layer_dim = layer_dim\n",
    "        \n",
    "        # RNN Layers\n",
    "        self.rnn = nn.RNN(\n",
    "        input_dim, hidden_dim, layer_dim, batch_first=True, dropout=dropout_prob\n",
    "        )\n",
    "        \n",
    "        # Fully connected layer\n",
    "        self.fc = nn.Linear(hidden_dim, output_dim)\n",
    "        \n",
    "    def forward(self, x):\n",
    "        # Initializing hidden state for first input with zeros\n",
    "        h0 = torch.zeros(self.layer_dim, x.size(0), self.hidden_dim).requires_grad_()\n",
    "        print(h0.shape)\n",
    "        # Forward prop by passing input and hidden state into model\n",
    "        out, h0 = self.rnn(x, h0.detach())\n",
    "        \n",
    "        # Reshape outputs into (batch_size, seq_length, hidden_size)\n",
    "        out = out[:, -1, :]\n",
    "        \n",
    "        # Convert final state to output shape (batch_size, output_dim)\n",
    "        out = self.fc(out)\n",
    "        return out"
   ]
  },
  {
   "cell_type": "code",
   "execution_count": 165,
   "metadata": {},
   "outputs": [],
   "source": [
    "class LSTMModel(nn.Module):\n",
    "    \"\"\"LSTM Model\"\"\"\n",
    "    def __init__(self, input_dim, hidden_dim, layer_dim, output_dim, dropout_prob):\n",
    "        super(LSTMModel, self).__init__()\n",
    "\n",
    "        # Defining the number of layers and the nodes in each layer\n",
    "        self.hidden_dim = hidden_dim\n",
    "        self.layer_dim = layer_dim\n",
    "\n",
    "        # LSTM layers\n",
    "        self.lstm = nn.LSTM(\n",
    "            input_dim, hidden_dim, layer_dim, batch_first=True, dropout=dropout_prob\n",
    "        )\n",
    "\n",
    "        # Fully connected layer\n",
    "        self.fc = nn.Linear(hidden_dim, output_dim)\n",
    "\n",
    "    def forward(self, x):\n",
    "        # Initializing hidden state for first input with zeros\n",
    "        h0 = torch.zeros(self.layer_dim, x.size(0), self.hidden_dim).requires_grad_()\n",
    "\n",
    "        # Initializing cell state for first input with zeros\n",
    "        c0 = torch.zeros(self.layer_dim, x.size(0), self.hidden_dim).requires_grad_()\n",
    "\n",
    "        # We need to detach as we are doing truncated backpropagation through time (BPTT)\n",
    "        # If we don't, we'll backprop all the way to the start even after going through another batch\n",
    "        # Forward propagation by passing in the input, hidden state, and cell state into the model\n",
    "        out, (hn, cn) = self.lstm(x, (h0.detach(), c0.detach()))\n",
    "\n",
    "        # Reshaping the outputs in the shape of (batch_size, seq_length, hidden_size)\n",
    "        # so that it can fit into the fully connected layer\n",
    "        out = out[:, -1, :]\n",
    "\n",
    "        # Convert the final state to our desired output shape (batch_size, output_dim)\n",
    "        out = self.fc(out)\n",
    "\n",
    "        return out"
   ]
  },
  {
   "cell_type": "code",
   "execution_count": 166,
   "metadata": {},
   "outputs": [],
   "source": [
    "class GRUModel(nn.Module):\n",
    "    def __init__(self, input_dim, hidden_dim, layer_dim, output_dim, dropout_prob):\n",
    "        super(GRUModel, self).__init__()\n",
    "\n",
    "        # Defining the number of layers and the nodes in each layer\n",
    "        self.layer_dim = layer_dim\n",
    "        self.hidden_dim = hidden_dim\n",
    "\n",
    "        # GRU layers\n",
    "        self.gru = nn.GRU(\n",
    "            input_dim, hidden_dim, layer_dim, batch_first=True, dropout=dropout_prob\n",
    "        )\n",
    "\n",
    "        # Fully connected layer\n",
    "        self.fc = nn.Linear(hidden_dim, output_dim)\n",
    "\n",
    "    def forward(self, x):\n",
    "        # Initializing hidden state for first input with zeros\n",
    "        h0 = torch.zeros(self.layer_dim, x.size(0), self.hidden_dim).requires_grad_()\n",
    "\n",
    "        # Forward propagation by passing in the input and hidden state into the model\n",
    "        out, _ = self.gru(x, h0.detach())\n",
    "\n",
    "        # Reshaping the outputs in the shape of (batch_size, seq_length, hidden_size)\n",
    "        # so that it can fit into the fully connected layer\n",
    "        out = out[:, -1, :]\n",
    "\n",
    "        # Convert the final state to our desired output shape (batch_size, output_dim)\n",
    "        out = self.fc(out)\n",
    "\n",
    "        return out"
   ]
  },
  {
   "cell_type": "code",
   "execution_count": 167,
   "metadata": {},
   "outputs": [],
   "source": [
    "def get_model(model, model_params):\n",
    "    models = {\n",
    "        \"rnn\": RNNModel,\n",
    "        \"lstm\": LSTMModel,\n",
    "        \"gru\": GRUModel,\n",
    "    }\n",
    "    return models.get(model.lower())(**model_params)"
   ]
  },
  {
   "cell_type": "code",
   "execution_count": 168,
   "metadata": {},
   "outputs": [],
   "source": [
    "from datetime import datetime"
   ]
  },
  {
   "cell_type": "code",
   "execution_count": 169,
   "metadata": {},
   "outputs": [],
   "source": [
    "class Optimization:\n",
    "    def __init__(self, model, loss_fn, optimizer):\n",
    "        self.model = model\n",
    "        self.loss_fn = loss_fn\n",
    "        self.optimizer = optimizer\n",
    "        self.train_losses = []\n",
    "        self.val_losses = []\n",
    "        \n",
    "    def train_step(self, x, y):\n",
    "        # Set model to train mode\n",
    "        self.model.train()\n",
    "        \n",
    "        # Predict\n",
    "        yhat = self.model(x)\n",
    "        \n",
    "        # Compute loss\n",
    "        loss = self.loss_fn(y, yhat)\n",
    "        \n",
    "        # Compute gradients\n",
    "        loss.backward()\n",
    "        \n",
    "        # Update params and zero grads\n",
    "        self.optimizer.step()\n",
    "        self.optimizer.zero_grad()\n",
    "        \n",
    "        return loss.item()\n",
    "    \n",
    "    def train(self, train_loader, val_loader, batch_size: int = 64, n_epochs: int = 50, n_features: int = 1) -> None:\n",
    "        \"\"\"Trains the model in mini batches for n epochs\"\"\"\n",
    "        model_path = f'models/{self.model}_{datetime.now().strftime(\"%Y-%m-%d %H:%M:%S\")}'\n",
    "        \n",
    "        # Epoch Iteration\n",
    "        for epoch in range(1, n_epochs+1):\n",
    "            batch_losses = []\n",
    "            \n",
    "            # Mini Batch Iterations\n",
    "            for x_batch, y_batch in train_loader:\n",
    "                # Send tensors to device\n",
    "                x_batch = x_batch.view([batch_size, -1, n_features]).to(device) # TODO: setup device?\n",
    "                y_batch = y_batch.to(device)\n",
    "                loss = self.train_step(x_batch, y_batch)\n",
    "                batch_losses.append(loss)\n",
    "                \n",
    "            training_loss = np.mean(batch_losses)\n",
    "            self.train_losses.append(training_loss)\n",
    "            \n",
    "            # Evaluation\n",
    "            with torch.no_grad():\n",
    "                batch_val_losses = []\n",
    "                for x_val, y_val in val_loader:\n",
    "                    x_val = x_val.view([batch_size, -1, n_features]).to(device)\n",
    "                    y_val = y_val.to(device)\n",
    "                    self.model.eval()\n",
    "                    yhat = self.model(x_val)\n",
    "                    val_loss = self.loss_fn(y_val, yhat).item()\n",
    "                    batch_val_losses.append(val_loss)\n",
    "                validation_loss = np.mean(batch_val_losses)\n",
    "                self.val_losses.append(validation_loss)\n",
    "                \n",
    "            if (epoch <= 10) | (epoch %50 == 0):\n",
    "                print(\n",
    "                    f'[{epoch}/{n_epochs}] Training Loss: {training_loss:.4f}\\t Validation Loss: {validation_loss:.4f}'\n",
    "                )\n",
    "            torch.save(self.model.state_dict(), model_path)\n",
    "            \n",
    "            \n",
    "    def evaluate(self, test_loader, batch_size=1, n_features=1):\n",
    "        with torch.no_grad():\n",
    "            preds = []\n",
    "            vals = []\n",
    "            for x_test, y_test in test_loader:\n",
    "                x_test = x_test.view([batch_size, -1, n_features]).to(device)\n",
    "                y_test = y_test.to(device)\n",
    "                \n",
    "                self.model.eval()\n",
    "                yhat = self.model(x_test)\n",
    "                preds.append(yhat.to(device).detach().numpy())\n",
    "                vals.append(y_test.to(device).detach().numpy())\n",
    "                \n",
    "        return preds, vals\n",
    "                \n",
    "        \n",
    "    def plot_losses(self):\n",
    "        plt.plot(self.train_losses, label=\"Training loss\")\n",
    "        plt.plot(self.val_losses, label=\"Validation loss\")\n",
    "        plt.legend()\n",
    "        plt.title(\"Losses\")\n",
    "        plt.show()\n",
    "        plt.close()"
   ]
  },
  {
   "cell_type": "code",
   "execution_count": 170,
   "metadata": {},
   "outputs": [],
   "source": [
    "import torch.optim as optim"
   ]
  },
  {
   "cell_type": "code",
   "execution_count": 171,
   "metadata": {},
   "outputs": [
    {
     "data": {
      "text/plain": [
       "(455, 455)"
      ]
     },
     "execution_count": 171,
     "metadata": {},
     "output_type": "execute_result"
    }
   ],
   "source": [
    "len(X_train.columns), X_train_arr.shape[1]"
   ]
  },
  {
   "cell_type": "code",
   "execution_count": 172,
   "metadata": {},
   "outputs": [],
   "source": [
    "device = torch.device(\"cuda\" if torch.cuda.is_available() else \"cpu\")"
   ]
  },
  {
   "cell_type": "code",
   "execution_count": 173,
   "metadata": {},
   "outputs": [
    {
     "name": "stderr",
     "output_type": "stream",
     "text": [
      "/opt/conda/lib/python3.6/site-packages/numpy/core/fromnumeric.py:3373: RuntimeWarning:\n",
      "\n",
      "Mean of empty slice.\n",
      "\n",
      "/opt/conda/lib/python3.6/site-packages/numpy/core/_methods.py:170: RuntimeWarning:\n",
      "\n",
      "invalid value encountered in double_scalars\n",
      "\n"
     ]
    },
    {
     "name": "stdout",
     "output_type": "stream",
     "text": [
      "[1/100] Training Loss: nan\t Validation Loss: nan\n",
      "[2/100] Training Loss: nan\t Validation Loss: nan\n",
      "[3/100] Training Loss: nan\t Validation Loss: nan\n",
      "[4/100] Training Loss: nan\t Validation Loss: nan\n",
      "[5/100] Training Loss: nan\t Validation Loss: nan\n",
      "[6/100] Training Loss: nan\t Validation Loss: nan\n",
      "[7/100] Training Loss: nan\t Validation Loss: nan\n",
      "[8/100] Training Loss: nan\t Validation Loss: nan\n",
      "[9/100] Training Loss: nan\t Validation Loss: nan\n",
      "[10/100] Training Loss: nan\t Validation Loss: nan\n",
      "[50/100] Training Loss: nan\t Validation Loss: nan\n",
      "[100/100] Training Loss: nan\t Validation Loss: nan\n"
     ]
    },
    {
     "data": {
      "image/png": "[encoded data removed]",
      "text/plain": [
       "<Figure size 432x288 with 1 Axes>"
      ]
     },
     "metadata": {
      "needs_background": "light"
     },
     "output_type": "display_data"
    }
   ],
   "source": [
    "input_dim = X_train_arr.shape[1]\n",
    "output_dim = 1\n",
    "hidden_dim = 64\n",
    "layer_dim = 3\n",
    "batch_size = 64\n",
    "dropout = 0.2\n",
    "n_epochs = 100\n",
    "learning_rate = 1e-3\n",
    "weight_decay = 1e-6\n",
    "\n",
    "model_params = {\n",
    "    'input_dim': input_dim,\n",
    "    'output_dim': output_dim,\n",
    "    'layer_dim': layer_dim,\n",
    "    'hidden_dim': hidden_dim,\n",
    "    'dropout_prob': dropout\n",
    "}\n",
    "\n",
    "model = get_model('gru', model_params)\n",
    "loss_fn = nn.MSELoss(reduction='mean')\n",
    "optimizer = optim.Adam(model.parameters(), lr = learning_rate, weight_decay=weight_decay)\n",
    "\n",
    "opt = Optimization(model = model, loss_fn = loss_fn, optimizer = optimizer)\n",
    "opt.train(train_loader, val_loader, batch_size = batch_size, n_epochs = n_epochs, n_features=input_dim)\n",
    "opt.plot_losses()\n",
    "\n",
    "preds, vals = opt.evaluate(test_loader_one, batch_size=1, n_features=input_dim)"
   ]
  },
  {
   "cell_type": "code",
   "execution_count": 174,
   "metadata": {},
   "outputs": [],
   "source": [
    "def inverse_transform(scaler, df, columns):\n",
    "    for c in columns:\n",
    "        df[c] = scaler.inverse_transform(df[c])\n",
    "    return df\n",
    "\n",
    "def format_predictions(predictions, values, df_test, scaler):\n",
    "    vals = np.concatenate(values, axis=0).ravel()\n",
    "    preds = np.concatenate(predictions, axis=0).ravel()\n",
    "    \n",
    "    df_result = pd.DataFrame(data={'count': vals, 'prediction': preds}, index=df_test.head(len(vals)).index)\n",
    "    df_result = df_result.sort_index()\n",
    "    df_result = inverse_transform(scaler, df_result, [['count', 'prediction']])\n",
    "    \n",
    "    return df_result\n",
    "\n",
    "df_result = format_predictions(preds, vals, X_test, scaler)"
   ]
  },
  {
   "cell_type": "code",
   "execution_count": 175,
   "metadata": {},
   "outputs": [
    {
     "data": {
      "text/plain": [
       "<AxesSubplot:xlabel='date'>"
      ]
     },
     "execution_count": 175,
     "metadata": {},
     "output_type": "execute_result"
    },
    {
     "data": {
      "image/png": "[encoded data removed]",
      "text/plain": [
       "<Figure size 432x288 with 1 Axes>"
      ]
     },
     "metadata": {
      "needs_background": "light"
     },
     "output_type": "display_data"
    }
   ],
   "source": [
    "df_result[['prediction', 'count']].plot()"
   ]
  },
  {
   "cell_type": "markdown",
   "metadata": {},
   "source": [
    "## Baseline"
   ]
  },
  {
   "cell_type": "code",
   "execution_count": 176,
   "metadata": {},
   "outputs": [],
   "source": [
    "from sklearn.metrics import mean_absolute_error, mean_squared_error, r2_score\n",
    "\n",
    "def calculate_metrics(df):\n",
    "    return {'mae' : mean_absolute_error(df['count'], df.prediction.tolist()),\n",
    "            'rmse' : mean_squared_error(df['count'], df.prediction) ** 0.5,\n",
    "            'r2' : r2_score(df['count'], df.prediction)}\n",
    "\n",
    "result_metrics = calculate_metrics(df_result)"
   ]
  },
  {
   "cell_type": "code",
   "execution_count": 177,
   "metadata": {},
   "outputs": [
    {
     "name": "stdout",
     "output_type": "stream",
     "text": [
      "            lag1  lag2  lag3  lag4  lag5  lag6  lag7  lag8  lag9  lag10  ...  \\\n",
      "date                                                                     ...   \n",
      "2021-04-19   9.0   4.0   9.0   1.0  12.0   4.0   4.0   6.0   7.0    5.0  ...   \n",
      "2021-04-20   4.0   9.0   4.0   9.0   1.0  12.0   4.0   4.0   6.0    7.0  ...   \n",
      "2021-04-21   7.0   4.0   9.0   4.0   9.0   1.0  12.0   4.0   4.0    6.0  ...   \n",
      "2021-04-22  15.0   7.0   4.0   9.0   4.0   9.0   1.0  12.0   4.0    4.0  ...   \n",
      "2021-04-23   5.0  15.0   7.0   4.0   9.0   4.0   9.0   1.0  12.0    4.0  ...   \n",
      "...          ...   ...   ...   ...   ...   ...   ...   ...   ...    ...  ...   \n",
      "2021-06-30  31.0  16.0  23.0  28.0  28.0  22.0  12.0  19.0   5.0    3.0  ...   \n",
      "2021-07-01  31.0  31.0  16.0  23.0  28.0  28.0  22.0  12.0  19.0    5.0  ...   \n",
      "2021-07-02  31.0  31.0  31.0  16.0  23.0  28.0  28.0  22.0  12.0   19.0  ...   \n",
      "2021-07-03  42.0  31.0  31.0  31.0  16.0  23.0  28.0  28.0  22.0   12.0  ...   \n",
      "2021-07-04  24.0  42.0  31.0  31.0  31.0  16.0  23.0  28.0  28.0   22.0  ...   \n",
      "\n",
      "            lag446  lag447  lag448  lag449  lag450  hour  day  month  \\\n",
      "date                                                                   \n",
      "2021-04-19     0.0     0.0     1.0     0.0     3.0     0   19      4   \n",
      "2021-04-20     0.0     0.0     0.0     1.0     0.0     0   20      4   \n",
      "2021-04-21     0.0     0.0     0.0     0.0     1.0     0   21      4   \n",
      "2021-04-22     0.0     0.0     0.0     0.0     0.0     0   22      4   \n",
      "2021-04-23     0.0     0.0     0.0     0.0     0.0     0   23      4   \n",
      "...            ...     ...     ...     ...     ...   ...  ...    ...   \n",
      "2021-06-30    30.0    41.0    44.0    44.0    40.0     0   30      6   \n",
      "2021-07-01    18.0    30.0    41.0    44.0    44.0     0    1      7   \n",
      "2021-07-02     9.0    18.0    30.0    41.0    44.0     0    2      7   \n",
      "2021-07-03     7.0     9.0    18.0    30.0    41.0     0    3      7   \n",
      "2021-07-04    21.0     7.0     9.0    18.0    30.0     0    4      7   \n",
      "\n",
      "            day_of_week  week_of_year  \n",
      "date                                   \n",
      "2021-04-19            0            16  \n",
      "2021-04-20            1            16  \n",
      "2021-04-21            2            16  \n",
      "2021-04-22            3            16  \n",
      "2021-04-23            4            16  \n",
      "...                 ...           ...  \n",
      "2021-06-30            2            26  \n",
      "2021-07-01            3            26  \n",
      "2021-07-02            4            26  \n",
      "2021-07-03            5            26  \n",
      "2021-07-04            6            26  \n",
      "\n",
      "[77 rows x 455 columns]\n"
     ]
    }
   ],
   "source": [
    "from sklearn.linear_model import LinearRegression\n",
    "from sklearn.ensemble import RandomForestRegressor, GradientBoostingRegressor\n",
    "\n",
    "def build_baseline_model(df, test_ratio, target_col):\n",
    "    df_ = df.copy()\n",
    "    y = df_.pop('count') \n",
    "    X = df_\n",
    "    X_train, X_test, y_train, y_test = train_test_split(\n",
    "        X, y, test_size=test_ratio, shuffle=False\n",
    "    )\n",
    "    print(X_train)\n",
    "    model = GradientBoostingRegressor()\n",
    "    model.fit(X_train, y_train)\n",
    "    prediction = model.predict(X_test)\n",
    "\n",
    "    result = pd.DataFrame(y_test)\n",
    "    result[\"prediction\"] = prediction\n",
    "    result = result.sort_index()\n",
    "\n",
    "    return result, model\n",
    "\n",
    "df_baseline, model = build_baseline_model(df_transformed, 0.2, 'count')\n",
    "baseline_metrics = calculate_metrics(df_baseline)\n"
   ]
  },
  {
   "cell_type": "code",
   "execution_count": 178,
   "metadata": {},
   "outputs": [],
   "source": [
    "yhat_base = model.predict(df_transformed.drop(columns=['count']).to_numpy())"
   ]
  },
  {
   "cell_type": "code",
   "execution_count": 179,
   "metadata": {},
   "outputs": [],
   "source": [
    "df_transformed['yhat_base'] = yhat_base"
   ]
  },
  {
   "cell_type": "code",
   "execution_count": 184,
   "metadata": {},
   "outputs": [
    {
     "data": {
      "text/plain": [
       "<AxesSubplot:xlabel='date'>"
      ]
     },
     "execution_count": 184,
     "metadata": {},
     "output_type": "execute_result"
    },
    {
     "data": {
      "image/png": "[encoded data removed]",
      "text/plain": [
       "<Figure size 432x288 with 1 Axes>"
      ]
     },
     "metadata": {
      "needs_background": "light"
     },
     "output_type": "display_data"
    }
   ],
   "source": [
    "df_transformed[['yhat_base', 'count', 'lag450']].plot()"
   ]
  },
  {
   "cell_type": "code",
   "execution_count": 114,
   "metadata": {},
   "outputs": [
    {
     "data": {
      "text/plain": [
       "{'mae': 21.661610918256432,\n",
       " 'rmse': 38.675494965810394,\n",
       " 'r2': -0.1109192439858182}"
      ]
     },
     "execution_count": 114,
     "metadata": {},
     "output_type": "execute_result"
    }
   ],
   "source": [
    "baseline_metrics"
   ]
  }
 ],
 "metadata": {
  "instance_type": "ml.t3.medium",
  "kernelspec": {
   "display_name": "Python 3 (PyTorch 1.6 Python 3.6 CPU Optimized)",
   "language": "python",
   "name": "python3__SAGEMAKER_INTERNAL__arn:aws:sagemaker:ap-southeast-2:452832661640:image/pytorch-1.6-cpu-py36-ubuntu16.04-v1"
  },
  "language_info": {
   "codemirror_mode": {
    "name": "ipython",
    "version": 3
   },
   "file_extension": ".py",
   "mimetype": "text/x-python",
   "name": "python",
   "nbconvert_exporter": "python",
   "pygments_lexer": "ipython3",
   "version": "3.6.13"
  }
 },
 "nbformat": 4,
 "nbformat_minor": 4
}
